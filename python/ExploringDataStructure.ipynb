{
 "cells": [
  {
   "cell_type": "code",
   "execution_count": 2,
   "id": "3ecabcb1-2237-49e9-b3d5-6275a8e664cc",
   "metadata": {},
   "outputs": [],
   "source": [
    "import pandas as pd\n",
    "import numpy as np\n",
    "import matplotlib.pyplot as plt\n",
    "import anndata\n",
    "import geopandas as gpd\n",
    "import scanpy as sc\n",
    "from PIL import Image # Converting image\n",
    "import os # for parquet file\n",
    "from pathlib import Path\n",
    "\n",
    "# from tifffile import imread, imwrite\n",
    "# from csbdeep.utils import normalize\n",
    "# from stardist.models import StarDist2D\n",
    "from shapely.geometry import Polygon, Point\n",
    "from scipy import sparse\n",
    "from matplotlib.colors import ListedColormap\n",
    "from matplotlib.widgets import LassoSelector\n",
    "from matplotlib.path import Path as MplPath \n",
    "%matplotlib widget"
   ]
  },
  {
   "cell_type": "code",
   "execution_count": 3,
   "id": "269e5459-02e1-4ef4-9bf2-1afc348b580e",
   "metadata": {},
   "outputs": [],
   "source": [
    "SEGMENTATION_PATH = Path(\"/mnt/c/Users/jonan/Documents/1Work/RoseLab/Spatial/\"\n",
    "                         \"dietary_droject/data/cell_segmentation\")\n",
    "\n",
    "sample_id = \"F07833\"\n",
    "\n",
    "adata_path = SEGMENTATION_PATH / sample_id / f\"{sample_id}_grouped_filtered_adata_rebinned.h5ad\"\n",
    "gdf_file = SEGMENTATION_PATH / sample_id / f\"{sample_id}_gdf_rebinned.gpkg\"\n",
    "\n",
    "# Load adata\n",
    "ST_sample = sc.read_h5ad(adata_path)\n",
    "# load your polygons\n",
    "geo_file = gpd.read_file(gdf_file)"
   ]
  },
  {
   "cell_type": "code",
   "execution_count": 4,
   "id": "54374978-dcff-44a9-bc8b-d97a6f7e5cd1",
   "metadata": {},
   "outputs": [
    {
     "name": "stdout",
     "output_type": "stream",
     "text": [
      "Index(['id'], dtype='object')\n",
      "Index(['gene_ids', 'feature_types', 'genome'], dtype='object')\n"
     ]
    }
   ],
   "source": [
    "print(ST_sample.obs.columns) # shows columns in observation metadata (cells/spots)\n",
    "print(ST_sample.var.columns) # shows columns in variable metadata (genes)"
   ]
  },
  {
   "cell_type": "code",
   "execution_count": 5,
   "id": "f7a0ff96-fd31-415b-8ed1-996cd4cb7bc1",
   "metadata": {
    "scrolled": true
   },
   "outputs": [
    {
     "name": "stdout",
     "output_type": "stream",
     "text": [
      "Index(['id', 'area', 'geometry'], dtype='object')\n"
     ]
    }
   ],
   "source": [
    "print(geo_file.columns)"
   ]
  },
  {
   "cell_type": "code",
   "execution_count": 14,
   "id": "014825b8-5765-4d28-93ac-f9142d621092",
   "metadata": {
    "scrolled": true
   },
   "outputs": [
    {
     "data": {
      "text/plain": [
       "ID_10            ID_10\n",
       "ID_100          ID_100\n",
       "ID_1000        ID_1000\n",
       "ID_10000      ID_10000\n",
       "ID_100000    ID_100000\n",
       "               ...    \n",
       "ID_99993      ID_99993\n",
       "ID_99994      ID_99994\n",
       "ID_99995      ID_99995\n",
       "ID_99997      ID_99997\n",
       "ID_99999      ID_99999\n",
       "Name: id, Length: 216518, dtype: object"
      ]
     },
     "execution_count": 14,
     "metadata": {},
     "output_type": "execute_result"
    }
   ],
   "source": [
    "ST_sample.obs['id']"
   ]
  },
  {
   "cell_type": "code",
   "execution_count": 17,
   "id": "04400b9e-96cf-4fd3-9912-db69c758a203",
   "metadata": {},
   "outputs": [
    {
     "name": "stdout",
     "output_type": "stream",
     "text": [
      "                       0\n",
      "n_ids      216518.000000\n",
      "id_min          5.000000\n",
      "id_q1       68713.500000\n",
      "id_median  138935.500000\n",
      "id_mean    139613.980939\n",
      "id_q3      210232.750000\n",
      "id_max     281723.000000\n",
      "id_std      81568.878439\n",
      "id_iqr     141519.250000\n"
     ]
    }
   ],
   "source": [
    "# 1. Grab ID strings\n",
    "id_strings = ST_sample.obs['id']\n",
    "\n",
    "# 2. Strip \"ID_\" and convert to integers\n",
    "id_numbers = id_strings.str.replace(\"ID_\", \"\").astype(int)\n",
    "\n",
    "# 3. Compute summary statistics\n",
    "id_summary = {\n",
    "    \"n_ids\": len(id_numbers),\n",
    "    \"id_min\": np.min(id_numbers),\n",
    "    \"id_q1\": np.percentile(id_numbers, 25),\n",
    "    \"id_median\": np.median(id_numbers),\n",
    "    \"id_mean\": np.mean(id_numbers),\n",
    "    \"id_q3\": np.percentile(id_numbers, 75),\n",
    "    \"id_max\": np.max(id_numbers),\n",
    "    \"id_std\": np.std(id_numbers),\n",
    "    \"id_iqr\": np.percentile(id_numbers, 75) - np.percentile(id_numbers, 25)\n",
    "}\n",
    "\n",
    "# 4. Show nicely\n",
    "summary_df = pd.DataFrame([id_summary])\n",
    "print(summary_df.T)\n"
   ]
  },
  {
   "cell_type": "code",
   "execution_count": 19,
   "id": "47618056-fae6-4797-980b-ced431d6317f",
   "metadata": {},
   "outputs": [
    {
     "data": {
      "text/plain": [
       "0              5\n",
       "1              6\n",
       "2              8\n",
       "3              9\n",
       "4             10\n",
       "           ...  \n",
       "216513    281718\n",
       "216514    281719\n",
       "216515    281720\n",
       "216516    281721\n",
       "216517    281723\n",
       "Name: id, Length: 216518, dtype: int64"
      ]
     },
     "execution_count": 19,
     "metadata": {},
     "output_type": "execute_result"
    }
   ],
   "source": [
    "id_numbers.mode()"
   ]
  },
  {
   "cell_type": "code",
   "execution_count": 16,
   "id": "d00322a3-b5f2-4b1e-b82e-6dfe4efa1920",
   "metadata": {},
   "outputs": [
    {
     "data": {
      "text/plain": [
       "id\n",
       "ID_99999     1\n",
       "ID_10        1\n",
       "ID_100       1\n",
       "ID_1000      1\n",
       "ID_10000     1\n",
       "            ..\n",
       "ID_100008    1\n",
       "ID_100007    1\n",
       "ID_100006    1\n",
       "ID_100003    1\n",
       "ID_100002    1\n",
       "Name: count, Length: 216518, dtype: int64"
      ]
     },
     "execution_count": 16,
     "metadata": {},
     "output_type": "execute_result"
    }
   ],
   "source": [
    "\n",
    "ST_sample.obs['id'].value_counts()\n"
   ]
  },
  {
   "cell_type": "code",
   "execution_count": 7,
   "id": "3b6ca480-8fe0-47b7-94da-24d7f56b2e85",
   "metadata": {},
   "outputs": [
    {
     "data": {
      "text/html": [
       "<div>\n",
       "<style scoped>\n",
       "    .dataframe tbody tr th:only-of-type {\n",
       "        vertical-align: middle;\n",
       "    }\n",
       "\n",
       "    .dataframe tbody tr th {\n",
       "        vertical-align: top;\n",
       "    }\n",
       "\n",
       "    .dataframe thead th {\n",
       "        text-align: right;\n",
       "    }\n",
       "</style>\n",
       "<table border=\"1\" class=\"dataframe\">\n",
       "  <thead>\n",
       "    <tr style=\"text-align: right;\">\n",
       "      <th></th>\n",
       "      <th>gene_ids</th>\n",
       "      <th>feature_types</th>\n",
       "      <th>genome</th>\n",
       "    </tr>\n",
       "  </thead>\n",
       "  <tbody>\n",
       "    <tr>\n",
       "      <th>Xkr4</th>\n",
       "      <td>ENSMUSG00000051951</td>\n",
       "      <td>Gene Expression</td>\n",
       "      <td>mm10</td>\n",
       "    </tr>\n",
       "    <tr>\n",
       "      <th>Rp1</th>\n",
       "      <td>ENSMUSG00000025900</td>\n",
       "      <td>Gene Expression</td>\n",
       "      <td>mm10</td>\n",
       "    </tr>\n",
       "    <tr>\n",
       "      <th>Sox17</th>\n",
       "      <td>ENSMUSG00000025902</td>\n",
       "      <td>Gene Expression</td>\n",
       "      <td>mm10</td>\n",
       "    </tr>\n",
       "    <tr>\n",
       "      <th>Lypla1</th>\n",
       "      <td>ENSMUSG00000025903</td>\n",
       "      <td>Gene Expression</td>\n",
       "      <td>mm10</td>\n",
       "    </tr>\n",
       "    <tr>\n",
       "      <th>Tcea1</th>\n",
       "      <td>ENSMUSG00000033813</td>\n",
       "      <td>Gene Expression</td>\n",
       "      <td>mm10</td>\n",
       "    </tr>\n",
       "  </tbody>\n",
       "</table>\n",
       "</div>"
      ],
      "text/plain": [
       "                  gene_ids    feature_types genome\n",
       "Xkr4    ENSMUSG00000051951  Gene Expression   mm10\n",
       "Rp1     ENSMUSG00000025900  Gene Expression   mm10\n",
       "Sox17   ENSMUSG00000025902  Gene Expression   mm10\n",
       "Lypla1  ENSMUSG00000025903  Gene Expression   mm10\n",
       "Tcea1   ENSMUSG00000033813  Gene Expression   mm10"
      ]
     },
     "execution_count": 7,
     "metadata": {},
     "output_type": "execute_result"
    }
   ],
   "source": [
    "ST_sample.var.head()"
   ]
  },
  {
   "cell_type": "code",
   "execution_count": 8,
   "id": "33df308c-0a85-49b0-a61f-8f6e3f9b01ae",
   "metadata": {},
   "outputs": [
    {
     "data": {
      "text/plain": [
       "odict_keys([])"
      ]
     },
     "execution_count": 8,
     "metadata": {},
     "output_type": "execute_result"
    }
   ],
   "source": [
    "ST_sample.uns.keys()  # unstructured data (e.g., clustering results, metadata)"
   ]
  },
  {
   "cell_type": "code",
   "execution_count": 9,
   "id": "0a965514-772f-4ac4-8603-1a8101855722",
   "metadata": {},
   "outputs": [
    {
     "data": {
      "text/plain": [
       "KeysView(AxisArrays with keys: )"
      ]
     },
     "execution_count": 9,
     "metadata": {},
     "output_type": "execute_result"
    }
   ],
   "source": [
    "ST_sample.obsm.keys() # multidimensional annotations (e.g., PCA, UMAP coordinates)"
   ]
  },
  {
   "cell_type": "code",
   "execution_count": 10,
   "id": "198ba40b-780c-4304-87ad-f77a11c2a3ed",
   "metadata": {},
   "outputs": [
    {
     "data": {
      "text/plain": [
       "KeysView(AxisArrays with keys: )"
      ]
     },
     "execution_count": 10,
     "metadata": {},
     "output_type": "execute_result"
    }
   ],
   "source": [
    "ST_sample.varm.keys()"
   ]
  },
  {
   "cell_type": "code",
   "execution_count": null,
   "id": "538138c7-8086-481c-9ca9-e1c73deaf367",
   "metadata": {},
   "outputs": [],
   "source": []
  },
  {
   "cell_type": "markdown",
   "id": "dea7b3ad-203b-45d2-9362-7a8a8017ec30",
   "metadata": {},
   "source": [
    "# Exploring geo_file"
   ]
  },
  {
   "cell_type": "code",
   "execution_count": 21,
   "id": "c2393b01-b29a-405e-afc5-b88cec497b7f",
   "metadata": {},
   "outputs": [],
   "source": [
    "SEGMENTATION_PATH = Path(\"/mnt/c/Users/jonan/Documents/1Work/RoseLab/Spatial/\"\n",
    "                         \"dietary_droject/data/cell_segmentation\")\n",
    "\n",
    "sample_id = \"F07833\"\n",
    "\n",
    "# adata_path = SEGMENTATION_PATH / sample_id / f\"{sample_id}_grouped_filtered_adata_rebinned.h5ad\"\n",
    "gdf_file = SEGMENTATION_PATH / sample_id / f\"{sample_id}_gdf_rebinned.gpkg\"\n",
    "\n",
    "# Load adata\n",
    "# ST_sample = sc.read_h5ad(adata_path)\n",
    "# load your polygons\n",
    "geo_file = gpd.read_file(gdf_file)"
   ]
  },
  {
   "cell_type": "code",
   "execution_count": null,
   "id": "51bae6cb-727c-42c4-8779-8d641a8f9b50",
   "metadata": {},
   "outputs": [],
   "source": []
  },
  {
   "cell_type": "code",
   "execution_count": null,
   "id": "9c602afb-4422-4558-9f7b-d59be493d45c",
   "metadata": {},
   "outputs": [],
   "source": []
  },
  {
   "cell_type": "code",
   "execution_count": null,
   "id": "d2c8dd78-41da-4301-9283-d4f9166e7e1c",
   "metadata": {},
   "outputs": [],
   "source": []
  },
  {
   "cell_type": "markdown",
   "id": "9e6b9261-ecce-4ba4-b12c-058c8b617577",
   "metadata": {},
   "source": [
    "# Check ID and barcode mappings"
   ]
  },
  {
   "cell_type": "code",
   "execution_count": 24,
   "id": "7ff4718a-6b8e-4de1-a5b6-1cb1c490e79f",
   "metadata": {},
   "outputs": [],
   "source": [
    "# Checking the ID matching\n",
    "import pandas as pd\n",
    "\n",
    "SEGMENTATION_PATH = Path(\"/mnt/c/Users/jonan/Documents/1Work/RoseLab/Spatial/\"\n",
    "                         \"dietary_droject/data/cell_segmentation\")\n",
    "\n",
    "sample_id = \"F07833\"\n",
    "\n",
    "# Load your AnnData (filtered and rebinned version)\n",
    "import scanpy as sc\n",
    "ST_sample = sc.read_h5ad(SEGMENTATION_PATH / sample_id /f\"{sample_id}_grouped_filtered_adata_rebinned.h5ad\")\n",
    "# Load your saved barcode-to-nucleus mapping\n",
    "barcode_to_nucleus = pd.read_csv( SEGMENTATION_PATH / sample_id / f\"{sample_id}_barcode_to_nucleus_mapping.csv\")"
   ]
  },
  {
   "cell_type": "code",
   "execution_count": 25,
   "id": "26ef2efc-943b-41cf-b124-e5949ab1929c",
   "metadata": {},
   "outputs": [
    {
     "name": "stdout",
     "output_type": "stream",
     "text": [
      "Number of IDs in ST_sample: 216518\n",
      "Number of IDs in CSV: 216578\n",
      "❌ Mismatch detected:\n",
      " - IDs in CSV but missing from ST_sample: {'ID_2309', 'ID_95063', 'ID_147850', 'ID_144575', 'ID_81345', 'ID_233710', 'ID_141685', 'ID_218323', 'ID_224233', 'ID_7804', 'ID_32781', 'ID_233267', 'ID_157798', 'ID_39639', 'ID_276835', 'ID_252433', 'ID_2', 'ID_1181', 'ID_190638', 'ID_180609', 'ID_53657', 'ID_90822', 'ID_266508', 'ID_278767', 'ID_253977', 'ID_194227', 'ID_28641', 'ID_260392', 'ID_210114', 'ID_26761', 'ID_129647', 'ID_271074', 'ID_175809', 'ID_184614', 'ID_272505', 'ID_196795', 'ID_146187', 'ID_260190', 'ID_207337', 'ID_253223', 'ID_253053', 'ID_197586', 'ID_263387', 'ID_449', 'ID_246860', 'ID_42258', 'ID_245044', 'ID_30802', 'ID_229150', 'ID_2187', 'ID_172435', 'ID_119020', 'ID_83355', 'ID_60796', 'ID_94443', 'ID_280549', 'ID_208474', 'ID_260134', 'ID_57794', 'ID_272197'}\n"
     ]
    }
   ],
   "source": [
    "# Extract IDs from ST_sample\n",
    "ids_from_adata = set(ST_sample.obs['id'])\n",
    "\n",
    "# Extract IDs from CSV\n",
    "ids_from_csv = set(barcode_to_nucleus['id'])\n",
    "\n",
    "# sanity checks:\n",
    "missing_in_csv = ids_from_adata - ids_from_csv\n",
    "missing_in_adata = ids_from_csv - ids_from_adata\n",
    "\n",
    "print(f\"Number of IDs in ST_sample: {len(ids_from_adata)}\")\n",
    "print(f\"Number of IDs in CSV: {len(ids_from_csv)}\")\n",
    "\n",
    "if len(missing_in_csv) == 0 and len(missing_in_adata) == 0:\n",
    "    print(\"✅ Perfect match: All IDs match between ST_sample and the CSV!\")\n",
    "else:\n",
    "    print(\"❌ Mismatch detected:\")\n",
    "    if missing_in_csv:\n",
    "        print(f\" - IDs in ST_sample but missing from CSV: {missing_in_csv}\")\n",
    "    if missing_in_adata:\n",
    "        print(f\" - IDs in CSV but missing from ST_sample: {missing_in_adata}\")"
   ]
  },
  {
   "cell_type": "code",
   "execution_count": null,
   "id": "4fe43c2a-0138-427c-b481-1f57630db5f3",
   "metadata": {},
   "outputs": [],
   "source": []
  },
  {
   "cell_type": "code",
   "execution_count": null,
   "id": "5fc1d71c-6bc8-4237-bbbc-4ef161ae3a52",
   "metadata": {},
   "outputs": [],
   "source": []
  }
 ],
 "metadata": {
  "kernelspec": {
   "display_name": "Python (spatial_analysis)",
   "language": "python",
   "name": "spatial_analysis"
  },
  "language_info": {
   "codemirror_mode": {
    "name": "ipython",
    "version": 3
   },
   "file_extension": ".py",
   "mimetype": "text/x-python",
   "name": "python",
   "nbconvert_exporter": "python",
   "pygments_lexer": "ipython3",
   "version": "3.10.17"
  }
 },
 "nbformat": 4,
 "nbformat_minor": 5
}
