{
 "cells": [
  {
   "cell_type": "code",
   "execution_count": 1,
   "id": "a7b12b26-fcbe-4a59-af8d-296edf7d3f33",
   "metadata": {},
   "outputs": [
    {
     "name": "stderr",
     "output_type": "stream",
     "text": [
      "2025-04-15 15:11:54.117089: E external/local_xla/xla/stream_executor/cuda/cuda_fft.cc:467] Unable to register cuFFT factory: Attempting to register factory for plugin cuFFT when one has already been registered\n",
      "WARNING: All log messages before absl::InitializeLog() is called are written to STDERR\n",
      "E0000 00:00:1744755114.177211    1394 cuda_dnn.cc:8579] Unable to register cuDNN factory: Attempting to register factory for plugin cuDNN when one has already been registered\n",
      "E0000 00:00:1744755114.195592    1394 cuda_blas.cc:1407] Unable to register cuBLAS factory: Attempting to register factory for plugin cuBLAS when one has already been registered\n",
      "W0000 00:00:1744755114.329139    1394 computation_placer.cc:177] computation placer already registered. Please check linkage and avoid linking the same target more than once.\n",
      "W0000 00:00:1744755114.329163    1394 computation_placer.cc:177] computation placer already registered. Please check linkage and avoid linking the same target more than once.\n",
      "W0000 00:00:1744755114.329164    1394 computation_placer.cc:177] computation placer already registered. Please check linkage and avoid linking the same target more than once.\n",
      "W0000 00:00:1744755114.329166    1394 computation_placer.cc:177] computation placer already registered. Please check linkage and avoid linking the same target more than once.\n",
      "2025-04-15 15:11:54.346335: I tensorflow/core/platform/cpu_feature_guard.cc:210] This TensorFlow binary is optimized to use available CPU instructions in performance-critical operations.\n",
      "To enable the following instructions: AVX2 FMA, in other operations, rebuild TensorFlow with the appropriate compiler flags.\n"
     ]
    }
   ],
   "source": [
    "import pandas as pd\n",
    "import numpy as np\n",
    "import matplotlib.pyplot as plt\n",
    "import anndata\n",
    "import geopandas as gpd\n",
    "import scanpy as sc\n",
    "import visualization_helper # Custom helper functions \n",
    "from PIL import Image # Converting image\n",
    "\n",
    "from tifffile import imread, imwrite\n",
    "from csbdeep.utils import normalize\n",
    "from stardist.models import StarDist2D\n",
    "from shapely.geometry import Polygon, Point\n",
    "from scipy import sparse\n",
    "from matplotlib.colors import ListedColormap\n",
    "\n",
    "%matplotlib inline\n",
    "%config InlineBackend.figure_format = 'retina'\n",
    "\n"
   ]
  },
  {
   "cell_type": "code",
   "execution_count": 2,
   "id": "94079136-593c-4183-97fc-3fd65d2c0f19",
   "metadata": {},
   "outputs": [
    {
     "name": "stdout",
     "output_type": "stream",
     "text": [
      "GPU: /physical_device:GPU:0\n",
      "{'compute_capability': (8, 6), 'device_name': 'NVIDIA GeForce RTX 3080 Ti'}\n"
     ]
    }
   ],
   "source": [
    "import tensorflow as tf\n",
    "\n",
    "gpus = tf.config.list_physical_devices('GPU')\n",
    "for gpu in gpus:\n",
    "    details = tf.config.experimental.get_device_details(gpu)\n",
    "    print(f\"GPU: {gpu.name}\")\n",
    "    print(details)\n"
   ]
  },
  {
   "cell_type": "code",
   "execution_count": 12,
   "id": "d0172359-7de4-477a-8ef7-a28705b6ace6",
   "metadata": {},
   "outputs": [
    {
     "name": "stdout",
     "output_type": "stream",
     "text": [
      "Tue Apr 15 15:33:12 2025       \n",
      "+---------------------------------------------------------------------------------------+\n",
      "| NVIDIA-SMI 545.23.08              Driver Version: 572.83       CUDA Version: 12.8     |\n",
      "|-----------------------------------------+----------------------+----------------------+\n",
      "| GPU  Name                 Persistence-M | Bus-Id        Disp.A | Volatile Uncorr. ECC |\n",
      "| Fan  Temp   Perf          Pwr:Usage/Cap |         Memory-Usage | GPU-Util  Compute M. |\n",
      "|                                         |                      |               MIG M. |\n",
      "|=========================================+======================+======================|\n",
      "|   0  NVIDIA GeForce RTX 3080 Ti     On  | 00000000:2B:00.0  On |                  N/A |\n",
      "|  0%   38C    P8              38W / 370W |  11462MiB / 12288MiB |     21%      Default |\n",
      "|                                         |                      |                  N/A |\n",
      "+-----------------------------------------+----------------------+----------------------+\n",
      "                                                                                         \n",
      "+---------------------------------------------------------------------------------------+\n",
      "| Processes:                                                                            |\n",
      "|  GPU   GI   CI        PID   Type   Process name                            GPU Memory |\n",
      "|        ID   ID                                                             Usage      |\n",
      "|=======================================================================================|\n",
      "+---------------------------------------------------------------------------------------+\n",
      "\n"
     ]
    }
   ],
   "source": [
    "import subprocess\n",
    "\n",
    "def print_gpu_memory():\n",
    "    output = subprocess.check_output(['nvidia-smi']).decode('utf-8')\n",
    "    print(output)\n",
    "\n",
    "print_gpu_memory()"
   ]
  },
  {
   "cell_type": "code",
   "execution_count": 5,
   "id": "761a1039-ece9-41dc-b603-3d03161d0db1",
   "metadata": {},
   "outputs": [],
   "source": [
    "def stardist_2D_versatile_he(img, nms_thresh=None, prob_thresh=None):\n",
    "    # axis_norm = (0,1)   # normalize channels independently\n",
    "    axis_norm = (0, 1, 2)  # normalize channels jointly\n",
    "    # Make sure to normalize the input image beforehand or supply a normalizer to the prediction function.\n",
    "    # this is the default normalizer noted in StarDist examples.\n",
    "    img = normalize(img, 1, 99.8, axis=axis_norm)\n",
    "    model = StarDist2D.from_pretrained(\"2D_versatile_he\")\n",
    "    labels, _ = model.predict_instances(\n",
    "        img, nms_thresh=nms_thresh, prob_thresh=prob_thresh\n",
    "    )\n",
    "    return labels"
   ]
  },
  {
   "cell_type": "code",
   "execution_count": 11,
   "id": "4c4b443a-ebdf-4ad3-9c00-cb1b3e9719a7",
   "metadata": {
    "scrolled": true
   },
   "outputs": [
    {
     "name": "stdout",
     "output_type": "stream",
     "text": [
      "(6000, 5656, 3)\n"
     ]
    }
   ],
   "source": [
    "dir_base = (\n",
    "    '/mnt/c/Users/jonan/Documents/1Work/RoseLab/Spatial/'\n",
    "    'dietary_droject/data/Rose_Li_VisiumHD/'\n",
    "    'BANOSSM_SSM0015_1_PR_Whole_C1_VISHD_F07833_22WJCYLT3/outs/spatial/'\n",
    ")\n",
    "\n",
    "\n",
    "filename = 'tissue_hires_image.png'\n",
    "\n",
    "img_pil = Image.open(dir_base + filename).convert(\"RGB\")\n",
    "img_np = np.array(img_pil)\n",
    "\n",
    "# Normalize across all channels\n",
    "img_norm = normalize(img_np, 1, 99.8, axis=(0, 1, 2))\n",
    "print(img_np.shape)\n"
   ]
  },
  {
   "cell_type": "code",
   "execution_count": 10,
   "id": "1f60e54e-0cd0-4240-9ffa-ce6a3f29a657",
   "metadata": {},
   "outputs": [
    {
     "name": "stdout",
     "output_type": "stream",
     "text": [
      "Found model '2D_versatile_he' for 'StarDist2D'.\n",
      "Loading network weights from 'weights_best.h5'.\n",
      "Loading thresholds from 'thresholds.json'.\n",
      "Using default values: prob_thresh=0.692478, nms_thresh=0.3.\n",
      "Help on method _predict_instances_generator in module stardist.models.base:\n",
      "\n",
      "_predict_instances_generator(img, axes=None, normalizer=None, sparse=True, prob_thresh=None, nms_thresh=None, scale=None, n_tiles=None, show_tile_progress=True, verbose=False, return_labels=True, predict_kwargs=None, nms_kwargs=None, overlap_label=None, return_predict=False) method of stardist.models.model2d.StarDist2D instance\n",
      "    Predict instance segmentation from input image.\n",
      "    \n",
      "    Parameters\n",
      "    ----------\n",
      "    img : :class:`numpy.ndarray`\n",
      "        Input image\n",
      "    axes : str or None\n",
      "        Axes of the input ``img``.\n",
      "        ``None`` denotes that axes of img are the same as denoted in the config.\n",
      "    normalizer : :class:`csbdeep.data.Normalizer` or None\n",
      "        (Optional) normalization of input image before prediction.\n",
      "        Note that the default (``None``) assumes ``img`` to be already normalized.\n",
      "    sparse: bool\n",
      "        If true, aggregate probabilities/distances sparsely during tiled\n",
      "        prediction to save memory (recommended).\n",
      "    prob_thresh : float or None\n",
      "        Consider only object candidates from pixels with predicted object probability\n",
      "        above this threshold (also see `optimize_thresholds`).\n",
      "    nms_thresh : float or None\n",
      "        Perform non-maximum suppression that considers two objects to be the same\n",
      "        when their area/surface overlap exceeds this threshold (also see `optimize_thresholds`).\n",
      "    scale: None or float or iterable\n",
      "        Scale the input image internally by this factor and rescale the output accordingly.\n",
      "        All spatial axes (X,Y,Z) will be scaled if a scalar value is provided.\n",
      "        Alternatively, multiple scale values (compatible with input `axes`) can be used\n",
      "        for more fine-grained control (scale values for non-spatial axes must be 1).\n",
      "    n_tiles : iterable or None\n",
      "        Out of memory (OOM) errors can occur if the input image is too large.\n",
      "        To avoid this problem, the input image is broken up into (overlapping) tiles\n",
      "        that are processed independently and re-assembled.\n",
      "        This parameter denotes a tuple of the number of tiles for every image axis (see ``axes``).\n",
      "        ``None`` denotes that no tiling should be used.\n",
      "    show_tile_progress: bool\n",
      "        Whether to show progress during tiled prediction.\n",
      "    verbose: bool\n",
      "        Whether to print some info messages.\n",
      "    return_labels: bool\n",
      "        Whether to create a label image, otherwise return None in its place.\n",
      "    predict_kwargs: dict\n",
      "        Keyword arguments for ``predict`` function of Keras model.\n",
      "    nms_kwargs: dict\n",
      "        Keyword arguments for non-maximum suppression.\n",
      "    overlap_label: scalar or None\n",
      "        if not None, label the regions where polygons overlap with that value\n",
      "    return_predict: bool\n",
      "        Also return the outputs of :func:`predict` (in a separate tuple)\n",
      "        If True, implies sparse = False\n",
      "    \n",
      "    Returns\n",
      "    -------\n",
      "    (:class:`numpy.ndarray`, dict), (optional: return tuple of :func:`predict`)\n",
      "        Returns a tuple of the label instances image and also\n",
      "        a dictionary with the details (coordinates, etc.) of all remaining polygons/polyhedra.\n",
      "\n"
     ]
    }
   ],
   "source": [
    "from stardist.models import StarDist2D\n",
    "\n",
    "model = StarDist2D.from_pretrained(\"2D_versatile_he\")\n",
    "help(model.predict_instances)"
   ]
  },
  {
   "cell_type": "code",
   "execution_count": 46,
   "id": "66477b34-f0af-4fe9-af08-4a2e2871ada8",
   "metadata": {
    "scrolled": true
   },
   "outputs": [
    {
     "name": "stdout",
     "output_type": "stream",
     "text": [
      "Found model '2D_versatile_he' for 'StarDist2D'.\n",
      "Loading network weights from 'weights_best.h5'.\n",
      "Loading thresholds from 'thresholds.json'.\n",
      "Using default values: prob_thresh=0.692478, nms_thresh=0.3.\n"
     ]
    },
    {
     "name": "stderr",
     "output_type": "stream",
     "text": [
      "  0%|                                                                                       | 0/400 [00:00<?, ?it/s]2025-04-15 16:59:47.184553: E external/local_xla/xla/stream_executor/cuda/cuda_timer.cc:86] Delay kernel timed out: measured time has sub-optimal accuracy. There may be a missing warmup execution, please investigate in Nsight Systems.\n",
      "2025-04-15 16:59:47.528902: E external/local_xla/xla/stream_executor/cuda/cuda_timer.cc:86] Delay kernel timed out: measured time has sub-optimal accuracy. There may be a missing warmup execution, please investigate in Nsight Systems.\n",
      "2025-04-15 16:59:47.633785: E external/local_xla/xla/service/slow_operation_alarm.cc:73] Trying algorithm eng13{} for conv %cudnn-conv-bias-activation.57 = (f32[1,32,2288,2176]{3,2,1,0}, u8[0]{0}) custom-call(f32[1,3,2288,2176]{3,2,1,0} %bitcast.689, f32[32,3,3,3]{3,2,1,0} %bitcast.696, f32[32]{0} %bitcast.698), window={size=3x3 pad=1_1x1_1}, dim_labels=bf01_oi01->bf01, custom_call_target=\"__cudnn$convBiasActivationForward\", metadata={op_type=\"Conv2D\" op_name=\"functional_12_1/conv2d_24_1/convolution\" source_file=\"/home/jon/anaconda3/envs/spatial-nuclei/lib/python3.10/site-packages/tensorflow/python/framework/ops.py\" source_line=1200}, backend_config={\"operation_queue_id\":\"0\",\"wait_on_operation_queues\":[],\"cudnn_conv_backend_config\":{\"conv_result_scale\":1,\"activation_mode\":\"kRelu\",\"side_input_scale\":0,\"leakyrelu_alpha\":0},\"force_earliest_schedule\":false} is taking a while...\n",
      "2025-04-15 16:59:47.973827: E external/local_xla/xla/stream_executor/cuda/cuda_timer.cc:86] Delay kernel timed out: measured time has sub-optimal accuracy. There may be a missing warmup execution, please investigate in Nsight Systems.\n",
      "2025-04-15 16:59:48.432041: E external/local_xla/xla/stream_executor/cuda/cuda_timer.cc:86] Delay kernel timed out: measured time has sub-optimal accuracy. There may be a missing warmup execution, please investigate in Nsight Systems.\n",
      "2025-04-15 16:59:48.747641: E external/local_xla/xla/stream_executor/cuda/cuda_timer.cc:86] Delay kernel timed out: measured time has sub-optimal accuracy. There may be a missing warmup execution, please investigate in Nsight Systems.\n",
      "2025-04-15 16:59:48.755047: E external/local_xla/xla/service/slow_operation_alarm.cc:140] The operation took 2.12141357s\n",
      "Trying algorithm eng13{} for conv %cudnn-conv-bias-activation.57 = (f32[1,32,2288,2176]{3,2,1,0}, u8[0]{0}) custom-call(f32[1,3,2288,2176]{3,2,1,0} %bitcast.689, f32[32,3,3,3]{3,2,1,0} %bitcast.696, f32[32]{0} %bitcast.698), window={size=3x3 pad=1_1x1_1}, dim_labels=bf01_oi01->bf01, custom_call_target=\"__cudnn$convBiasActivationForward\", metadata={op_type=\"Conv2D\" op_name=\"functional_12_1/conv2d_24_1/convolution\" source_file=\"/home/jon/anaconda3/envs/spatial-nuclei/lib/python3.10/site-packages/tensorflow/python/framework/ops.py\" source_line=1200}, backend_config={\"operation_queue_id\":\"0\",\"wait_on_operation_queues\":[],\"cudnn_conv_backend_config\":{\"conv_result_scale\":1,\"activation_mode\":\"kRelu\",\"side_input_scale\":0,\"leakyrelu_alpha\":0},\"force_earliest_schedule\":false} is taking a while...\n",
      "2025-04-15 16:59:51.364255: E external/local_xla/xla/stream_executor/cuda/cuda_timer.cc:86] Delay kernel timed out: measured time has sub-optimal accuracy. There may be a missing warmup execution, please investigate in Nsight Systems.\n",
      "2025-04-15 16:59:51.726809: E external/local_xla/xla/stream_executor/cuda/cuda_timer.cc:86] Delay kernel timed out: measured time has sub-optimal accuracy. There may be a missing warmup execution, please investigate in Nsight Systems.\n",
      "2025-04-15 16:59:51.765696: E external/local_xla/xla/service/slow_operation_alarm.cc:73] Trying algorithm eng13{} for conv %cudnn-conv-bias-activation.58 = (f32[1,32,2288,2176]{3,2,1,0}, u8[0]{0}) custom-call(f32[1,32,2288,2176]{3,2,1,0} %bitcast.703, f32[32,32,3,3]{3,2,1,0} %bitcast.710, f32[32]{0} %bitcast.712), window={size=3x3 pad=1_1x1_1}, dim_labels=bf01_oi01->bf01, custom_call_target=\"__cudnn$convBiasActivationForward\", metadata={op_type=\"Conv2D\" op_name=\"functional_12_1/conv2d_25_1/convolution\" source_file=\"/home/jon/anaconda3/envs/spatial-nuclei/lib/python3.10/site-packages/tensorflow/python/framework/ops.py\" source_line=1200}, backend_config={\"operation_queue_id\":\"0\",\"wait_on_operation_queues\":[],\"cudnn_conv_backend_config\":{\"conv_result_scale\":1,\"activation_mode\":\"kRelu\",\"side_input_scale\":0,\"leakyrelu_alpha\":0},\"force_earliest_schedule\":false} is taking a while...\n",
      "2025-04-15 16:59:52.142587: E external/local_xla/xla/stream_executor/cuda/cuda_timer.cc:86] Delay kernel timed out: measured time has sub-optimal accuracy. There may be a missing warmup execution, please investigate in Nsight Systems.\n",
      "2025-04-15 16:59:52.480652: E external/local_xla/xla/stream_executor/cuda/cuda_timer.cc:86] Delay kernel timed out: measured time has sub-optimal accuracy. There may be a missing warmup execution, please investigate in Nsight Systems.\n",
      "2025-04-15 16:59:52.908226: E external/local_xla/xla/stream_executor/cuda/cuda_timer.cc:86] Delay kernel timed out: measured time has sub-optimal accuracy. There may be a missing warmup execution, please investigate in Nsight Systems.\n",
      "2025-04-15 16:59:53.318599: E external/local_xla/xla/stream_executor/cuda/cuda_timer.cc:86] Delay kernel timed out: measured time has sub-optimal accuracy. There may be a missing warmup execution, please investigate in Nsight Systems.\n",
      "2025-04-15 16:59:53.740951: E external/local_xla/xla/stream_executor/cuda/cuda_timer.cc:86] Delay kernel timed out: measured time has sub-optimal accuracy. There may be a missing warmup execution, please investigate in Nsight Systems.\n",
      "2025-04-15 16:59:54.088654: E external/local_xla/xla/stream_executor/cuda/cuda_timer.cc:86] Delay kernel timed out: measured time has sub-optimal accuracy. There may be a missing warmup execution, please investigate in Nsight Systems.\n",
      "2025-04-15 16:59:54.099011: E external/local_xla/xla/service/slow_operation_alarm.cc:140] The operation took 3.333405451s\n",
      "Trying algorithm eng13{} for conv %cudnn-conv-bias-activation.58 = (f32[1,32,2288,2176]{3,2,1,0}, u8[0]{0}) custom-call(f32[1,32,2288,2176]{3,2,1,0} %bitcast.703, f32[32,32,3,3]{3,2,1,0} %bitcast.710, f32[32]{0} %bitcast.712), window={size=3x3 pad=1_1x1_1}, dim_labels=bf01_oi01->bf01, custom_call_target=\"__cudnn$convBiasActivationForward\", metadata={op_type=\"Conv2D\" op_name=\"functional_12_1/conv2d_25_1/convolution\" source_file=\"/home/jon/anaconda3/envs/spatial-nuclei/lib/python3.10/site-packages/tensorflow/python/framework/ops.py\" source_line=1200}, backend_config={\"operation_queue_id\":\"0\",\"wait_on_operation_queues\":[],\"cudnn_conv_backend_config\":{\"conv_result_scale\":1,\"activation_mode\":\"kRelu\",\"side_input_scale\":0,\"leakyrelu_alpha\":0},\"force_earliest_schedule\":false} is taking a while...\n",
      "2025-04-15 16:59:55.098228: E external/local_xla/xla/stream_executor/cuda/cuda_timer.cc:86] Delay kernel timed out: measured time has sub-optimal accuracy. There may be a missing warmup execution, please investigate in Nsight Systems.\n",
      "2025-04-15 16:59:55.269290: E external/local_xla/xla/stream_executor/cuda/cuda_timer.cc:86] Delay kernel timed out: measured time has sub-optimal accuracy. There may be a missing warmup execution, please investigate in Nsight Systems.\n",
      "2025-04-15 16:59:56.250535: W external/local_xla/xla/tsl/framework/bfc_allocator.cc:310] Allocator (GPU_0_bfc) ran out of memory trying to allocate 16.20GiB with freed_by_count=0. The caller indicates that this is not a failure, but this may mean that there could be performance gains if more memory were available.\n",
      "2025-04-15 16:59:56.317284: W external/local_xla/xla/tsl/framework/bfc_allocator.cc:310] Allocator (GPU_0_bfc) ran out of memory trying to allocate 16.27GiB with freed_by_count=0. The caller indicates that this is not a failure, but this may mean that there could be performance gains if more memory were available.\n",
      "2025-04-15 16:59:58.198013: E external/local_xla/xla/stream_executor/cuda/cuda_timer.cc:86] Delay kernel timed out: measured time has sub-optimal accuracy. There may be a missing warmup execution, please investigate in Nsight Systems.\n",
      "2025-04-15 16:59:58.359902: E external/local_xla/xla/stream_executor/cuda/cuda_timer.cc:86] Delay kernel timed out: measured time has sub-optimal accuracy. There may be a missing warmup execution, please investigate in Nsight Systems.\n",
      "2025-04-15 16:59:59.873100: E external/local_xla/xla/service/slow_operation_alarm.cc:73] Trying algorithm eng0{} for conv %cudnn-conv-bias-activation.71 = (f32[1,32,1144,1088]{3,2,1,0}, u8[0]{0}) custom-call(f32[1,64,1144,1088]{3,2,1,0} %bitcast.917, f32[32,64,3,3]{3,2,1,0} %bitcast.924, f32[32]{0} %bitcast.926), window={size=3x3 pad=1_1x1_1}, dim_labels=bf01_oi01->bf01, custom_call_target=\"__cudnn$convBiasActivationForward\", metadata={op_type=\"Conv2D\" op_name=\"functional_12_1/up_level_0_no_0_1/convolution\" source_file=\"/home/jon/anaconda3/envs/spatial-nuclei/lib/python3.10/site-packages/tensorflow/python/framework/ops.py\" source_line=1200}, backend_config={\"operation_queue_id\":\"0\",\"wait_on_operation_queues\":[],\"cudnn_conv_backend_config\":{\"conv_result_scale\":1,\"activation_mode\":\"kRelu\",\"side_input_scale\":0,\"leakyrelu_alpha\":0},\"force_earliest_schedule\":false} is taking a while...\n",
      "2025-04-15 17:00:00.321122: E external/local_xla/xla/service/slow_operation_alarm.cc:140] The operation took 1.448110773s\n",
      "Trying algorithm eng0{} for conv %cudnn-conv-bias-activation.71 = (f32[1,32,1144,1088]{3,2,1,0}, u8[0]{0}) custom-call(f32[1,64,1144,1088]{3,2,1,0} %bitcast.917, f32[32,64,3,3]{3,2,1,0} %bitcast.924, f32[32]{0} %bitcast.926), window={size=3x3 pad=1_1x1_1}, dim_labels=bf01_oi01->bf01, custom_call_target=\"__cudnn$convBiasActivationForward\", metadata={op_type=\"Conv2D\" op_name=\"functional_12_1/up_level_0_no_0_1/convolution\" source_file=\"/home/jon/anaconda3/envs/spatial-nuclei/lib/python3.10/site-packages/tensorflow/python/framework/ops.py\" source_line=1200}, backend_config={\"operation_queue_id\":\"0\",\"wait_on_operation_queues\":[],\"cudnn_conv_backend_config\":{\"conv_result_scale\":1,\"activation_mode\":\"kRelu\",\"side_input_scale\":0,\"leakyrelu_alpha\":0},\"force_earliest_schedule\":false} is taking a while...\n",
      "100%|█████████████████████████████████████████████████████████████████████████████| 400/400 [01:57<00:00,  3.41it/s]\n"
     ]
    }
   ],
   "source": [
    "# Run StarDist segmentation\n",
    "model = StarDist2D.from_pretrained(\"2D_versatile_he\")\n",
    "model_scale = 7\n",
    "labels, _ = model.predict_instances(img_norm,               # Default values\n",
    "                                    scale= model_scale,     # 1\n",
    "                                    n_tiles = (20, 20, 1),  # \n",
    "                                    prob_thresh\n",
    "                                    show_tile_progress=True)"
   ]
  },
  {
   "cell_type": "code",
   "execution_count": 48,
   "id": "12d2e756-e87b-4e84-ba61-30bd3ca00220",
   "metadata": {},
   "outputs": [
    {
     "name": "stdout",
     "output_type": "stream",
     "text": [
      "Overlay saved at:\n",
      "/mnt/c/Users/jonan/Documents/1Work/RoseLab/Spatial/dietary_droject/figures/cell_segmentation/stardist_overlay_scale_7.png\n"
     ]
    }
   ],
   "source": [
    "import matplotlib.pyplot as plt\n",
    "import os\n",
    "\n",
    "# Output directory\n",
    "img_dir = (\n",
    "    '/mnt/c/Users/jonan/Documents/1Work/RoseLab/'\n",
    "    'Spatial/dietary_droject/figures/cell_segmentation/'\n",
    ")\n",
    "os.makedirs(img_dir, exist_ok=True)\n",
    "filename = 'stardist_overlay_scale_' + str(model_scale) + '.png'\n",
    "output_path = os.path.join(img_dir, filename)\n",
    "\n",
    "# output_path = os.path.join(img_dir, 'stardist_overlay_scale_', model_scale, '.png')\n",
    "\n",
    "# === Parameters to TUNE ===\n",
    "segmentation_alpha = 0.4  # transparency of segmentation (0 = fully transparent, 1 = fully opaque)\n",
    "cmap_segmentation = 'cividis'  # you can change this if you prefer other color schemes\n",
    "\n",
    "# === Plot H&E background and segmentation overlay ===\n",
    "plt.figure(figsize=(15, 15))\n",
    "plt.imshow(img_np)  # show H&E image\n",
    "plt.imshow(labels, cmap=cmap_segmentation, alpha=segmentation_alpha)  # overlay with alpha\n",
    "plt.axis('off')\n",
    "plt.title(\"StarDist Segmentation Over H&E\")\n",
    "\n",
    "# Save high-resolution overlay image\n",
    "plt.savefig(output_path, dpi=300, bbox_inches='tight', pad_inches=0)\n",
    "plt.close()\n",
    "\n",
    "print(f\"Overlay saved at:\\n{output_path}\")\n"
   ]
  },
  {
   "cell_type": "code",
   "execution_count": null,
   "id": "e43bbafb-206d-4fe3-a5f3-d8be927a0dd1",
   "metadata": {},
   "outputs": [],
   "source": []
  },
  {
   "cell_type": "code",
   "execution_count": 30,
   "id": "24b941e4-a663-463a-9ab0-99d9eb918770",
   "metadata": {},
   "outputs": [
    {
     "name": "stdout",
     "output_type": "stream",
     "text": [
      "(5656, 6000)\n",
      "(6000, 5656, 3)\n"
     ]
    }
   ],
   "source": [
    "print(img_pil.size)  # returns (width, height)\n",
    "print(img_np.shape) "
   ]
  },
  {
   "cell_type": "code",
   "execution_count": 8,
   "id": "0bf67012-b392-46e6-8172-7548e167799f",
   "metadata": {},
   "outputs": [
    {
     "data": {
      "text/plain": [
       "'/mnt/c/Users/jonan/Documents/1Work/RoseLab/Spatial/dietary_droject/data/Rose_Li_VisiumHD/BANOSSM_SSM0015_1_PR_Whole_C1_VISHD_F07833_22WJCYLT3/outs/spatial/tissue_hires_image.png'"
      ]
     },
     "execution_count": 8,
     "metadata": {},
     "output_type": "execute_result"
    }
   ],
   "source": [
    "dir_base + filename"
   ]
  },
  {
   "cell_type": "code",
   "execution_count": null,
   "id": "9128cd43-faef-4503-802d-b137e863ded2",
   "metadata": {},
   "outputs": [],
   "source": []
  },
  {
   "cell_type": "code",
   "execution_count": null,
   "id": "d962a57c-306d-4f9c-a207-58116b89e502",
   "metadata": {},
   "outputs": [],
   "source": []
  }
 ],
 "metadata": {
  "kernelspec": {
   "display_name": "Python (spatial-nuclei)",
   "language": "python",
   "name": "spatial-nuclei"
  },
  "language_info": {
   "codemirror_mode": {
    "name": "ipython",
    "version": 3
   },
   "file_extension": ".py",
   "mimetype": "text/x-python",
   "name": "python",
   "nbconvert_exporter": "python",
   "pygments_lexer": "ipython3",
   "version": "3.10.17"
  }
 },
 "nbformat": 4,
 "nbformat_minor": 5
}
