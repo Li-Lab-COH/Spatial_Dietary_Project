{
 "cells": [
  {
   "cell_type": "code",
   "execution_count": 2,
   "id": "cda233ad-25f6-444b-85b7-594cf604eac4",
   "metadata": {},
   "outputs": [],
   "source": [
    "import numpy as np\n",
    "import pandas as pd\n",
    "from scipy.sparse import issparse\n",
    "from pathlib import Path\n",
    "import scanpy as sc\n",
    "import geopandas as gpd\n",
    "from sklearn_ann.kneighbors.annoy import AnnoyTransformer\n",
    "# to install %pip install -q \"scanpy\" \"sklearn-ann[annoy]\"\n",
    "import matplotlib.pyplot as plt\n"
   ]
  },
  {
   "cell_type": "code",
   "execution_count": 3,
   "id": "60b800c7-f316-43b6-a4c5-5f15bc1ab857",
   "metadata": {},
   "outputs": [],
   "source": [
    "# segmentation_path = Path(\n",
    "#     \"/mnt/c/Users/jonan/Documents/1Work/RoseLab/Spatial/\"\n",
    "#     \"dietary_droject/data/cell_segmentation\"\n",
    "# )\n",
    "\n",
    "segmentation_path = Path(\"/Users/janzules/Roselab/Spatial/dietary_project/data/segmented_data/\")\n",
    "\n",
    "\n",
    "# full_data_path = segmentation_path / \"concatenated\"\n",
    "# adata_file     = full_data_path / \"combined_adata.h5ad\"\n",
    "adata_file     = segmentation_path / \"combined_adata.h5ad\"\n",
    "\n",
    "# # where to dump CSVs of top markers\n",
    "# hvg_dir = full_data_path / \"analysis\" / \"HVG\"\n",
    "# hvg_dir.mkdir(parents=True, exist_ok=True)\n",
    "\n",
    "# path to your cell-cycle gene lists\n",
    "# geneList = (\n",
    "#     \"/mnt/c/Users/jonan/Documents/1Work/RoseLab/Spatial/\"\n",
    "#     \"dietary_droject/data/cell_typing_reference_from_pc/Gene_lists\"\n",
    "# )\n",
    "\n",
    "geneList = segmentation_path / \"Gene_lists\"\n",
    "\n",
    "# Load data\n",
    "ST_sample = sc.read_h5ad(adata_file)"
   ]
  },
  {
   "cell_type": "code",
   "execution_count": 4,
   "id": "cab1195b-ea34-4e30-be9c-8f3c23163af6",
   "metadata": {},
   "outputs": [
    {
     "name": "stdout",
     "output_type": "stream",
     "text": [
      "Before subsetting: 1193549 cells\n",
      "After subsetting: 347286 cells\n",
      "Remaining sample_ids: ['F07837', 'F07838']\n",
      "Categories (2, object): ['F07837', 'F07838']\n"
     ]
    }
   ],
   "source": [
    "# 1. Print number of cells BEFORE subsetting\n",
    "print(f\"Before subsetting: {ST_sample.n_obs} cells\")\n",
    "\n",
    "# 2. Define the samples you want to keep\n",
    "samples_to_keep = ['F07837', 'F07838']\n",
    "\n",
    "# 3. Perform subsetting\n",
    "ST_sample = ST_sample[ST_sample.obs['sample_id'].isin(samples_to_keep)].copy()\n",
    "\n",
    "# 4. Print number of cells AFTER subsetting\n",
    "print(f\"After subsetting: {ST_sample.n_obs} cells\")\n",
    "\n",
    "# 5. Quick sanity check: Which sample_ids are present now?\n",
    "print(\"Remaining sample_ids:\", ST_sample.obs['sample_id'].unique())"
   ]
  },
  {
   "cell_type": "code",
   "execution_count": 5,
   "id": "62ee4d04-1689-492f-baea-cb37e2f4013e",
   "metadata": {},
   "outputs": [],
   "source": [
    "# Cleaning\n",
    "# Identify mitochondrial genes (prefix 'MT-' for human)\n",
    "ST_sample.var['mito'] = ST_sample.var_names.str.startswith('mt-')\n",
    "\n",
    "#  Run QC metrics\n",
    "sc.pp.calculate_qc_metrics(\n",
    "    ST_sample, \n",
    "    qc_vars=['mito'], \n",
    "    inplace=True, \n",
    "    log1p=False\n",
    ")\n",
    "\n",
    "sc.pp.filter_cells(ST_sample, min_counts=30)\n",
    "sc.pp.filter_genes(ST_sample, min_cells=5)\n",
    "ST_sample = ST_sample[\n",
    "    (ST_sample.obs['total_counts'] >= 100) &\n",
    "    (ST_sample.obs['pct_counts_mito'] <= 15)\n",
    "].copy()"
   ]
  },
  {
   "cell_type": "code",
   "execution_count": 6,
   "id": "683bdd15-497d-4801-82b3-ff68dc12643c",
   "metadata": {},
   "outputs": [],
   "source": [
    "# normalize + log1p\n",
    "sc.pp.normalize_total(ST_sample, target_sum=1e4)\n",
    "sc.pp.log1p(ST_sample)"
   ]
  },
  {
   "cell_type": "code",
   "execution_count": 7,
   "id": "8cc52731-92fe-437f-b9ae-3f029af2f268",
   "metadata": {},
   "outputs": [
    {
     "name": "stdout",
     "output_type": "stream",
     "text": [
      "WARNING: genes are not in var_names and ignored: Index(['Mrpl36'], dtype='object')\n",
      "WARNING: genes are not in var_names and ignored: Index(['Hmgb2'], dtype='object')\n"
     ]
    }
   ],
   "source": [
    "#Cell-cycle scoring\n",
    "with open(f\"{geneList}/cc_mouse_cycle_genes.json\") as jf:\n",
    "    cc = json.load(jf)\n",
    "s_genes_mouse   = cc[\"s_genes\"]\n",
    "g2m_genes_mouse = cc[\"g2m_genes\"]\n",
    "\n",
    "\n",
    "sc.tl.score_genes_cell_cycle(\n",
    "    ST_sample,\n",
    "    s_genes   = s_genes_mouse,\n",
    "    g2m_genes = g2m_genes_mouse,\n",
    "    use_raw   = False\n",
    ")"
   ]
  },
  {
   "cell_type": "code",
   "execution_count": 8,
   "id": "c66a010a-e6bc-4a0d-b507-96b55e2f9f15",
   "metadata": {},
   "outputs": [
    {
     "name": "stderr",
     "output_type": "stream",
     "text": [
      "/Users/janzules/anaconda3/envs/spatial_analysis_env/lib/python3.10/site-packages/scanpy/preprocessing/_highly_variable_genes.py:73: UserWarning: `flavor='seurat_v3'` expects raw count data, but non-integers were found.\n",
      "  warnings.warn(\n"
     ]
    }
   ],
   "source": [
    "# HVG selection\n",
    "sc.pp.highly_variable_genes(\n",
    "    ST_sample,\n",
    "    n_top_genes=2000, #default 2k\n",
    "    flavor=\"seurat_v3\",\n",
    "    batch_key=\"TMA\"\n",
    ")\n",
    "ST_sample = ST_sample[:, ST_sample.var['highly_variable']].copy()"
   ]
  },
  {
   "cell_type": "code",
   "execution_count": 9,
   "id": "db983802-6831-420e-a637-2dd123feff71",
   "metadata": {},
   "outputs": [],
   "source": [
    "sc.pp.regress_out(\n",
    "    ST_sample,\n",
    "    keys=['total_counts', 'pct_counts_mito', 'S_score', 'G2M_score']\n",
    ")"
   ]
  },
  {
   "cell_type": "code",
   "execution_count": 85,
   "id": "fd1d0192-bc73-488c-9410-db0e0dad3965",
   "metadata": {},
   "outputs": [],
   "source": [
    " # Scale so each gene has unit variance\n",
    "sc.pp.scale(ST_sample, max_value=10)"
   ]
  },
  {
   "cell_type": "code",
   "execution_count": 90,
   "id": "dd78ba0c-6b77-4e4b-b37f-67c2bed5c541",
   "metadata": {},
   "outputs": [],
   "source": [
    "# PCA with randomized SVD\n",
    "n_pcs = 13\n",
    "sc.tl.pca(ST_sample, n_comps=n_pcs, svd_solver=\"randomized\")"
   ]
  },
  {
   "cell_type": "code",
   "execution_count": 89,
   "id": "e23a45d6-6602-4eb1-8cd5-676f38935ca1",
   "metadata": {},
   "outputs": [
    {
     "data": {
      "image/png": "[encoded data removed]",
      "text/plain": [
       "<Figure size 640x480 with 1 Axes>"
      ]
     },
     "metadata": {},
     "output_type": "display_data"
    }
   ],
   "source": [
    "sc.pl.pca_variance_ratio(ST_sample, n_pcs=n_pcs, log=True)"
   ]
  },
  {
   "cell_type": "code",
   "execution_count": 91,
   "id": "0136bb6a-ab0f-4fcf-8762-b19dd0bab638",
   "metadata": {},
   "outputs": [],
   "source": [
    "# sc.pp.neighbors(\n",
    "#     ST_sample,\n",
    "#     n_neighbors=15,        # Lower = more asymmetry\n",
    "#     method='umap',         # Default graph construction method\n",
    "#     knn=True               # Ensures k-nearest neighbor graph (as opposed to full distance matrix)\n",
    "# )\n",
    "# Memory efficient\n",
    "sc.pp.neighbors(\n",
    "    ST_sample,\n",
    "    n_neighbors=30,\n",
    "    n_pcs=13,  \n",
    "    transformer=AnnoyTransformer(n_trees=100),\n",
    "    method=\"umap\",\n",
    "    knn=True\n",
    ")"
   ]
  },
  {
   "cell_type": "code",
   "execution_count": null,
   "id": "0f8dbe16-143c-4720-a4e9-787f28699403",
   "metadata": {},
   "outputs": [],
   "source": []
  },
  {
   "cell_type": "code",
   "execution_count": null,
   "id": "b30d0a75-e181-4f7e-85ff-81fbdab680be",
   "metadata": {},
   "outputs": [],
   "source": []
  },
  {
   "cell_type": "code",
   "execution_count": 92,
   "id": "614cf73d-50f5-4595-814c-853e3650129a",
   "metadata": {
    "scrolled": true
   },
   "outputs": [],
   "source": [
    "sc.tl.leiden(\n",
    "    ST_sample,\n",
    "    resolution=0.3,\n",
    "    flavor=\"igraph\",\n",
    "    directed=False,    # Undirected - forces a two way link\n",
    "    n_iterations=2,\n",
    "    random_state=1337\n",
    ")"
   ]
  },
  {
   "cell_type": "code",
   "execution_count": 93,
   "id": "4a9699e3-538e-4bff-a654-d306c61ae659",
   "metadata": {},
   "outputs": [],
   "source": [
    "sc.tl.umap(\n",
    "    ST_sample,\n",
    "    init_pos='random',  # instead of 'spectral'\n",
    "    maxiter=200\n",
    ")"
   ]
  },
  {
   "cell_type": "code",
   "execution_count": 33,
   "id": "29c9dbe3-6bfa-4113-a63b-9f53f9dd8aeb",
   "metadata": {},
   "outputs": [
    {
     "data": {
      "text/plain": [
       "Index(['id', 'mouse', 'sample_id', 'condition', 'cx', 'cy', 'TMA',\n",
       "       'n_genes_by_counts', 'total_counts', 'pct_counts_in_top_50_genes',\n",
       "       'pct_counts_in_top_100_genes', 'pct_counts_in_top_200_genes',\n",
       "       'pct_counts_in_top_500_genes', 'total_counts_mito', 'pct_counts_mito',\n",
       "       'n_counts', 'S_score', 'G2M_score', 'phase', 'leiden'],\n",
       "      dtype='object')"
      ]
     },
     "execution_count": 33,
     "metadata": {},
     "output_type": "execute_result"
    }
   ],
   "source": [
    "ST_sample.obs.columns"
   ]
  },
  {
   "cell_type": "code",
   "execution_count": null,
   "id": "f781acf7-540f-428f-bf86-1ac730f1308e",
   "metadata": {},
   "outputs": [],
   "source": []
  },
  {
   "cell_type": "code",
   "execution_count": 1,
   "id": "af733ade-e7e9-4fe6-900c-76995f5e0b35",
   "metadata": {},
   "outputs": [
    {
     "ename": "NameError",
     "evalue": "name 'sc' is not defined",
     "output_type": "error",
     "traceback": [
      "\u001b[0;31m---------------------------------------------------------------------------\u001b[0m",
      "\u001b[0;31mNameError\u001b[0m                                 Traceback (most recent call last)",
      "Cell \u001b[0;32mIn[1], line 1\u001b[0m\n\u001b[0;32m----> 1\u001b[0m \u001b[43msc\u001b[49m\u001b[38;5;241m.\u001b[39mpl\u001b[38;5;241m.\u001b[39mumap(\n\u001b[1;32m      2\u001b[0m     ST_sample,\n\u001b[1;32m      3\u001b[0m     color\u001b[38;5;241m=\u001b[39m\u001b[38;5;124m'\u001b[39m\u001b[38;5;124mleiden\u001b[39m\u001b[38;5;124m'\u001b[39m,    \u001b[38;5;66;03m# color by your leiden clusters\u001b[39;00m\n\u001b[1;32m      4\u001b[0m     palette\u001b[38;5;241m=\u001b[39m\u001b[38;5;124m'\u001b[39m\u001b[38;5;124mtab20\u001b[39m\u001b[38;5;124m'\u001b[39m,   \u001b[38;5;66;03m# nice large color palette\u001b[39;00m\n\u001b[1;32m      5\u001b[0m     size\u001b[38;5;241m=\u001b[39m\u001b[38;5;241m5\u001b[39m,            \u001b[38;5;66;03m# small dots for large datasets (~1M cells)\u001b[39;00m\n\u001b[1;32m      6\u001b[0m     frameon\u001b[38;5;241m=\u001b[39m\u001b[38;5;28;01mFalse\u001b[39;00m,\n\u001b[1;32m      7\u001b[0m     title\u001b[38;5;241m=\u001b[39m\u001b[38;5;124m'\u001b[39m\u001b[38;5;124mLeiden Clustering (Resolution 0.6)\u001b[39m\u001b[38;5;124m'\u001b[39m\n\u001b[1;32m      8\u001b[0m )\n",
      "\u001b[0;31mNameError\u001b[0m: name 'sc' is not defined"
     ]
    }
   ],
   "source": [
    "sc.pl.umap(\n",
    "    ST_sample,\n",
    "    color='leiden',    # color by your leiden clusters\n",
    "    palette='tab20',   # nice large color palette\n",
    "    size=5,            # small dots for large datasets (~1M cells)\n",
    "    frameon=False,\n",
    "    title='Leiden Clustering (Resolution 0.6)'\n",
    ")"
   ]
  },
  {
   "cell_type": "code",
   "execution_count": null,
   "id": "a3da2622-89c0-4c6d-a7f7-08c286e519c2",
   "metadata": {},
   "outputs": [],
   "source": [
    "# rsc.tl.umap(\n",
    "#     ST_sample,\n",
    "#     min_dist=0.5,\n",
    "#     spread=1.0,\n",
    "#     n_components=2,\n",
    "#     maxiter=250,     # default 500\n",
    "#     init_pos='random', # or 'spectral'\n",
    "#     random_state=1337\n",
    "#     # key_added=\"X_umap_gpu\" # If I want to differentiate between embeddings\n",
    "# )"
   ]
  },
  {
   "cell_type": "code",
   "execution_count": null,
   "id": "3538a1de-5735-487e-8e01-b2cc5328f236",
   "metadata": {},
   "outputs": [],
   "source": [
    "# Saving UMAP results\n",
    "\n",
    "# ST_sample.obsm['X_umap_leiden_res0_6'] = ST_sample.obsm['X_umap'].copy()\n",
    "\n",
    "# # optionally delete the original if you want:\n",
    "# del ST_sample.obsm['X_umap']\n",
    "\n",
    "# ST_sample.write(full_data_path / \"analysis\" / \"combined_processed_with_umap.h5ad\")"
   ]
  },
  {
   "cell_type": "markdown",
   "id": "933f2bad-a7d9-43cf-b303-c4d247ceb397",
   "metadata": {},
   "source": [
    "# Per Cluster Analysis"
   ]
  },
  {
   "cell_type": "code",
   "execution_count": null,
   "id": "0b77a3d4-a4aa-493b-a3a1-484aca5f4110",
   "metadata": {},
   "outputs": [],
   "source": [
    "sc.tl.rank_genes_groups(\n",
    "    ST_sample,\n",
    "    groupby='leiden',         # your clustering\n",
    "    method='wilcoxon',        # robust non-parametric test\n",
    "    pts=True,                 # calculate % of cells expressing\n",
    "    key_added='rank_genes'    # store under a custom key\n",
    ")\n"
   ]
  },
  {
   "cell_type": "code",
   "execution_count": null,
   "id": "9c1492c0-5d15-4ef9-88dc-5ae7168c26f5",
   "metadata": {},
   "outputs": [],
   "source": [
    "# Define output directory\n",
    "marker_out_dir = full_data_path / \"analysis\" / \"HVG\"\n",
    "marker_out_dir.mkdir(parents=True, exist_ok=True)\n",
    "\n",
    "# Get all Leiden cluster labels\n",
    "clusters = ST_sample.obs['leiden'].unique().tolist()\n",
    "\n",
    "# For each cluster\n",
    "for cluster in clusters:\n",
    "    # Extract marker genes for that cluster\n",
    "    deg_df = sc.get.rank_genes_groups_df(\n",
    "        ST_sample,\n",
    "        group=cluster,\n",
    "        key='rank_genes'\n",
    "    )\n",
    "    \n",
    "    # Pick top 50 genes (you can change this)\n",
    "    top_deg = deg_df.head(50)\n",
    "\n",
    "    # Save to CSV\n",
    "    out_path = marker_out_dir / f\"cluster_{cluster}_top50_markers.csv\"\n",
    "    top_deg.to_csv(out_path, index=False)\n",
    "    \n",
    "    print(f\"Saved markers for cluster {cluster} → {out_path}\")"
   ]
  }
 ],
 "metadata": {
  "kernelspec": {
   "display_name": "Python (spatial_analysis_env)",
   "language": "python",
   "name": "spatial_analysis_env"
  },
  "language_info": {
   "codemirror_mode": {
    "name": "ipython",
    "version": 3
   },
   "file_extension": ".py",
   "mimetype": "text/x-python",
   "name": "python",
   "nbconvert_exporter": "python",
   "pygments_lexer": "ipython3",
   "version": "3.10.13"
  }
 },
 "nbformat": 4,
 "nbformat_minor": 5
}
