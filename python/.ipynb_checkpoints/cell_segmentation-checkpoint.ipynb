{
 "cells": [
  {
   "cell_type": "code",
   "execution_count": 1,
   "id": "a7b12b26-fcbe-4a59-af8d-296edf7d3f33",
   "metadata": {},
   "outputs": [
    {
     "name": "stderr",
     "output_type": "stream",
     "text": [
      "2025-04-15 18:26:19.593957: E external/local_xla/xla/stream_executor/cuda/cuda_fft.cc:467] Unable to register cuFFT factory: Attempting to register factory for plugin cuFFT when one has already been registered\n",
      "WARNING: All log messages before absl::InitializeLog() is called are written to STDERR\n",
      "E0000 00:00:1744766779.668635    5090 cuda_dnn.cc:8579] Unable to register cuDNN factory: Attempting to register factory for plugin cuDNN when one has already been registered\n",
      "E0000 00:00:1744766779.690097    5090 cuda_blas.cc:1407] Unable to register cuBLAS factory: Attempting to register factory for plugin cuBLAS when one has already been registered\n",
      "W0000 00:00:1744766779.848218    5090 computation_placer.cc:177] computation placer already registered. Please check linkage and avoid linking the same target more than once.\n",
      "W0000 00:00:1744766779.848269    5090 computation_placer.cc:177] computation placer already registered. Please check linkage and avoid linking the same target more than once.\n",
      "W0000 00:00:1744766779.848270    5090 computation_placer.cc:177] computation placer already registered. Please check linkage and avoid linking the same target more than once.\n",
      "W0000 00:00:1744766779.848272    5090 computation_placer.cc:177] computation placer already registered. Please check linkage and avoid linking the same target more than once.\n",
      "2025-04-15 18:26:19.868812: I tensorflow/core/platform/cpu_feature_guard.cc:210] This TensorFlow binary is optimized to use available CPU instructions in performance-critical operations.\n",
      "To enable the following instructions: AVX2 FMA, in other operations, rebuild TensorFlow with the appropriate compiler flags.\n"
     ]
    }
   ],
   "source": [
    "import pandas as pd\n",
    "import numpy as np\n",
    "import matplotlib.pyplot as plt\n",
    "import anndata\n",
    "import geopandas as gpd\n",
    "import scanpy as sc\n",
    "import visualization_helper # Custom helper functions \n",
    "from PIL import Image # Converting image\n",
    "\n",
    "from tifffile import imread, imwrite\n",
    "from csbdeep.utils import normalize\n",
    "from stardist.models import StarDist2D\n",
    "from shapely.geometry import Polygon, Point\n",
    "from scipy import sparse\n",
    "from matplotlib.colors import ListedColormap\n",
    "\n",
    "%matplotlib inline\n",
    "%config InlineBackend.figure_format = 'retina'\n",
    "\n"
   ]
  },
  {
   "cell_type": "code",
   "execution_count": 2,
   "id": "94079136-593c-4183-97fc-3fd65d2c0f19",
   "metadata": {},
   "outputs": [
    {
     "name": "stdout",
     "output_type": "stream",
     "text": [
      "GPU: /physical_device:GPU:0\n",
      "{'compute_capability': (8, 6), 'device_name': 'NVIDIA GeForce RTX 3080 Ti'}\n"
     ]
    }
   ],
   "source": [
    "import tensorflow as tf\n",
    "\n",
    "gpus = tf.config.list_physical_devices('GPU')\n",
    "for gpu in gpus:\n",
    "    details = tf.config.experimental.get_device_details(gpu)\n",
    "    print(f\"GPU: {gpu.name}\")\n",
    "    print(details)\n"
   ]
  },
  {
   "cell_type": "code",
   "execution_count": 3,
   "id": "d0172359-7de4-477a-8ef7-a28705b6ace6",
   "metadata": {},
   "outputs": [
    {
     "name": "stdout",
     "output_type": "stream",
     "text": [
      "Tue Apr 15 18:26:32 2025       \n",
      "+---------------------------------------------------------------------------------------+\n",
      "| NVIDIA-SMI 545.23.08              Driver Version: 572.83       CUDA Version: 12.8     |\n",
      "|-----------------------------------------+----------------------+----------------------+\n",
      "| GPU  Name                 Persistence-M | Bus-Id        Disp.A | Volatile Uncorr. ECC |\n",
      "| Fan  Temp   Perf          Pwr:Usage/Cap |         Memory-Usage | GPU-Util  Compute M. |\n",
      "|                                         |                      |               MIG M. |\n",
      "|=========================================+======================+======================|\n",
      "|   0  NVIDIA GeForce RTX 3080 Ti     On  | 00000000:2B:00.0  On |                  N/A |\n",
      "|  0%   41C    P8              38W / 370W |   1449MiB / 12288MiB |     26%      Default |\n",
      "|                                         |                      |                  N/A |\n",
      "+-----------------------------------------+----------------------+----------------------+\n",
      "                                                                                         \n",
      "+---------------------------------------------------------------------------------------+\n",
      "| Processes:                                                                            |\n",
      "|  GPU   GI   CI        PID   Type   Process name                            GPU Memory |\n",
      "|        ID   ID                                                             Usage      |\n",
      "|=======================================================================================|\n",
      "+---------------------------------------------------------------------------------------+\n",
      "\n"
     ]
    }
   ],
   "source": [
    "import subprocess\n",
    "\n",
    "def print_gpu_memory():\n",
    "    output = subprocess.check_output(['nvidia-smi']).decode('utf-8')\n",
    "    print(output)\n",
    "\n",
    "print_gpu_memory()"
   ]
  },
  {
   "cell_type": "code",
   "execution_count": 4,
   "id": "761a1039-ece9-41dc-b603-3d03161d0db1",
   "metadata": {},
   "outputs": [],
   "source": [
    "def stardist_2D_versatile_he(img, nms_thresh=None, prob_thresh=None):\n",
    "    # axis_norm = (0,1)   # normalize channels independently\n",
    "    axis_norm = (0, 1, 2)  # normalize channels jointly\n",
    "    # Make sure to normalize the input image beforehand or supply a normalizer to the prediction function.\n",
    "    # this is the default normalizer noted in StarDist examples.\n",
    "    img = normalize(img, 1, 99.8, axis=axis_norm)\n",
    "    model = StarDist2D.from_pretrained(\"2D_versatile_he\")\n",
    "    labels, _ = model.predict_instances(\n",
    "        img, nms_thresh=nms_thresh, prob_thresh=prob_thresh\n",
    "    )\n",
    "    return labels"
   ]
  },
  {
   "cell_type": "code",
   "execution_count": 5,
   "id": "4c4b443a-ebdf-4ad3-9c00-cb1b3e9719a7",
   "metadata": {
    "scrolled": true
   },
   "outputs": [
    {
     "name": "stdout",
     "output_type": "stream",
     "text": [
      "(6000, 5656, 3)\n"
     ]
    }
   ],
   "source": [
    "dir_base = (\n",
    "    '/mnt/c/Users/jonan/Documents/1Work/RoseLab/Spatial/'\n",
    "    'dietary_droject/data/Rose_Li_VisiumHD/'\n",
    "    'BANOSSM_SSM0015_1_PR_Whole_C1_VISHD_F07833_22WJCYLT3/outs/spatial/'\n",
    ")\n",
    "\n",
    "\n",
    "filename = 'tissue_hires_image.png'\n",
    "\n",
    "img_pil = Image.open(dir_base + filename).convert(\"RGB\")\n",
    "img_np = np.array(img_pil)\n",
    "\n",
    "low_percentile = 0.5 # default 1\n",
    "upper_percentile = 99.9 # default 99.8\n",
    "\n",
    "# Normalize across all channels\n",
    "img_norm = normalize(img_np, low_percentile, upper_percentile, axis=(0, 1, 2))\n",
    "print(img_np.shape)\n"
   ]
  },
  {
   "cell_type": "code",
   "execution_count": 53,
   "id": "1f60e54e-0cd0-4240-9ffa-ce6a3f29a657",
   "metadata": {},
   "outputs": [
    {
     "name": "stdout",
     "output_type": "stream",
     "text": [
      "Found model '2D_versatile_he' for 'StarDist2D'.\n",
      "Loading network weights from 'weights_best.h5'.\n",
      "Loading thresholds from 'thresholds.json'.\n",
      "Using default values: prob_thresh=0.692478, nms_thresh=0.3.\n"
     ]
    }
   ],
   "source": [
    "# from stardist.models import StarDist2D\n",
    "\n",
    "# model = StarDist2D.from_pretrained(\"2D_versatile_he\")\n",
    "# # help(model.predict_instances)"
   ]
  },
  {
   "cell_type": "code",
   "execution_count": 6,
   "id": "fbd27fac-cbb5-4738-b0a5-4b9cd8296d15",
   "metadata": {
    "scrolled": true
   },
   "outputs": [
    {
     "name": "stdout",
     "output_type": "stream",
     "text": [
      "Found model '2D_versatile_he' for 'StarDist2D'.\n"
     ]
    },
    {
     "name": "stderr",
     "output_type": "stream",
     "text": [
      "I0000 00:00:1744766805.231267    5090 gpu_device.cc:2019] Created device /job:localhost/replica:0/task:0/device:GPU:0 with 9536 MB memory:  -> device: 0, name: NVIDIA GeForce RTX 3080 Ti, pci bus id: 0000:2b:00.0, compute capability: 8.6\n"
     ]
    },
    {
     "name": "stdout",
     "output_type": "stream",
     "text": [
      "Loading network weights from 'weights_best.h5'.\n",
      "Loading thresholds from 'thresholds.json'.\n",
      "Using default values: prob_thresh=0.692478, nms_thresh=0.3.\n"
     ]
    }
   ],
   "source": [
    "# Run StarDist segmentation\n",
    "model = StarDist2D.from_pretrained(\"2D_versatile_he\")"
   ]
  },
  {
   "cell_type": "code",
   "execution_count": 7,
   "id": "a80a375f-0e02-4252-acf4-aebd7545bda4",
   "metadata": {
    "scrolled": true
   },
   "outputs": [
    {
     "name": "stderr",
     "output_type": "stream",
     "text": [
      "functional.py (238): The structure of `inputs` doesn't match the expected structure.\n",
      "Expected: ['input']\n",
      "Received: inputs=Tensor(shape=(1, 256, 256, 3))\n",
      "WARNING: All log messages before absl::InitializeLog() is called are written to STDERR\n",
      "I0000 00:00:1744766985.908803    5247 service.cc:152] XLA service 0x7f11dc00cad0 initialized for platform CUDA (this does not guarantee that XLA will be used). Devices:\n",
      "I0000 00:00:1744766985.908854    5247 service.cc:160]   StreamExecutor device (0): NVIDIA GeForce RTX 3080 Ti, Compute Capability 8.6\n",
      "2025-04-15 18:29:45.936073: I tensorflow/compiler/mlir/tensorflow/utils/dump_mlir_util.cc:269] disabling MLIR crash reproducer, set env var `MLIR_CRASH_REPRODUCER_DIRECTORY` to enable.\n",
      "I0000 00:00:1744766986.022179    5247 cuda_dnn.cc:529] Loaded cuDNN version 90800\n",
      "I0000 00:00:1744766987.967078    5247 device_compiler.h:188] Compiled cluster using XLA!  This line is logged at most once for the lifetime of the process.\n",
      "  0%|                                                                                       | 0/225 [00:00<?, ?it/s]functional.py (238): The structure of `inputs` doesn't match the expected structure.\n",
      "Expected: ['input']\n",
      "Received: inputs=Tensor(shape=(1, None, None, 3))\n",
      "2025-04-15 18:29:49.715246: E external/local_xla/xla/stream_executor/cuda/cuda_timer.cc:86] Delay kernel timed out: measured time has sub-optimal accuracy. There may be a missing warmup execution, please investigate in Nsight Systems.\n",
      "2025-04-15 18:29:50.008220: E external/local_xla/xla/service/slow_operation_alarm.cc:73] Trying algorithm eng13{} for conv %cudnn-conv-bias-activation.57 = (f32[1,32,2992,2832]{3,2,1,0}, u8[0]{0}) custom-call(f32[1,3,2992,2832]{3,2,1,0} %bitcast.689, f32[32,3,3,3]{3,2,1,0} %bitcast.696, f32[32]{0} %bitcast.698), window={size=3x3 pad=1_1x1_1}, dim_labels=bf01_oi01->bf01, custom_call_target=\"__cudnn$convBiasActivationForward\", metadata={op_type=\"Conv2D\" op_name=\"functional_1/conv2d_1/convolution\" source_file=\"/home/jon/anaconda3/envs/spatial-nuclei/lib/python3.10/site-packages/tensorflow/python/framework/ops.py\" source_line=1200}, backend_config={\"operation_queue_id\":\"0\",\"wait_on_operation_queues\":[],\"cudnn_conv_backend_config\":{\"conv_result_scale\":1,\"activation_mode\":\"kRelu\",\"side_input_scale\":0,\"leakyrelu_alpha\":0},\"force_earliest_schedule\":false} is taking a while...\n",
      "2025-04-15 18:29:50.131909: E external/local_xla/xla/stream_executor/cuda/cuda_timer.cc:86] Delay kernel timed out: measured time has sub-optimal accuracy. There may be a missing warmup execution, please investigate in Nsight Systems.\n",
      "2025-04-15 18:29:50.529892: E external/local_xla/xla/stream_executor/cuda/cuda_timer.cc:86] Delay kernel timed out: measured time has sub-optimal accuracy. There may be a missing warmup execution, please investigate in Nsight Systems.\n",
      "2025-04-15 18:29:50.928298: E external/local_xla/xla/stream_executor/cuda/cuda_timer.cc:86] Delay kernel timed out: measured time has sub-optimal accuracy. There may be a missing warmup execution, please investigate in Nsight Systems.\n",
      "2025-04-15 18:29:51.316433: E external/local_xla/xla/stream_executor/cuda/cuda_timer.cc:86] Delay kernel timed out: measured time has sub-optimal accuracy. There may be a missing warmup execution, please investigate in Nsight Systems.\n",
      "2025-04-15 18:29:51.710445: E external/local_xla/xla/stream_executor/cuda/cuda_timer.cc:86] Delay kernel timed out: measured time has sub-optimal accuracy. There may be a missing warmup execution, please investigate in Nsight Systems.\n",
      "2025-04-15 18:29:52.137336: E external/local_xla/xla/stream_executor/cuda/cuda_timer.cc:86] Delay kernel timed out: measured time has sub-optimal accuracy. There may be a missing warmup execution, please investigate in Nsight Systems.\n",
      "2025-04-15 18:29:52.525382: E external/local_xla/xla/stream_executor/cuda/cuda_timer.cc:86] Delay kernel timed out: measured time has sub-optimal accuracy. There may be a missing warmup execution, please investigate in Nsight Systems.\n",
      "2025-04-15 18:29:52.865919: E external/local_xla/xla/stream_executor/cuda/cuda_timer.cc:86] Delay kernel timed out: measured time has sub-optimal accuracy. There may be a missing warmup execution, please investigate in Nsight Systems.\n",
      "2025-04-15 18:29:53.228042: E external/local_xla/xla/stream_executor/cuda/cuda_timer.cc:86] Delay kernel timed out: measured time has sub-optimal accuracy. There may be a missing warmup execution, please investigate in Nsight Systems.\n",
      "2025-04-15 18:29:53.236737: E external/local_xla/xla/service/slow_operation_alarm.cc:140] The operation took 4.228654443s\n",
      "Trying algorithm eng13{} for conv %cudnn-conv-bias-activation.57 = (f32[1,32,2992,2832]{3,2,1,0}, u8[0]{0}) custom-call(f32[1,3,2992,2832]{3,2,1,0} %bitcast.689, f32[32,3,3,3]{3,2,1,0} %bitcast.696, f32[32]{0} %bitcast.698), window={size=3x3 pad=1_1x1_1}, dim_labels=bf01_oi01->bf01, custom_call_target=\"__cudnn$convBiasActivationForward\", metadata={op_type=\"Conv2D\" op_name=\"functional_1/conv2d_1/convolution\" source_file=\"/home/jon/anaconda3/envs/spatial-nuclei/lib/python3.10/site-packages/tensorflow/python/framework/ops.py\" source_line=1200}, backend_config={\"operation_queue_id\":\"0\",\"wait_on_operation_queues\":[],\"cudnn_conv_backend_config\":{\"conv_result_scale\":1,\"activation_mode\":\"kRelu\",\"side_input_scale\":0,\"leakyrelu_alpha\":0},\"force_earliest_schedule\":false} is taking a while...\n",
      "2025-04-15 18:29:55.206975: E external/local_xla/xla/stream_executor/cuda/cuda_timer.cc:86] Delay kernel timed out: measured time has sub-optimal accuracy. There may be a missing warmup execution, please investigate in Nsight Systems.\n",
      "2025-04-15 18:29:55.551043: E external/local_xla/xla/stream_executor/cuda/cuda_timer.cc:86] Delay kernel timed out: measured time has sub-optimal accuracy. There may be a missing warmup execution, please investigate in Nsight Systems.\n",
      "2025-04-15 18:29:56.131698: E external/local_xla/xla/stream_executor/cuda/cuda_timer.cc:86] Delay kernel timed out: measured time has sub-optimal accuracy. There may be a missing warmup execution, please investigate in Nsight Systems.\n",
      "2025-04-15 18:29:56.318625: E external/local_xla/xla/stream_executor/cuda/cuda_timer.cc:86] Delay kernel timed out: measured time has sub-optimal accuracy. There may be a missing warmup execution, please investigate in Nsight Systems.\n",
      "2025-04-15 18:29:56.503073: E external/local_xla/xla/stream_executor/cuda/cuda_timer.cc:86] Delay kernel timed out: measured time has sub-optimal accuracy. There may be a missing warmup execution, please investigate in Nsight Systems.\n",
      "2025-04-15 18:29:56.685819: E external/local_xla/xla/stream_executor/cuda/cuda_timer.cc:86] Delay kernel timed out: measured time has sub-optimal accuracy. There may be a missing warmup execution, please investigate in Nsight Systems.\n",
      "2025-04-15 18:29:56.845276: E external/local_xla/xla/stream_executor/cuda/cuda_timer.cc:86] Delay kernel timed out: measured time has sub-optimal accuracy. There may be a missing warmup execution, please investigate in Nsight Systems.\n",
      "2025-04-15 18:29:57.525616: W external/local_xla/xla/tsl/framework/bfc_allocator.cc:310] Allocator (GPU_0_bfc) ran out of memory trying to allocate 16.20GiB with freed_by_count=0. The caller indicates that this is not a failure, but this may mean that there could be performance gains if more memory were available.\n",
      "2025-04-15 18:29:57.599919: W external/local_xla/xla/tsl/framework/bfc_allocator.cc:310] Allocator (GPU_0_bfc) ran out of memory trying to allocate 16.27GiB with freed_by_count=0. The caller indicates that this is not a failure, but this may mean that there could be performance gains if more memory were available.\n",
      "2025-04-15 18:29:59.094910: E external/local_xla/xla/stream_executor/cuda/cuda_timer.cc:86] Delay kernel timed out: measured time has sub-optimal accuracy. There may be a missing warmup execution, please investigate in Nsight Systems.\n",
      "2025-04-15 18:29:59.259864: E external/local_xla/xla/stream_executor/cuda/cuda_timer.cc:86] Delay kernel timed out: measured time has sub-optimal accuracy. There may be a missing warmup execution, please investigate in Nsight Systems.\n",
      "2025-04-15 18:29:59.434076: E external/local_xla/xla/stream_executor/cuda/cuda_timer.cc:86] Delay kernel timed out: measured time has sub-optimal accuracy. There may be a missing warmup execution, please investigate in Nsight Systems.\n",
      "2025-04-15 18:29:59.603940: E external/local_xla/xla/stream_executor/cuda/cuda_timer.cc:86] Delay kernel timed out: measured time has sub-optimal accuracy. There may be a missing warmup execution, please investigate in Nsight Systems.\n",
      "100%|█████████████████████████████████████████████████████████████████████████████| 225/225 [01:38<00:00,  2.29it/s]\n"
     ]
    }
   ],
   "source": [
    "model_scale = 7       # Default values\n",
    "nms_threshold = 0.2   # 0.3\n",
    "prob_threshold = 0.5   #0.692478\n",
    "labels, _ = model.predict_instances(img_norm,               \n",
    "                                    scale= model_scale,     \n",
    "                                    n_tiles = (15, 15, 1),  \n",
    "                                    nms_thresh = nms_threshold,\n",
    "                                    prob_thresh = prob_threshold,\n",
    "                                    show_tile_progress=True)"
   ]
  },
  {
   "cell_type": "code",
   "execution_count": 11,
   "id": "12d2e756-e87b-4e84-ba61-30bd3ca00220",
   "metadata": {},
   "outputs": [
    {
     "name": "stdout",
     "output_type": "stream",
     "text": [
      "Overlay saved at:\n",
      "/mnt/c/Users/jonan/Documents/1Work/RoseLab/Spatial/dietary_droject/figures/cell_segmentation/stardist_overlay_scale_7_0.5_99.9_0.2_0.5.png\n"
     ]
    }
   ],
   "source": [
    "import matplotlib.pyplot as plt\n",
    "import os\n",
    "\n",
    "# Output directory\n",
    "img_dir = (\n",
    "    '/mnt/c/Users/jonan/Documents/1Work/RoseLab/'\n",
    "    'Spatial/dietary_droject/figures/cell_segmentation/'\n",
    ")\n",
    "os.makedirs(img_dir, exist_ok=True)\n",
    "filename = ('stardist_overlay_scale_' + str(model_scale) + '_' +\n",
    "            str(low_percentile) + '_' + str(upper_percentile) + '_' + \n",
    "            str(nms_threshold) + '_' + str(prob_threshold) + '.png'\n",
    "           )\n",
    "output_path = os.path.join(img_dir, filename)\n",
    "\n",
    "# output_path = os.path.join(img_dir, 'stardist_overlay_scale_', model_scale, '.png')\n",
    "\n",
    "# === Parameters to TUNE ===\n",
    "segmentation_alpha = 0.22  # transparency of segmentation (0 = fully transparent, 1 = fully opaque)\n",
    "cmap_segmentation = 'jet'  # you can change this if you prefer other color schemes\n",
    "\n",
    "# === Plot H&E background and segmentation overlay ===\n",
    "plt.figure(figsize=(15, 15))\n",
    "plt.imshow(img_np)  # show H&E image\n",
    "plt.imshow(labels, cmap=cmap_segmentation, alpha=segmentation_alpha)  # overlay with alpha\n",
    "plt.axis('off')\n",
    "plt.title(\"StarDist Segmentation Over H&E\")\n",
    "\n",
    "# Save high-resolution overlay image\n",
    "plt.savefig(output_path, dpi=1200, bbox_inches='tight', pad_inches=0)\n",
    "plt.close()\n",
    "\n",
    "print(f\"Overlay saved at:\\n{output_path}\")\n"
   ]
  },
  {
   "cell_type": "code",
   "execution_count": null,
   "id": "e43bbafb-206d-4fe3-a5f3-d8be927a0dd1",
   "metadata": {},
   "outputs": [
    {
     "name": "stderr",
     "output_type": "stream",
     "text": [
      "base.py (716): Setting sparse to False because return_predict is True\n",
      " 23%|██████████████████                                                            | 52/225 [01:29<02:09,  1.34it/s]"
     ]
    }
   ],
   "source": [
    "labels, (prob, dist) = model.predict_instances(\n",
    "    img_norm,\n",
    "    scale=7,\n",
    "    prob_thresh=0.5,\n",
    "    nms_thresh=0.2,\n",
    "    n_tiles=(15, 15, 1),\n",
    "    show_tile_progress=True,\n",
    "    return_predict=True\n",
    ")\n",
    "\n",
    "plt.figure(figsize=(8, 8))\n",
    "plt.imshow(prob, cmap=\"gray\")\n",
    "plt.title(\"StarDist Probability Map\")\n",
    "plt.axis(\"off\")\n",
    "plt.show()"
   ]
  },
  {
   "cell_type": "code",
   "execution_count": 30,
   "id": "24b941e4-a663-463a-9ab0-99d9eb918770",
   "metadata": {},
   "outputs": [
    {
     "name": "stdout",
     "output_type": "stream",
     "text": [
      "(5656, 6000)\n",
      "(6000, 5656, 3)\n"
     ]
    }
   ],
   "source": [
    "print(img_pil.size)  # returns (width, height)\n",
    "print(img_np.shape) "
   ]
  },
  {
   "cell_type": "code",
   "execution_count": 8,
   "id": "0bf67012-b392-46e6-8172-7548e167799f",
   "metadata": {},
   "outputs": [
    {
     "data": {
      "text/plain": [
       "'/mnt/c/Users/jonan/Documents/1Work/RoseLab/Spatial/dietary_droject/data/Rose_Li_VisiumHD/BANOSSM_SSM0015_1_PR_Whole_C1_VISHD_F07833_22WJCYLT3/outs/spatial/tissue_hires_image.png'"
      ]
     },
     "execution_count": 8,
     "metadata": {},
     "output_type": "execute_result"
    }
   ],
   "source": [
    "dir_base + filename"
   ]
  },
  {
   "cell_type": "code",
   "execution_count": null,
   "id": "9128cd43-faef-4503-802d-b137e863ded2",
   "metadata": {},
   "outputs": [],
   "source": []
  },
  {
   "cell_type": "code",
   "execution_count": null,
   "id": "d962a57c-306d-4f9c-a207-58116b89e502",
   "metadata": {},
   "outputs": [],
   "source": []
  }
 ],
 "metadata": {
  "kernelspec": {
   "display_name": "Python (spatial-nuclei)",
   "language": "python",
   "name": "spatial-nuclei"
  },
  "language_info": {
   "codemirror_mode": {
    "name": "ipython",
    "version": 3
   },
   "file_extension": ".py",
   "mimetype": "text/x-python",
   "name": "python",
   "nbconvert_exporter": "python",
   "pygments_lexer": "ipython3",
   "version": "3.10.17"
  }
 },
 "nbformat": 4,
 "nbformat_minor": 5
}
