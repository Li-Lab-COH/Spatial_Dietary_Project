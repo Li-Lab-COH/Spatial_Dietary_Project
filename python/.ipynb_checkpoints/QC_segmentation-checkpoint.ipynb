{
 "cells": [
  {
   "cell_type": "code",
   "execution_count": 3,
   "id": "2bde3369-4bde-4c4b-9218-e912c1c2c5ce",
   "metadata": {},
   "outputs": [],
   "source": [
    "import scanpy as sc\n",
    "from pathlib import Path\n",
    "import geopandas as gpd\n",
    "import matplotlib.pyplot as plt"
   ]
  },
  {
   "cell_type": "code",
   "execution_count": 7,
   "id": "93c93ea4-b4ff-4e2d-acb4-5d06a0911585",
   "metadata": {},
   "outputs": [],
   "source": [
    "# Load the saved AnnData file\n",
    "file_path = Path(\"/mnt/c/Users/jonan/Documents/1Work/RoseLab/Spatial/dietary_droject/data/cell_segmentation/SegmentedData/F07833/F07833_grouped_filtered_adata.h5ad\")\n",
    "GDF_file = Path(\"/mnt/c/Users/jonan/Documents/1Work/RoseLab/Spatial/dietary_droject/data/cell_segmentation/SegmentedData/F07833/F07833_gdf.gpkg\")\n",
    "adata = sc.read_h5ad(file_path)\n",
    "geo_file = gpd.read_file(GDF_file)"
   ]
  },
  {
   "cell_type": "code",
   "execution_count": 8,
   "id": "dc3c5873-ab94-4572-9afe-73f7c0ae8972",
   "metadata": {},
   "outputs": [],
   "source": [
    "sc.pp.calculate_qc_metrics(adata, inplace=True)"
   ]
  }
 ],
 "metadata": {
  "kernelspec": {
   "display_name": "Python (spatial-nuclei)",
   "language": "python",
   "name": "spatial-nuclei"
  },
  "language_info": {
   "codemirror_mode": {
    "name": "ipython",
    "version": 3
   },
   "file_extension": ".py",
   "mimetype": "text/x-python",
   "name": "python",
   "nbconvert_exporter": "python",
   "pygments_lexer": "ipython3",
   "version": "3.10.17"
  }
 },
 "nbformat": 4,
 "nbformat_minor": 5
}
