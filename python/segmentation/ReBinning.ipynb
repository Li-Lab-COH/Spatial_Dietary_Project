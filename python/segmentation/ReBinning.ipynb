{
 "cells": [
  {
   "cell_type": "code",
   "execution_count": 15,
   "id": "6e6c999b-b45c-4539-9ffb-c9fae22790db",
   "metadata": {},
   "outputs": [],
   "source": [
    "#!/usr/bin/env python3\n",
    "import scanpy as sc\n",
    "import pandas as pd\n",
    "import geopandas as gpd\n",
    "import pickle\n",
    "import anndata\n",
    "from pathlib import Path\n",
    "from shapely.geometry import Polygon, Point\n",
    "from scipy import sparse\n",
    "import re\n",
    "import matplotlib.pyplot as plt\n",
    "import numpy as np\n"
   ]
  },
  {
   "cell_type": "markdown",
   "id": "3af977cc-d157-44da-9a35-8ebc1688bd2d",
   "metadata": {},
   "source": [
    "TODO:\n",
    "\n",
    "1. Figure out the discrepancy source of polynomial ID in the adata file and that of the mapping file. There shouldn't be a discrepancy. Seems good overall though"
   ]
  },
  {
   "cell_type": "code",
   "execution_count": 16,
   "id": "2b5ed609-75e0-40dd-b0bb-7031b0487d23",
   "metadata": {},
   "outputs": [
    {
     "name": "stdout",
     "output_type": "stream",
     "text": [
      "=== Rebinning F07833 ===\n",
      "\n",
      "offset value starting: 0\n"
     ]
    },
    {
     "name": "stderr",
     "output_type": "stream",
     "text": [
      "/home/jon/anaconda3/envs/spatial-nuclei/lib/python3.10/site-packages/anndata/_core/anndata.py:1758: UserWarning: Variable names are not unique. To make them unique, call `.var_names_make_unique`.\n",
      "  utils.warn_names_duplicates(\"var\")\n",
      "/home/jon/anaconda3/envs/spatial-nuclei/lib/python3.10/site-packages/anndata/_core/anndata.py:1758: UserWarning: Variable names are not unique. To make them unique, call `.var_names_make_unique`.\n",
      "  utils.warn_names_duplicates(\"var\")\n"
     ]
    },
    {
     "name": "stdout",
     "output_type": "stream",
     "text": [
      "Saved barcode-to-nucleus mapping for F07833\n"
     ]
    },
    {
     "name": "stderr",
     "output_type": "stream",
     "text": [
      "/home/jon/anaconda3/envs/spatial-nuclei/lib/python3.10/site-packages/IPython/extensions/storemagic.py:229: UserWarning: This is now an optional IPython functionality, setting autorestore/rebinned_adata requires you to install the `pickleshare` library.\n",
      "  db[ 'autorestore/' + arg ] = obj\n"
     ]
    },
    {
     "name": "stdout",
     "output_type": "stream",
     "text": [
      "Stored 'rebinned_adata' (AnnData)\n"
     ]
    },
    {
     "name": "stderr",
     "output_type": "stream",
     "text": [
      "/home/jon/anaconda3/envs/spatial-nuclei/lib/python3.10/site-packages/pyogrio/geopandas.py:662: UserWarning: 'crs' was not provided.  The output dataset will not have projection information defined and may not be usable in other systems.\n",
      "  write(\n"
     ]
    },
    {
     "name": "stdout",
     "output_type": "stream",
     "text": [
      "→ Saved rebinned for F07833\n",
      "→ Saved UMI map with bounding box: /mnt/c/Users/jonan/Documents/1Work/RoseLab/Spatial/dietary_droject/data/cell_segmentation/F07833/figures/F07833_umi_rebinned.png\n",
      "→ Saved UMI map (filtered) with bounding box: /mnt/c/Users/jonan/Documents/1Work/RoseLab/Spatial/dietary_droject/data/cell_segmentation/F07833/figures/F07833_umi_rebinned_filtered.png\n",
      "Analysis complete for F07833 \n",
      "\n",
      "offset value ending: 281723\n",
      "=== Rebinning F07834 ===\n",
      "\n",
      "offset value starting: 281723\n"
     ]
    },
    {
     "name": "stderr",
     "output_type": "stream",
     "text": [
      "/home/jon/anaconda3/envs/spatial-nuclei/lib/python3.10/site-packages/anndata/_core/anndata.py:1758: UserWarning: Variable names are not unique. To make them unique, call `.var_names_make_unique`.\n",
      "  utils.warn_names_duplicates(\"var\")\n",
      "/home/jon/anaconda3/envs/spatial-nuclei/lib/python3.10/site-packages/anndata/_core/anndata.py:1758: UserWarning: Variable names are not unique. To make them unique, call `.var_names_make_unique`.\n",
      "  utils.warn_names_duplicates(\"var\")\n"
     ]
    },
    {
     "name": "stdout",
     "output_type": "stream",
     "text": [
      "Saved barcode-to-nucleus mapping for F07834\n"
     ]
    },
    {
     "name": "stderr",
     "output_type": "stream",
     "text": [
      "/home/jon/anaconda3/envs/spatial-nuclei/lib/python3.10/site-packages/IPython/extensions/storemagic.py:229: UserWarning: This is now an optional IPython functionality, setting autorestore/rebinned_adata requires you to install the `pickleshare` library.\n",
      "  db[ 'autorestore/' + arg ] = obj\n"
     ]
    },
    {
     "name": "stdout",
     "output_type": "stream",
     "text": [
      "Stored 'rebinned_adata' (AnnData)\n"
     ]
    },
    {
     "name": "stderr",
     "output_type": "stream",
     "text": [
      "/home/jon/anaconda3/envs/spatial-nuclei/lib/python3.10/site-packages/pyogrio/geopandas.py:662: UserWarning: 'crs' was not provided.  The output dataset will not have projection information defined and may not be usable in other systems.\n",
      "  write(\n"
     ]
    },
    {
     "name": "stdout",
     "output_type": "stream",
     "text": [
      "→ Saved rebinned for F07834\n",
      "→ Saved UMI map with bounding box: /mnt/c/Users/jonan/Documents/1Work/RoseLab/Spatial/dietary_droject/data/cell_segmentation/F07834/figures/F07834_umi_rebinned.png\n",
      "→ Saved UMI map (filtered) with bounding box: /mnt/c/Users/jonan/Documents/1Work/RoseLab/Spatial/dietary_droject/data/cell_segmentation/F07834/figures/F07834_umi_rebinned_filtered.png\n",
      "Analysis complete for F07834 \n",
      "\n",
      "offset value ending: 546384\n",
      "=== Rebinning F07835 ===\n",
      "\n",
      "offset value starting: 546384\n"
     ]
    },
    {
     "name": "stderr",
     "output_type": "stream",
     "text": [
      "/home/jon/anaconda3/envs/spatial-nuclei/lib/python3.10/site-packages/anndata/_core/anndata.py:1758: UserWarning: Variable names are not unique. To make them unique, call `.var_names_make_unique`.\n",
      "  utils.warn_names_duplicates(\"var\")\n",
      "/home/jon/anaconda3/envs/spatial-nuclei/lib/python3.10/site-packages/anndata/_core/anndata.py:1758: UserWarning: Variable names are not unique. To make them unique, call `.var_names_make_unique`.\n",
      "  utils.warn_names_duplicates(\"var\")\n"
     ]
    },
    {
     "name": "stdout",
     "output_type": "stream",
     "text": [
      "Saved barcode-to-nucleus mapping for F07835\n"
     ]
    },
    {
     "name": "stderr",
     "output_type": "stream",
     "text": [
      "/home/jon/anaconda3/envs/spatial-nuclei/lib/python3.10/site-packages/IPython/extensions/storemagic.py:229: UserWarning: This is now an optional IPython functionality, setting autorestore/rebinned_adata requires you to install the `pickleshare` library.\n",
      "  db[ 'autorestore/' + arg ] = obj\n"
     ]
    },
    {
     "name": "stdout",
     "output_type": "stream",
     "text": [
      "Stored 'rebinned_adata' (AnnData)\n"
     ]
    },
    {
     "name": "stderr",
     "output_type": "stream",
     "text": [
      "/home/jon/anaconda3/envs/spatial-nuclei/lib/python3.10/site-packages/pyogrio/geopandas.py:662: UserWarning: 'crs' was not provided.  The output dataset will not have projection information defined and may not be usable in other systems.\n",
      "  write(\n"
     ]
    },
    {
     "name": "stdout",
     "output_type": "stream",
     "text": [
      "→ Saved rebinned for F07835\n",
      "→ Saved UMI map with bounding box: /mnt/c/Users/jonan/Documents/1Work/RoseLab/Spatial/dietary_droject/data/cell_segmentation/F07835/figures/F07835_umi_rebinned.png\n",
      "→ Saved UMI map (filtered) with bounding box: /mnt/c/Users/jonan/Documents/1Work/RoseLab/Spatial/dietary_droject/data/cell_segmentation/F07835/figures/F07835_umi_rebinned_filtered.png\n",
      "Analysis complete for F07835 \n",
      "\n",
      "offset value ending: 856466\n",
      "=== Rebinning F07836 ===\n",
      "\n",
      "offset value starting: 856466\n"
     ]
    },
    {
     "name": "stderr",
     "output_type": "stream",
     "text": [
      "/home/jon/anaconda3/envs/spatial-nuclei/lib/python3.10/site-packages/anndata/_core/anndata.py:1758: UserWarning: Variable names are not unique. To make them unique, call `.var_names_make_unique`.\n",
      "  utils.warn_names_duplicates(\"var\")\n",
      "/home/jon/anaconda3/envs/spatial-nuclei/lib/python3.10/site-packages/anndata/_core/anndata.py:1758: UserWarning: Variable names are not unique. To make them unique, call `.var_names_make_unique`.\n",
      "  utils.warn_names_duplicates(\"var\")\n"
     ]
    },
    {
     "name": "stdout",
     "output_type": "stream",
     "text": [
      "Saved barcode-to-nucleus mapping for F07836\n"
     ]
    },
    {
     "name": "stderr",
     "output_type": "stream",
     "text": [
      "/home/jon/anaconda3/envs/spatial-nuclei/lib/python3.10/site-packages/IPython/extensions/storemagic.py:229: UserWarning: This is now an optional IPython functionality, setting autorestore/rebinned_adata requires you to install the `pickleshare` library.\n",
      "  db[ 'autorestore/' + arg ] = obj\n"
     ]
    },
    {
     "name": "stdout",
     "output_type": "stream",
     "text": [
      "Stored 'rebinned_adata' (AnnData)\n"
     ]
    },
    {
     "name": "stderr",
     "output_type": "stream",
     "text": [
      "/home/jon/anaconda3/envs/spatial-nuclei/lib/python3.10/site-packages/pyogrio/geopandas.py:662: UserWarning: 'crs' was not provided.  The output dataset will not have projection information defined and may not be usable in other systems.\n",
      "  write(\n"
     ]
    },
    {
     "name": "stdout",
     "output_type": "stream",
     "text": [
      "→ Saved rebinned for F07836\n",
      "→ Saved UMI map with bounding box: /mnt/c/Users/jonan/Documents/1Work/RoseLab/Spatial/dietary_droject/data/cell_segmentation/F07836/figures/F07836_umi_rebinned.png\n",
      "→ Saved UMI map (filtered) with bounding box: /mnt/c/Users/jonan/Documents/1Work/RoseLab/Spatial/dietary_droject/data/cell_segmentation/F07836/figures/F07836_umi_rebinned_filtered.png\n",
      "Analysis complete for F07836 \n",
      "\n",
      "offset value ending: 1144565\n",
      "=== Rebinning F07837 ===\n",
      "\n",
      "offset value starting: 1144565\n"
     ]
    },
    {
     "name": "stderr",
     "output_type": "stream",
     "text": [
      "/home/jon/anaconda3/envs/spatial-nuclei/lib/python3.10/site-packages/anndata/_core/anndata.py:1758: UserWarning: Variable names are not unique. To make them unique, call `.var_names_make_unique`.\n",
      "  utils.warn_names_duplicates(\"var\")\n",
      "/home/jon/anaconda3/envs/spatial-nuclei/lib/python3.10/site-packages/anndata/_core/anndata.py:1758: UserWarning: Variable names are not unique. To make them unique, call `.var_names_make_unique`.\n",
      "  utils.warn_names_duplicates(\"var\")\n"
     ]
    },
    {
     "name": "stdout",
     "output_type": "stream",
     "text": [
      "Saved barcode-to-nucleus mapping for F07837\n"
     ]
    },
    {
     "name": "stderr",
     "output_type": "stream",
     "text": [
      "/home/jon/anaconda3/envs/spatial-nuclei/lib/python3.10/site-packages/IPython/extensions/storemagic.py:229: UserWarning: This is now an optional IPython functionality, setting autorestore/rebinned_adata requires you to install the `pickleshare` library.\n",
      "  db[ 'autorestore/' + arg ] = obj\n"
     ]
    },
    {
     "name": "stdout",
     "output_type": "stream",
     "text": [
      "Stored 'rebinned_adata' (AnnData)\n"
     ]
    },
    {
     "name": "stderr",
     "output_type": "stream",
     "text": [
      "/home/jon/anaconda3/envs/spatial-nuclei/lib/python3.10/site-packages/pyogrio/geopandas.py:662: UserWarning: 'crs' was not provided.  The output dataset will not have projection information defined and may not be usable in other systems.\n",
      "  write(\n"
     ]
    },
    {
     "name": "stdout",
     "output_type": "stream",
     "text": [
      "→ Saved rebinned for F07837\n",
      "→ Saved UMI map with bounding box: /mnt/c/Users/jonan/Documents/1Work/RoseLab/Spatial/dietary_droject/data/cell_segmentation/F07837/figures/F07837_umi_rebinned.png\n",
      "→ Saved UMI map (filtered) with bounding box: /mnt/c/Users/jonan/Documents/1Work/RoseLab/Spatial/dietary_droject/data/cell_segmentation/F07837/figures/F07837_umi_rebinned_filtered.png\n",
      "Analysis complete for F07837 \n",
      "\n",
      "offset value ending: 1440475\n",
      "=== Rebinning F07838 ===\n",
      "\n",
      "offset value starting: 1440475\n"
     ]
    },
    {
     "name": "stderr",
     "output_type": "stream",
     "text": [
      "/home/jon/anaconda3/envs/spatial-nuclei/lib/python3.10/site-packages/anndata/_core/anndata.py:1758: UserWarning: Variable names are not unique. To make them unique, call `.var_names_make_unique`.\n",
      "  utils.warn_names_duplicates(\"var\")\n",
      "/home/jon/anaconda3/envs/spatial-nuclei/lib/python3.10/site-packages/anndata/_core/anndata.py:1758: UserWarning: Variable names are not unique. To make them unique, call `.var_names_make_unique`.\n",
      "  utils.warn_names_duplicates(\"var\")\n"
     ]
    },
    {
     "name": "stdout",
     "output_type": "stream",
     "text": [
      "Saved barcode-to-nucleus mapping for F07838\n"
     ]
    },
    {
     "name": "stderr",
     "output_type": "stream",
     "text": [
      "/home/jon/anaconda3/envs/spatial-nuclei/lib/python3.10/site-packages/IPython/extensions/storemagic.py:229: UserWarning: This is now an optional IPython functionality, setting autorestore/rebinned_adata requires you to install the `pickleshare` library.\n",
      "  db[ 'autorestore/' + arg ] = obj\n"
     ]
    },
    {
     "name": "stdout",
     "output_type": "stream",
     "text": [
      "Stored 'rebinned_adata' (AnnData)\n"
     ]
    },
    {
     "name": "stderr",
     "output_type": "stream",
     "text": [
      "/home/jon/anaconda3/envs/spatial-nuclei/lib/python3.10/site-packages/pyogrio/geopandas.py:662: UserWarning: 'crs' was not provided.  The output dataset will not have projection information defined and may not be usable in other systems.\n",
      "  write(\n"
     ]
    },
    {
     "name": "stdout",
     "output_type": "stream",
     "text": [
      "→ Saved rebinned for F07838\n",
      "→ Saved UMI map with bounding box: /mnt/c/Users/jonan/Documents/1Work/RoseLab/Spatial/dietary_droject/data/cell_segmentation/F07838/figures/F07838_umi_rebinned.png\n",
      "→ Saved UMI map (filtered) with bounding box: /mnt/c/Users/jonan/Documents/1Work/RoseLab/Spatial/dietary_droject/data/cell_segmentation/F07838/figures/F07838_umi_rebinned_filtered.png\n",
      "Analysis complete for F07838 \n",
      "\n",
      "offset value ending: 1648501\n"
     ]
    }
   ],
   "source": [
    "# constants\n",
    "BASE_DIR = Path(\"/mnt/c/Users/jonan/Documents/1Work/RoseLab/Spatial/\"\n",
    "                \"dietary_droject/data/Rose_Li_VisiumHD\")\n",
    "SEG_PATH = Path(\"/mnt/c/Users/jonan/Documents/1Work/RoseLab/Spatial/\"\n",
    "                \"dietary_droject/data/cell_segmentation\")\n",
    "SAMPLES = [\n",
    "    \"BANOSSM_SSM0015_1_PR_Whole_C1_VISHD_F07833_22WJCYLT3\",\n",
    "    \"BANOSSM_SSM0015_1_PR_Whole_C1_VISHD_F07834_22WJCYLT3\",\n",
    "    \"BANOSSM_SSM0015_1_PR_Whole_C1_VISHD_F07835_22WJCYLT3_swapped\",\n",
    "    \"BANOSSM_SSM0015_1_PR_Whole_C1_VISHD_F07836_22WJCYLT3_swapped\",\n",
    "    \"BANOSSM_SSM0015_1_PR_Whole_C1_VISHD_F07837_22WJCYLT3\",\n",
    "    \"BANOSSM_SSM0015_1_PR_Whole_C1_VISHD_F07838_22WJCYLT3\",\n",
    "]\n",
    "\n",
    "# Initialize a list to collect summary stats\n",
    "umi_stats = []\n",
    "\n",
    "# To make sure cells don't have a repeat ID\n",
    "offset = 0\n",
    "\n",
    "#Initializing list for UMI summary statistics\n",
    "for sample in SAMPLES:\n",
    "    sample_id = re.search(r'F\\d{5}', sample).group(0)\n",
    "    print(f\"=== Rebinning {sample_id} ===\\n\")\n",
    "    print(f\"offset value starting: {offset}\")\n",
    "    \n",
    "    #==============================================================================================#\n",
    "    # load StarDist polygons\n",
    "    #==============================================================================================#\n",
    "    pkl_file = SEG_PATH / sample_id / \"model_output\" / f\"{sample_id}_polys.pkl\"\n",
    "    with open(pkl_file, \"rb\") as f:\n",
    "        polys = pickle.load(f)\n",
    "\n",
    "\n",
    "    # Creating a list to store Polygon geometries\n",
    "    geometries = []\n",
    "    \n",
    "    # Iterating through each nuclei in the 'polys' DataFrame\n",
    "    for nuclei in range(len(polys['coord'])):\n",
    "        # Extracting coordinates for the current nuclei and converting them to (y, x) format\n",
    "        coords = [(y, x) for x, y in zip(polys['coord'][nuclei][0], polys['coord'][nuclei][1])]\n",
    "        # Creating a Polygon geometry from the coordinates\n",
    "        geometries.append(Polygon(coords))\n",
    "    # Creating a GeoDataFrame using the Polygon geometries\n",
    "    gdf = gpd.GeoDataFrame(geometry=geometries)\n",
    "    gdf['id']   = [f\"ID_{offset + i + 1}\" for i, _ in enumerate(gdf.index)]\n",
    "    gdf['area'] = gdf.geometry.area\n",
    "    offset += len(gdf)\n",
    "\n",
    "    #==============================================================================================#\n",
    "    # load original Visium HD data\n",
    "    #==============================================================================================#\n",
    "    spatial_dir = BASE_DIR / sample / \"outs\" / \"binned_outputs\" / \"square_002um\"\n",
    "    raw_h5_file  = spatial_dir / \"filtered_feature_bc_matrix.h5\"\n",
    "    pq   = spatial_dir / \"spatial\" / \"tissue_positions.parquet\"\n",
    "    \n",
    "    adata = sc.read_10x_h5(str(raw_h5_file ))\n",
    "    adata.var_names_make_unique()\n",
    "    \n",
    "    df_tissue_positions = pd.read_parquet(str(pq))\n",
    "    df_tissue_positions = df_tissue_positions.set_index(\"barcode\")\n",
    "    df_tissue_positions['index'] = df_tissue_positions.index\n",
    "    adata.obs = pd.merge(adata.obs, df_tissue_positions, left_index=True, right_index=True)\n",
    "\n",
    "    #==============================================================================================#\n",
    "    # create GeoDataFrame of barcodes\n",
    "    #==============================================================================================#\n",
    "    \n",
    "    geometry = [Point(xy) for xy in zip(\n",
    "        df_tissue_positions['pxl_col_in_fullres'], df_tissue_positions['pxl_row_in_fullres']\n",
    "    )]\n",
    "    gdf_coordinates = gpd.GeoDataFrame(df_tissue_positions, geometry=geometry)\n",
    "\n",
    "    #==============================================================================================#\n",
    "    # spatial join and filtering\n",
    "    #==============================================================================================#\n",
    "    # Perform a spatial join to check which coordinates are in a cell nucleus\n",
    "    result_spatial_join = gpd.sjoin(\n",
    "        gdf_coordinates, gdf, how='left', predicate='within'\n",
    "    )\n",
    "    \n",
    "    # Identify nuclei associated barcodes and find barcodes that are in more than one nucleus\n",
    "    result_spatial_join['is_within_polygon'] = ~result_spatial_join['index_right'].isna()\n",
    "    barcodes_in_overlaping_polygons  = pd.unique(\n",
    "        result_spatial_join[result_spatial_join.duplicated(subset=['index'])]['index']\n",
    "    )\n",
    "    result_spatial_join['is_not_in_an_polygon_overlap'] = ~result_spatial_join['index'].isin(barcodes_in_overlaping_polygons)\n",
    "\n",
    "\n",
    "    # Remove barcodes in overlapping nuclei\n",
    "    barcodes_in_one_polygon = result_spatial_join[\n",
    "        result_spatial_join['is_within_polygon'] & \n",
    "        result_spatial_join['is_not_in_an_polygon_overlap']\n",
    "    ]\n",
    "\n",
    "    # The AnnData object is filtered to only contain the barcodes that are in non-overlapping polygon regions\n",
    "    filtered_obs_mask = adata.obs_names.isin(barcodes_in_one_polygon['index'])\n",
    "    filtered_adata = adata[filtered_obs_mask,:]\n",
    "\n",
    "    # Save barcode -> nucleus ID mapping\n",
    "    barcode_nucleus_mapping = barcodes_in_one_polygon[['index', 'id']].copy()\n",
    "    barcode_nucleus_mapping.to_csv(SEG_PATH / sample_id / f\"{sample_id}_barcode_to_nucleus_mapping.csv\", index=False)\n",
    "    print(f\"Saved barcode-to-nucleus mapping for {sample_id}\")\n",
    "\n",
    "\n",
    "    # Add the results of the point spatial join to the Anndata object\n",
    "    filtered_adata.obs = pd.merge(\n",
    "        filtered_adata.obs, \n",
    "        barcodes_in_one_polygon[['index','geometry','id','is_within_polygon','is_not_in_an_polygon_overlap']], \n",
    "        left_index=True, right_index=True)\n",
    "    \n",
    "    #==============================================================================================#\n",
    "    # summation\n",
    "    #==============================================================================================#\n",
    "    # Group the data by unique nucleous IDs\n",
    "    groupby_object = filtered_adata.obs.groupby(['id'], observed=True)\n",
    "\n",
    "    # Extract the gene expression counts from the AnnData object\n",
    "    counts = filtered_adata.X\n",
    "\n",
    "    # Obtain the number of unique nuclei and the number of genes in the expression data\n",
    "    N_groups = groupby_object.ngroups\n",
    "    N_genes = counts.shape[1]\n",
    "\n",
    "    # Initialize a sparse matrix to store the summed gene counts for each nucleus\n",
    "    summed_counts = sparse.lil_matrix((N_groups, N_genes))\n",
    "\n",
    "    # Lists to store the IDs of polygons and the current row index\n",
    "    polygon_id = []\n",
    "    row = 0\n",
    "\n",
    "    # Iterate over each unique polygon to calculate the sum of gene counts.\n",
    "    for polygons, idx_ in groupby_object.indices.items():\n",
    "        summed_counts[row] = counts[idx_].sum(0)\n",
    "        row += 1\n",
    "        polygon_id.append(polygons)\n",
    "        \n",
    "\n",
    "    # Create and AnnData object from the summed count matrix\n",
    "    summed_counts = summed_counts.tocsr()\n",
    "    rebinned_adata = anndata.AnnData(\n",
    "        X=summed_counts,\n",
    "        obs=pd.DataFrame(polygon_id, columns=['id'], index=polygon_id),\n",
    "        var=filtered_adata.var\n",
    "    )\n",
    "    %store rebinned_adata\n",
    "    \n",
    "    #==============================================================================================#\n",
    "    # save with \"_rebinned\" suffix\n",
    "    #==============================================================================================#\n",
    "    out_dir = SEG_PATH / sample_id\n",
    "    rebinned_adata.write(out_dir / f\"{sample_id}_grouped_filtered_adata_rebinned.h5ad\")\n",
    "    gdf.to_file(out_dir / f\"{sample_id}_gdf_rebinned.gpkg\", driver=\"GPKG\")\n",
    "    \n",
    "    print(f\"→ Saved rebinned for {sample_id}\")\n",
    "    \n",
    "    #===========================================================================#\n",
    "    # UMI Figure\n",
    "    #===========================================================================#\n",
    "\n",
    "    # ensure your figures folder exists\n",
    "    fig_out = SEG_PATH / sample_id / \"figures\"\n",
    "    fig_out.mkdir(parents=True, exist_ok=True)\n",
    "    \n",
    "    # Compute total UMI per nucleus from the rebinned AnnData\n",
    "    total_umis = rebinned_adata.X.sum(axis=1).A1   # flatten sparse matrix\n",
    "    rebinned_adata.obs['total_umis'] = total_umis\n",
    "    \n",
    "    # Merge UMI counts into the rebinned GeoDataFrame (gdf)\n",
    "    gdf_umi = gdf.merge(\n",
    "        rebinned_adata.obs[['total_umis']],\n",
    "        left_on='id',\n",
    "        right_index=True\n",
    "    )\n",
    "\n",
    "    # Fig\n",
    "    fig, ax = plt.subplots(figsize=(20, 20))\n",
    "    \n",
    "    # Draw bounding box\n",
    "    xmin, ymin, xmax, ymax = gdf_umi.total_bounds\n",
    "    ax.plot(\n",
    "        [xmin, xmax, xmax, xmin, xmin],  # x coordinates (loop closed)\n",
    "        [ymin, ymin, ymax, ymax, ymin],  # y coordinates\n",
    "        color=\"cyan\", linewidth=2, linestyle=\"--\", label=\"Bounding Box\"\n",
    "    )\n",
    "    \n",
    "    # Plot with color scale capped\n",
    "    gdf_umi.plot(\n",
    "        column='total_umis',\n",
    "        cmap='inferno',\n",
    "        legend=True,\n",
    "        linewidth=0.1,\n",
    "        edgecolor='black',\n",
    "        ax=ax,\n",
    "        vmin=0,    # start colorbar at 0\n",
    "        vmax=300   # cap colorbar at 200\n",
    "    )\n",
    "    \n",
    "    # Set title and enable axis coordinates\n",
    "    ax.set_title(f\"UMI Counts per Nucleus (rebinned {sample_id})\", fontsize=18)\n",
    "    ax.set_xlabel(\"X Coordinate (pixels)\")\n",
    "    ax.set_ylabel(\"Y Coordinate (pixels)\")\n",
    "    ax.legend()\n",
    "    ax.axis('on')  # Turn axes back ON\n",
    "    \n",
    "    # Tight layout and save\n",
    "    plt.tight_layout()\n",
    "    out_file = fig_out / f\"{sample_id}_umi_rebinned.png\"\n",
    "    fig.savefig(out_file, dpi=600, bbox_inches='tight')\n",
    "    plt.close(fig)\n",
    "\n",
    "    print(f\"→ Saved UMI map with bounding box: {out_file}\")\n",
    "\n",
    "    # ===========================================\n",
    "    # Now make second figure: filtered at UMI > 50\n",
    "    # ===========================================\n",
    "\n",
    "    # Filter gdf_umi to only nuclei with total_umis > 50\n",
    "    gdf_umi_filtered = gdf_umi[gdf_umi['total_umis'] > 50]\n",
    "    \n",
    "    # Create new figure\n",
    "    fig2, ax2 = plt.subplots(figsize=(20, 20))\n",
    "    \n",
    "    # Plot filtered data\n",
    "    gdf_umi_filtered.plot(\n",
    "        column='total_umis',\n",
    "        cmap='inferno',\n",
    "        legend=True,\n",
    "        linewidth=0.1,\n",
    "        edgecolor='black',\n",
    "        ax=ax2,\n",
    "        vmin=50,\n",
    "        vmax=300\n",
    "    )\n",
    "    \n",
    "    # Draw bounding box (same xmin, xmax, ymin, ymax as before)\n",
    "    ax2.plot(\n",
    "        [xmin, xmax, xmax, xmin, xmin],\n",
    "        [ymin, ymin, ymax, ymax, ymin],\n",
    "        color=\"cyan\", linewidth=2, linestyle=\"--\", label=\"Bounding Box\"\n",
    "    )\n",
    "    \n",
    "    # Set title and labels\n",
    "    ax2.set_title(f\"UMI > 50 per Nucleus (rebinned {sample_id})\", fontsize=18)\n",
    "    ax2.set_xlabel(\"X Coordinate (pixels)\")\n",
    "    ax2.set_ylabel(\"Y Coordinate (pixels)\")\n",
    "    ax2.legend()\n",
    "    ax2.axis('on')\n",
    "    \n",
    "    # Save second figure\n",
    "    plt.tight_layout()\n",
    "    out_file2 = fig_out / f\"{sample_id}_umi_rebinned_filtered.png\"\n",
    "    fig2.savefig(out_file2, dpi=600, bbox_inches='tight')\n",
    "    plt.close(fig2)\n",
    "    \n",
    "    print(f\"→ Saved UMI map (filtered) with bounding box: {out_file2}\")\n",
    "\n",
    "    umi_values = rebinned_adata.obs['total_umis']\n",
    "    stats = {\n",
    "        'sample_id': sample_id,\n",
    "        'n_nuclei': len(umi_values),\n",
    "        'umi_min': np.min(umi_values),\n",
    "        'umi_q1': np.percentile(umi_values, 25),\n",
    "        'umi_median': np.median(umi_values),\n",
    "        'umi_mean': np.mean(umi_values),\n",
    "        'umi_q3': np.percentile(umi_values, 75),\n",
    "        'umi_max': np.max(umi_values),\n",
    "        'umi_std': np.std(umi_values)\n",
    "    }\n",
    "    umi_stats.append(stats)\n",
    "\n",
    "    print(f\"Analysis complete for {sample_id} \\n\")\n",
    "    print(f\"offset value ending: {offset}\")\n",
    "        \n",
    "    "
   ]
  },
  {
   "cell_type": "code",
   "execution_count": 7,
   "id": "d861ba53-6d92-4433-9670-ed3a648028c7",
   "metadata": {},
   "outputs": [
    {
     "data": {
      "text/plain": [
       "0"
      ]
     },
     "execution_count": 7,
     "metadata": {},
     "output_type": "execute_result"
    }
   ],
   "source": [
    "offset"
   ]
  },
  {
   "cell_type": "code",
   "execution_count": 11,
   "id": "c286e27d-ac42-417d-a6b7-ea453107b692",
   "metadata": {},
   "outputs": [
    {
     "name": "stdout",
     "output_type": "stream",
     "text": [
      "→ Saved UMI summary table: /mnt/c/Users/jonan/Documents/1Work/RoseLab/Spatial/dietary_droject/data/cell_segmentation/umi_summary_rebinned.csv\n"
     ]
    }
   ],
   "source": [
    "# Save UMI stats summary table\n",
    "umi_stats_df = pd.DataFrame(umi_stats)\n",
    "summary_file = SEG_PATH / \"umi_summary_rebinned.csv\"\n",
    "umi_stats_df.to_csv(summary_file, index=False)\n",
    "print(f\"→ Saved UMI summary table: {summary_file}\")"
   ]
  },
  {
   "cell_type": "code",
   "execution_count": 9,
   "id": "02266d10-e16b-4820-8c97-01261a49f644",
   "metadata": {},
   "outputs": [
    {
     "name": "stdout",
     "output_type": "stream",
     "text": [
      "xmin: 2033.7506103515625\n",
      "xmax: 5859.31640625\n",
      "ymin: 2374.890380859375\n",
      "ymax: 5647.9951171875\n"
     ]
    }
   ],
   "source": [
    "bounds = gdf_umi.total_bounds\n",
    "xmin, ymin, xmax, ymax = bounds\n",
    "\n",
    "print(f\"xmin: {xmin}\")\n",
    "print(f\"xmax: {xmax}\")\n",
    "print(f\"ymin: {ymin}\")\n",
    "print(f\"ymax: {ymax}\")\n"
   ]
  },
  {
   "cell_type": "code",
   "execution_count": 3,
   "id": "38c790ac-2119-4d12-a6c7-1db1c54dd504",
   "metadata": {},
   "outputs": [
    {
     "ename": "NameError",
     "evalue": "name 'polys' is not defined",
     "output_type": "error",
     "traceback": [
      "\u001b[0;31m---------------------------------------------------------------------------\u001b[0m",
      "\u001b[0;31mNameError\u001b[0m                                 Traceback (most recent call last)",
      "Cell \u001b[0;32mIn[3], line 15\u001b[0m\n\u001b[1;32m     13\u001b[0m all_x \u001b[38;5;241m=\u001b[39m []\n\u001b[1;32m     14\u001b[0m all_y \u001b[38;5;241m=\u001b[39m []\n\u001b[0;32m---> 15\u001b[0m \u001b[38;5;28;01mfor\u001b[39;00m coord \u001b[38;5;129;01min\u001b[39;00m \u001b[43mpolys\u001b[49m[\u001b[38;5;124m\"\u001b[39m\u001b[38;5;124mcoord\u001b[39m\u001b[38;5;124m\"\u001b[39m]:\n\u001b[1;32m     16\u001b[0m     ys, xs \u001b[38;5;241m=\u001b[39m coord\n\u001b[1;32m     17\u001b[0m     all_x\u001b[38;5;241m.\u001b[39mextend(xs)\n",
      "\u001b[0;31mNameError\u001b[0m: name 'polys' is not defined"
     ]
    }
   ],
   "source": [
    "# Helper function\n",
    "def print_bounds(name, bounds_array):\n",
    "    xmin, ymin, xmax, ymax = bounds_array\n",
    "    print(f\"{name}:\")\n",
    "    print(f\"  xmin = {xmin:.2f}\")\n",
    "    print(f\"  xmax = {xmax:.2f}\")\n",
    "    print(f\"  ymin = {ymin:.2f}\")\n",
    "    print(f\"  ymax = {ymax:.2f}\")\n",
    "    print(\"-\" * 40)\n",
    "\n",
    "# 1. polys\n",
    "# polys is just coordinates, so manually calculate\n",
    "all_x = []\n",
    "all_y = []\n",
    "for coord in polys[\"coord\"]:\n",
    "    ys, xs = coord\n",
    "    all_x.extend(xs)\n",
    "    all_y.extend(ys)\n",
    "\n",
    "xmin_poly = min(all_x)\n",
    "xmax_poly = max(all_x)\n",
    "ymin_poly = min(all_y)\n",
    "ymax_poly = max(all_y)\n",
    "print_bounds(\"polys\", [xmin_poly, ymin_poly, xmax_poly, ymax_poly])\n",
    "\n",
    "# 2. df_tissue_positions\n",
    "xmin_tp = df_tissue_positions[\"pxl_col_in_fullres\"].min()\n",
    "xmax_tp = df_tissue_positions[\"pxl_col_in_fullres\"].max()\n",
    "ymin_tp = df_tissue_positions[\"pxl_row_in_fullres\"].min()\n",
    "ymax_tp = df_tissue_positions[\"pxl_row_in_fullres\"].max()\n",
    "print_bounds(\"df_tissue_positions_parquet\", [xmin_tp, ymin_tp, xmax_tp, ymax_tp])\n",
    "\n",
    "# 3. gdf_coordinates\n",
    "print_bounds(\"gdf_coordinates\", gdf_coordinates.total_bounds)\n",
    "\n",
    "# 4. barcodes_in_one_polygon\n",
    "# First merge back into coordinates to get geometry\n",
    "barcodes_df = gdf_coordinates[gdf_coordinates.index.isin(barcodes_in_one_polygon[\"index\"])]\n",
    "print_bounds(\"barcodes_in_one_polygon\", barcodes_df.total_bounds)\n",
    "\n",
    "# 5. filtered_adata\n",
    "# filtered_adata.obs contains pxl_col_in_fullres and pxl_row_in_fullres from earlier merge\n",
    "xmin_filt = filtered_adata.obs[\"pxl_col_in_fullres\"].min()\n",
    "xmax_filt = filtered_adata.obs[\"pxl_col_in_fullres\"].max()\n",
    "ymin_filt = filtered_adata.obs[\"pxl_row_in_fullres\"].min()\n",
    "ymax_filt = filtered_adata.obs[\"pxl_row_in_fullres\"].max()\n",
    "print_bounds(\"filtered_adata\", [xmin_filt, ymin_filt, xmax_filt, ymax_filt])\n"
   ]
  },
  {
   "cell_type": "code",
   "execution_count": null,
   "id": "10afd819-cf2c-4052-b4af-3350d31fb03c",
   "metadata": {},
   "outputs": [],
   "source": [
    "# The image being used doesn't match"
   ]
  },
  {
   "cell_type": "code",
   "execution_count": 5,
   "id": "dae93758-1401-4266-9cb1-ec27a2e4e2a5",
   "metadata": {},
   "outputs": [
    {
     "name": "stdout",
     "output_type": "stream",
     "text": [
      "Image shape (height, width, channels): (5870, 6000, 3)\n"
     ]
    }
   ],
   "source": [
    "from PIL import Image\n",
    "import numpy as np\n",
    "\n",
    "img_path = \"/mnt/c/Users/jonan/Documents/1Work/RoseLab/Spatial/dietary_droject/data/Rose_Li_VisiumHD/BANOSSM_SSM0015_1_PR_Whole_C1_VISHD_F07834_22WJCYLT3/outs/binned_outputs/square_002um/spatial/tissue_hires_image.png\"\n",
    "# img_path = \"/mnt/c/Users/jonan/Documents/1Work/RoseLab/Spatial/dietary_droject/data/images_for_alignments/111324-111424_Training_TMA2/hne/MycCAP_TMA2_Slide1.tif\"\n",
    "img = Image.open(img_path)\n",
    "img_np = np.array(img)\n",
    "print(\"Image shape (height, width, channels):\", img_np.shape)\n"
   ]
  },
  {
   "cell_type": "code",
   "execution_count": 4,
   "id": "473cb605-7e15-45b1-849d-a179601e8d96",
   "metadata": {},
   "outputs": [
    {
     "name": "stdout",
     "output_type": "stream",
     "text": [
      "TIFF image shape: (12536, 12814, 3)\n"
     ]
    }
   ],
   "source": [
    "import tifffile\n",
    "\n",
    "img_path = \"/mnt/c/Users/jonan/Documents/1Work/RoseLab/Spatial/dietary_droject/data/images_for_alignments/111324-111424_Training_TMA2/hne/MycCAP_TMA2_Slide1.tif\"\n",
    "\n",
    "img = tifffile.imread(img_path)\n",
    "print(\"TIFF image shape:\", img.shape)\n"
   ]
  },
  {
   "cell_type": "code",
   "execution_count": 3,
   "id": "6bd609b9-cfa3-41a4-820e-4ee651afad0f",
   "metadata": {},
   "outputs": [
    {
     "name": "stdout",
     "output_type": "stream",
     "text": [
      "✅ F07833: Found /mnt/c/Users/jonan/Documents/1Work/RoseLab/Spatial/dietary_droject/data/images_for_alignments/111324-111424_Training_TMA2/hne/MycCAP_TMA2_Slide2.tif\n",
      "✅ F07834: Found /mnt/c/Users/jonan/Documents/1Work/RoseLab/Spatial/dietary_droject/data/images_for_alignments/111324-111424_Training_TMA2/hne/MycCAP_TMA2_Slide1.tif\n",
      "✅ F07835: Found /mnt/c/Users/jonan/Documents/1Work/RoseLab/Spatial/dietary_droject/data/images_for_alignments/120524-120624_MycCap_TMA1_1_TMA3_1/hne/MycCap_TMA1_slide1.tif\n",
      "✅ F07836: Found /mnt/c/Users/jonan/Documents/1Work/RoseLab/Spatial/dietary_droject/data/images_for_alignments/120524-120624_MycCap_TMA1_1_TMA3_1/hne/RL_MycCap_TMA3_slide1.tif\n",
      "✅ F07837: Found /mnt/c/Users/jonan/Documents/1Work/RoseLab/Spatial/dietary_droject/data/images_for_alignments/121124-121224_SKO_TMA1_1_n_TMA2_1/hne/12_11_2024_RL_SKOTMA1_Slide_1.tif\n",
      "✅ F07838: Found /mnt/c/Users/jonan/Documents/1Work/RoseLab/Spatial/dietary_droject/data/images_for_alignments/121124-121224_SKO_TMA1_1_n_TMA2_1/hne/12_11_2024_RL_SKOTMA2 Slide_1.tif\n"
     ]
    }
   ],
   "source": [
    "HNE_TIF_PATHS = {\n",
    "    \"F07833\": Path(\"/mnt/c/Users/jonan/Documents/1Work/RoseLab/Spatial/dietary_droject/data/images_for_alignments/111324-111424_Training_TMA2/hne/MycCAP_TMA2_Slide2.tif\"),\n",
    "    \"F07834\": Path(\"/mnt/c/Users/jonan/Documents/1Work/RoseLab/Spatial/dietary_droject/data/images_for_alignments/111324-111424_Training_TMA2/hne/MycCAP_TMA2_Slide1.tif\"),\n",
    "    \"F07835\": Path(\"/mnt/c/Users/jonan/Documents/1Work/RoseLab/Spatial/dietary_droject/data/images_for_alignments/120524-120624_MycCap_TMA1_1_TMA3_1/hne/MycCap_TMA1_slide1.tif\"),\n",
    "    \"F07836\": Path(\"/mnt/c/Users/jonan/Documents/1Work/RoseLab/Spatial/dietary_droject/data/images_for_alignments/120524-120624_MycCap_TMA1_1_TMA3_1/hne/RL_MycCap_TMA3_slide1.tif\"),\n",
    "    \"F07837\": Path(\"/mnt/c/Users/jonan/Documents/1Work/RoseLab/Spatial/dietary_droject/data/images_for_alignments/121124-121224_SKO_TMA1_1_n_TMA2_1/hne/12_11_2024_RL_SKOTMA1_Slide_1.tif\"),\n",
    "    \"F07838\": Path(\"/mnt/c/Users/jonan/Documents/1Work/RoseLab/Spatial/dietary_droject/data/images_for_alignments/121124-121224_SKO_TMA1_1_n_TMA2_1/hne/12_11_2024_RL_SKOTMA2 Slide_1.tif\"),\n",
    "}\n",
    "\n",
    "for sample_id, path in HNE_TIF_PATHS.items():\n",
    "    if path.exists():\n",
    "        print(f\"✅ {sample_id}: Found {path}\")\n",
    "    else:\n",
    "        print(f\"❌ {sample_id}: MISSING {path}\")\n"
   ]
  },
  {
   "cell_type": "code",
   "execution_count": 1,
   "id": "58ca9791-1807-4de3-9e0b-e5cd24a0f2ab",
   "metadata": {},
   "outputs": [
    {
     "name": "stdout",
     "output_type": "stream",
     "text": [
      "\n",
      "=== Checking Parquet Coordinates and TIFF Image Shapes ===\n",
      "\n",
      "📄 07833 Parquet: xmin=933.89, xmax=10739.15, ymin=1045.67, ymax=10850.66\n",
      "❌ 07833 TIF missing at None\n",
      "\n"
     ]
    },
    {
     "ename": "KeyboardInterrupt",
     "evalue": "",
     "output_type": "error",
     "traceback": [
      "\u001b[0;31m---------------------------------------------------------------------------\u001b[0m",
      "\u001b[0;31mTypeError\u001b[0m                                 Traceback (most recent call last)",
      "File \u001b[0;32m~/anaconda3/envs/spatial-nuclei/lib/python3.10/site-packages/numpy/core/numerictypes.py:320\u001b[0m, in \u001b[0;36missubclass_\u001b[0;34m(arg1, arg2)\u001b[0m\n\u001b[1;32m    319\u001b[0m \u001b[38;5;28;01mtry\u001b[39;00m:\n\u001b[0;32m--> 320\u001b[0m     \u001b[38;5;28;01mreturn\u001b[39;00m \u001b[38;5;28;43missubclass\u001b[39;49m\u001b[43m(\u001b[49m\u001b[43marg1\u001b[49m\u001b[43m,\u001b[49m\u001b[43m \u001b[49m\u001b[43marg2\u001b[49m\u001b[43m)\u001b[49m\n\u001b[1;32m    321\u001b[0m \u001b[38;5;28;01mexcept\u001b[39;00m \u001b[38;5;167;01mTypeError\u001b[39;00m:\n",
      "\u001b[0;31mTypeError\u001b[0m: issubclass() arg 1 must be a class",
      "\nDuring handling of the above exception, another exception occurred:\n",
      "\u001b[0;31mKeyboardInterrupt\u001b[0m                         Traceback (most recent call last)",
      "Cell \u001b[0;32mIn[1], line 37\u001b[0m\n\u001b[1;32m     35\u001b[0m \u001b[38;5;28;01mif\u001b[39;00m pq_path\u001b[38;5;241m.\u001b[39mexists():\n\u001b[1;32m     36\u001b[0m     df_pos \u001b[38;5;241m=\u001b[39m pd\u001b[38;5;241m.\u001b[39mread_parquet(pq_path)\u001b[38;5;241m.\u001b[39mset_index(\u001b[38;5;124m\"\u001b[39m\u001b[38;5;124mbarcode\u001b[39m\u001b[38;5;124m\"\u001b[39m)\n\u001b[0;32m---> 37\u001b[0m     geometry \u001b[38;5;241m=\u001b[39m [Point(xy) \u001b[38;5;28;01mfor\u001b[39;00m xy \u001b[38;5;129;01min\u001b[39;00m \u001b[38;5;28mzip\u001b[39m(df_pos[\u001b[38;5;124m\"\u001b[39m\u001b[38;5;124mpxl_col_in_fullres\u001b[39m\u001b[38;5;124m\"\u001b[39m], df_pos[\u001b[38;5;124m\"\u001b[39m\u001b[38;5;124mpxl_row_in_fullres\u001b[39m\u001b[38;5;124m\"\u001b[39m])]\n\u001b[1;32m     38\u001b[0m     gdf_coords \u001b[38;5;241m=\u001b[39m gpd\u001b[38;5;241m.\u001b[39mGeoDataFrame(df_pos, geometry\u001b[38;5;241m=\u001b[39mgeometry)\n\u001b[1;32m     39\u001b[0m     xmin, ymin, xmax, ymax \u001b[38;5;241m=\u001b[39m gdf_coords\u001b[38;5;241m.\u001b[39mtotal_bounds\n",
      "Cell \u001b[0;32mIn[1], line 37\u001b[0m, in \u001b[0;36m<listcomp>\u001b[0;34m(.0)\u001b[0m\n\u001b[1;32m     35\u001b[0m \u001b[38;5;28;01mif\u001b[39;00m pq_path\u001b[38;5;241m.\u001b[39mexists():\n\u001b[1;32m     36\u001b[0m     df_pos \u001b[38;5;241m=\u001b[39m pd\u001b[38;5;241m.\u001b[39mread_parquet(pq_path)\u001b[38;5;241m.\u001b[39mset_index(\u001b[38;5;124m\"\u001b[39m\u001b[38;5;124mbarcode\u001b[39m\u001b[38;5;124m\"\u001b[39m)\n\u001b[0;32m---> 37\u001b[0m     geometry \u001b[38;5;241m=\u001b[39m [\u001b[43mPoint\u001b[49m\u001b[43m(\u001b[49m\u001b[43mxy\u001b[49m\u001b[43m)\u001b[49m \u001b[38;5;28;01mfor\u001b[39;00m xy \u001b[38;5;129;01min\u001b[39;00m \u001b[38;5;28mzip\u001b[39m(df_pos[\u001b[38;5;124m\"\u001b[39m\u001b[38;5;124mpxl_col_in_fullres\u001b[39m\u001b[38;5;124m\"\u001b[39m], df_pos[\u001b[38;5;124m\"\u001b[39m\u001b[38;5;124mpxl_row_in_fullres\u001b[39m\u001b[38;5;124m\"\u001b[39m])]\n\u001b[1;32m     38\u001b[0m     gdf_coords \u001b[38;5;241m=\u001b[39m gpd\u001b[38;5;241m.\u001b[39mGeoDataFrame(df_pos, geometry\u001b[38;5;241m=\u001b[39mgeometry)\n\u001b[1;32m     39\u001b[0m     xmin, ymin, xmax, ymax \u001b[38;5;241m=\u001b[39m gdf_coords\u001b[38;5;241m.\u001b[39mtotal_bounds\n",
      "File \u001b[0;32m~/anaconda3/envs/spatial-nuclei/lib/python3.10/site-packages/shapely/geometry/point.py:79\u001b[0m, in \u001b[0;36mPoint.__new__\u001b[0;34m(self, *args)\u001b[0m\n\u001b[1;32m     75\u001b[0m \u001b[38;5;28;01mif\u001b[39;00m coords\u001b[38;5;241m.\u001b[39mndim \u001b[38;5;241m>\u001b[39m \u001b[38;5;241m1\u001b[39m:\n\u001b[1;32m     76\u001b[0m     \u001b[38;5;28;01mraise\u001b[39;00m \u001b[38;5;167;01mValueError\u001b[39;00m(\n\u001b[1;32m     77\u001b[0m         \u001b[38;5;124mf\u001b[39m\u001b[38;5;124m\"\u001b[39m\u001b[38;5;124mPoint() takes only scalar or 1-size vector arguments, got \u001b[39m\u001b[38;5;132;01m{\u001b[39;00margs\u001b[38;5;132;01m}\u001b[39;00m\u001b[38;5;124m\"\u001b[39m\n\u001b[1;32m     78\u001b[0m     )\n\u001b[0;32m---> 79\u001b[0m \u001b[38;5;28;01mif\u001b[39;00m \u001b[38;5;129;01mnot\u001b[39;00m \u001b[43mnp\u001b[49m\u001b[38;5;241;43m.\u001b[39;49m\u001b[43missubdtype\u001b[49m\u001b[43m(\u001b[49m\u001b[43mcoords\u001b[49m\u001b[38;5;241;43m.\u001b[39;49m\u001b[43mdtype\u001b[49m\u001b[43m,\u001b[49m\u001b[43m \u001b[49m\u001b[43mnp\u001b[49m\u001b[38;5;241;43m.\u001b[39;49m\u001b[43mnumber\u001b[49m\u001b[43m)\u001b[49m:\n\u001b[1;32m     80\u001b[0m     coords \u001b[38;5;241m=\u001b[39m [\u001b[38;5;28mfloat\u001b[39m(c) \u001b[38;5;28;01mfor\u001b[39;00m c \u001b[38;5;129;01min\u001b[39;00m coords]\n\u001b[1;32m     81\u001b[0m geom \u001b[38;5;241m=\u001b[39m shapely\u001b[38;5;241m.\u001b[39mpoints(coords)\n",
      "File \u001b[0;32m~/anaconda3/envs/spatial-nuclei/lib/python3.10/site-packages/numpy/core/numerictypes.py:416\u001b[0m, in \u001b[0;36missubdtype\u001b[0;34m(arg1, arg2)\u001b[0m\n\u001b[1;32m    357\u001b[0m \u001b[38;5;129m@set_module\u001b[39m(\u001b[38;5;124m'\u001b[39m\u001b[38;5;124mnumpy\u001b[39m\u001b[38;5;124m'\u001b[39m)\n\u001b[1;32m    358\u001b[0m \u001b[38;5;28;01mdef\u001b[39;00m\u001b[38;5;250m \u001b[39m\u001b[38;5;21missubdtype\u001b[39m(arg1, arg2):\n\u001b[1;32m    359\u001b[0m \u001b[38;5;250m    \u001b[39m\u001b[38;5;124mr\u001b[39m\u001b[38;5;124;03m\"\"\"\u001b[39;00m\n\u001b[1;32m    360\u001b[0m \u001b[38;5;124;03m    Returns True if first argument is a typecode lower/equal in type hierarchy.\u001b[39;00m\n\u001b[1;32m    361\u001b[0m \n\u001b[0;32m   (...)\u001b[0m\n\u001b[1;32m    414\u001b[0m \n\u001b[1;32m    415\u001b[0m \u001b[38;5;124;03m    \"\"\"\u001b[39;00m\n\u001b[0;32m--> 416\u001b[0m     \u001b[38;5;28;01mif\u001b[39;00m \u001b[38;5;129;01mnot\u001b[39;00m \u001b[43missubclass_\u001b[49m\u001b[43m(\u001b[49m\u001b[43marg1\u001b[49m\u001b[43m,\u001b[49m\u001b[43m \u001b[49m\u001b[43mgeneric\u001b[49m\u001b[43m)\u001b[49m:\n\u001b[1;32m    417\u001b[0m         arg1 \u001b[38;5;241m=\u001b[39m dtype(arg1)\u001b[38;5;241m.\u001b[39mtype\n\u001b[1;32m    418\u001b[0m     \u001b[38;5;28;01mif\u001b[39;00m \u001b[38;5;129;01mnot\u001b[39;00m issubclass_(arg2, generic):\n",
      "File \u001b[0;32m~/anaconda3/envs/spatial-nuclei/lib/python3.10/site-packages/numpy/core/numerictypes.py:320\u001b[0m, in \u001b[0;36missubclass_\u001b[0;34m(arg1, arg2)\u001b[0m\n\u001b[1;32m    285\u001b[0m \u001b[38;5;250m\u001b[39m\u001b[38;5;124;03m\"\"\"\u001b[39;00m\n\u001b[1;32m    286\u001b[0m \u001b[38;5;124;03mDetermine if a class is a subclass of a second class.\u001b[39;00m\n\u001b[1;32m    287\u001b[0m \n\u001b[0;32m   (...)\u001b[0m\n\u001b[1;32m    317\u001b[0m \n\u001b[1;32m    318\u001b[0m \u001b[38;5;124;03m\"\"\"\u001b[39;00m\n\u001b[1;32m    319\u001b[0m \u001b[38;5;28;01mtry\u001b[39;00m:\n\u001b[0;32m--> 320\u001b[0m     \u001b[38;5;28;01mreturn\u001b[39;00m \u001b[38;5;28;43missubclass\u001b[39;49m\u001b[43m(\u001b[49m\u001b[43marg1\u001b[49m\u001b[43m,\u001b[49m\u001b[43m \u001b[49m\u001b[43marg2\u001b[49m\u001b[43m)\u001b[49m\n\u001b[1;32m    321\u001b[0m \u001b[38;5;28;01mexcept\u001b[39;00m \u001b[38;5;167;01mTypeError\u001b[39;00m:\n\u001b[1;32m    322\u001b[0m     \u001b[38;5;28;01mreturn\u001b[39;00m \u001b[38;5;28;01mFalse\u001b[39;00m\n",
      "\u001b[0;31mKeyboardInterrupt\u001b[0m: "
     ]
    }
   ],
   "source": [
    "import pandas as pd\n",
    "import tifffile\n",
    "from shapely.geometry import Point\n",
    "import geopandas as gpd\n",
    "from pathlib import Path\n",
    "\n",
    "# Paths\n",
    "BASE_DIR = Path(\"/mnt/c/Users/jonan/Documents/1Work/RoseLab/Spatial/dietary_droject/data/Rose_Li_VisiumHD\")\n",
    "HNE_TIF_PATHS = {\n",
    "    \"F07833\": Path(\"/mnt/c/Users/jonan/Documents/1Work/RoseLab/Spatial/dietary_droject/data/images_for_alignments/111324-111424_Training_TMA2/hne/MycCAP_TMA2_Slide2.tif\"),\n",
    "    \"F07834\": Path(\"/mnt/c/Users/jonan/Documents/1Work/RoseLab/Spatial/dietary_droject/data/images_for_alignments/111324-111424_Training_TMA2/hne/MycCAP_TMA2_Slide1.tif\"),\n",
    "    \"F07835\": Path(\"/mnt/c/Users/jonan/Documents/1Work/RoseLab/Spatial/dietary_droject/data/images_for_alignments/120524-120624_MycCap_TMA1_1_TMA3_1/hne/MycCap_TMA1_slide1.tif\"),\n",
    "    \"F07836\": Path(\"/mnt/c/Users/jonan/Documents/1Work/RoseLab/Spatial/dietary_droject/data/images_for_alignments/120524-120624_MycCap_TMA1_1_TMA3_1/hne/RL_MycCap_TMA3_slide1.tif\"),\n",
    "    \"F07837\": Path(\"/mnt/c/Users/jonan/Documents/1Work/RoseLab/Spatial/dietary_droject/data/images_for_alignments/121124-121224_SKO_TMA1_1_n_TMA2_1/hne/12_11_2024_RL_SKOTMA1_Slide_1.tif\"),\n",
    "    \"F07838\": Path(\"/mnt/c/Users/jonan/Documents/1Work/RoseLab/Spatial/dietary_droject/data/images_for_alignments/121124-121224_SKO_TMA1_1_n_TMA2_1/hne/12_11_2024_RL_SKOTMA2 Slide_1.tif\"),\n",
    "}\n",
    "\n",
    "# Matching samples\n",
    "SAMPLES = [\n",
    "    \"BANOSSM_SSM0015_1_PR_Whole_C1_VISHD_F07833_22WJCYLT3\",\n",
    "    \"BANOSSM_SSM0015_1_PR_Whole_C1_VISHD_F07834_22WJCYLT3\",\n",
    "    \"BANOSSM_SSM0015_1_PR_Whole_C1_VISHD_F07835_22WJCYLT3\",\n",
    "    \"BANOSSM_SSM0015_1_PR_Whole_C1_VISHD_F07836_22WJCYLT3\",\n",
    "    \"BANOSSM_SSM0015_1_PR_Whole_C1_VISHD_F07837_22WJCYLT3\",\n",
    "    \"BANOSSM_SSM0015_1_PR_Whole_C1_VISHD_F07838_22WJCYLT3\",\n",
    "]\n",
    "\n",
    "print(\"\\n=== Checking Parquet Coordinates and TIFF Image Shapes ===\\n\")\n",
    "\n",
    "for sample in SAMPLES:\n",
    "    sample_id = sample.split(\"_F\")[-1].split(\"_\")[0]  # F07833, etc.\n",
    "\n",
    "    # --- Load parquet file ---\n",
    "    pq_path = BASE_DIR / sample / \"outs\" / \"binned_outputs\" / \"square_002um\" / \"spatial\" / \"tissue_positions.parquet\"\n",
    "    if pq_path.exists():\n",
    "        df_pos = pd.read_parquet(pq_path).set_index(\"barcode\")\n",
    "        geometry = [Point(xy) for xy in zip(df_pos[\"pxl_col_in_fullres\"], df_pos[\"pxl_row_in_fullres\"])]\n",
    "        gdf_coords = gpd.GeoDataFrame(df_pos, geometry=geometry)\n",
    "        xmin, ymin, xmax, ymax = gdf_coords.total_bounds\n",
    "        print(f\"📄 {sample_id} Parquet: xmin={xmin:.2f}, xmax={xmax:.2f}, ymin={ymin:.2f}, ymax={ymax:.2f}\")\n",
    "    else:\n",
    "        print(f\"❌ {sample_id} Parquet missing at {pq_path}\")\n",
    "\n",
    "    # --- Load tif image ---\n",
    "    tif_path = HNE_TIF_PATHS.get(sample_id)\n",
    "    if tif_path and tif_path.exists():\n",
    "        img = tifffile.imread(str(tif_path))\n",
    "        print(f\"🖼️  {sample_id} TIF shape: {img.shape}\\n\")\n",
    "    else:\n",
    "        print(f\"❌ {sample_id} TIF missing at {tif_path}\\n\")\n"
   ]
  }
 ],
 "metadata": {
  "kernelspec": {
   "display_name": "Python (spatial-nuclei)",
   "language": "python",
   "name": "spatial-nuclei"
  },
  "language_info": {
   "codemirror_mode": {
    "name": "ipython",
    "version": 3
   },
   "file_extension": ".py",
   "mimetype": "text/x-python",
   "name": "python",
   "nbconvert_exporter": "python",
   "pygments_lexer": "ipython3",
   "version": "3.10.17"
  }
 },
 "nbformat": 4,
 "nbformat_minor": 5
}
