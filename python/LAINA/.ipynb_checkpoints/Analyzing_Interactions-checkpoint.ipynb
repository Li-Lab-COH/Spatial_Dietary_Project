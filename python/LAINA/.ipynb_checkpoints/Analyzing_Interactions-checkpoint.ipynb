{
 "cells": [
  {
   "cell_type": "code",
   "execution_count": 2,
   "id": "ddfb1e32-a077-4d9c-90a5-060c93f4058d",
   "metadata": {},
   "outputs": [],
   "source": [
    "import sys\n",
    "sys.path.append('/mnt/c/Users/jonan/Documents/1Work/RoseLab/Spatial/CAR_T/code/Clustering/LAINA')"
   ]
  },
  {
   "cell_type": "code",
   "execution_count": null,
   "id": "e58f0358-1cae-47c1-9ad5-e5b05df7aeeb",
   "metadata": {},
   "outputs": [
    {
     "name": "stderr",
     "output_type": "stream",
     "text": [
      "/home/jon/anaconda3/envs/spatial_analysis_env/lib/python3.10/site-packages/dask/dataframe/__init__.py:31: FutureWarning: The legacy Dask DataFrame implementation is deprecated and will be removed in a future version. Set the configuration option `dataframe.query-planning` to `True` or None to enable the new Dask Dataframe implementation and silence this warning.\n",
      "  warnings.warn(\n",
      "/home/jon/anaconda3/envs/spatial_analysis_env/lib/python3.10/site-packages/anndata/utils.py:434: FutureWarning: Importing read_text from `anndata` is deprecated. Import anndata.io.read_text instead.\n",
      "  warnings.warn(msg, FutureWarning)\n",
      "/home/jon/anaconda3/envs/spatial_analysis_env/lib/python3.10/site-packages/tqdm/auto.py:21: TqdmWarning: IProgress not found. Please update jupyter and ipywidgets. See https://ipywidgets.readthedocs.io/en/stable/user_install.html\n",
      "  from .autonotebook import tqdm as notebook_tqdm\n",
      "Seed set to 1337\n"
     ]
    },
    {
     "data": {
      "text/plain": [
       "1337"
      ]
     },
     "execution_count": 3,
     "metadata": {},
     "output_type": "execute_result"
    }
   ],
   "source": [
    "import anndata as ad\n",
    "import squidpy as sq\n",
    "import cellcharter as cc #ML\n",
    "import pandas as pd\n",
    "import scanpy as sc\n",
    "import liana as li\n",
    "import seaborn as sns\n",
    "import matplotlib.pyplot as plt\n",
    "from pathlib import Path\n",
    "import os\n",
    "from pypath import omnipath\n",
    "import decoupler as dc\n"
   ]
  },
  {
   "cell_type": "code",
   "execution_count": 44,
   "id": "c11f95c9-c746-41ca-9a3b-a9c2b2daa318",
   "metadata": {
    "scrolled": true
   },
   "outputs": [],
   "source": [
    "import interact_pull\n",
    "import importlib\n",
    "importlib.reload(interact_pull)\n",
    "from interact_pull import pull_interactions  # Re-import to get the updated definition\n"
   ]
  },
  {
   "cell_type": "code",
   "execution_count": 18,
   "id": "0aa01819-f32d-4331-a888-6da87e39672c",
   "metadata": {
    "scrolled": true
   },
   "outputs": [
    {
     "data": {
      "text/plain": [
       "<module 'interact_pull' from '/mnt/c/Users/jonan/Documents/1Work/RoseLab/Spatial/CAR_T/code/Clustering/LAINA/interact_pull.py'>"
      ]
     },
     "execution_count": 18,
     "metadata": {},
     "output_type": "execute_result"
    }
   ],
   "source": [
    "# If I want to reload\n",
    "importlib.reload(interact_pull)"
   ]
  },
  {
   "cell_type": "code",
   "execution_count": 14,
   "id": "296ea36e-43a8-4d85-b6ab-82700f878d02",
   "metadata": {},
   "outputs": [
    {
     "name": "stdout",
     "output_type": "stream",
     "text": [
      "['__builtins__', '__cached__', '__doc__', '__file__', '__loader__', '__name__', '__package__', '__spec__', 'pull_interactions']\n"
     ]
    }
   ],
   "source": [
    "import interact_pull\n",
    "print(dir(interact_pull))\n"
   ]
  },
  {
   "cell_type": "code",
   "execution_count": 6,
   "id": "4c65bcc5-eb04-444b-beb0-f2e66b15f8c9",
   "metadata": {},
   "outputs": [],
   "source": [
    "# Loading data\n",
    "# Info\n",
    "whatFer = \"one\" # \"one\" or  \"two\"\n",
    "\n",
    "#Load data\n",
    "base_folder = Path(f\"/mnt/c/Users/jonan/Documents/1Work/RoseLab/Spatial/CAR_T/CellCharterAnalysis/{whatFer}fer/\")\n",
    "adata_file = base_folder / f\"{whatFer}fer.h5ad\"\n",
    "out_figs = base_folder / \"figures\" / \"CCC\"\n",
    "os.makedirs(out_figs, exist_ok=True)\n",
    "\n",
    "ST_sample = sc.read_h5ad(adata_file)\n"
   ]
  },
  {
   "cell_type": "code",
   "execution_count": 37,
   "id": "0f6a03cd-639b-4d40-a6fc-cd7129303625",
   "metadata": {
    "scrolled": true
   },
   "outputs": [],
   "source": [
    "# pull_interactions(ST_sample, sample, li)"
   ]
  },
  {
   "cell_type": "code",
   "execution_count": 46,
   "id": "7d1a8972-2c1f-440c-9d50-e0d446a609ab",
   "metadata": {},
   "outputs": [
    {
     "name": "stdout",
     "output_type": "stream",
     "text": [
      "Running on mouse RTCyT72_2_1\n"
     ]
    },
    {
     "name": "stderr",
     "output_type": "stream",
     "text": [
      "Using `.X`!\n",
      "/home/jon/anaconda3/envs/spatial_analysis_env/lib/python3.10/site-packages/anndata/_core/anndata.py:381: FutureWarning: The dtype argument is deprecated and will be removed in late 2024.\n",
      "2299 features of mat are empty, they will be removed.\n",
      "Using resource `mouseconsensus`.\n",
      "100%|█████████████████████████████████████████████████████████████████████████████| 100/100 [00:01<00:00, 52.87it/s]\n",
      "100%|█████████████████████████████████████████████████████████████████████████████| 100/100 [00:05<00:00, 17.99it/s]\n"
     ]
    },
    {
     "name": "stdout",
     "output_type": "stream",
     "text": [
      "Running on mouse RTCyPSCA_1_4\n"
     ]
    },
    {
     "name": "stderr",
     "output_type": "stream",
     "text": [
      "Using `.X`!\n",
      "/home/jon/anaconda3/envs/spatial_analysis_env/lib/python3.10/site-packages/anndata/_core/anndata.py:381: FutureWarning: The dtype argument is deprecated and will be removed in late 2024.\n",
      "2308 features of mat are empty, they will be removed.\n",
      "Using resource `mouseconsensus`.\n",
      "100%|█████████████████████████████████████████████████████████████████████████████| 100/100 [00:02<00:00, 48.63it/s]\n",
      "100%|█████████████████████████████████████████████████████████████████████████████| 100/100 [00:06<00:00, 16.07it/s]\n"
     ]
    },
    {
     "name": "stdout",
     "output_type": "stream",
     "text": [
      "Running on mouse CyPSCA_1_1\n"
     ]
    },
    {
     "name": "stderr",
     "output_type": "stream",
     "text": [
      "Using `.X`!\n",
      "/home/jon/anaconda3/envs/spatial_analysis_env/lib/python3.10/site-packages/anndata/_core/anndata.py:381: FutureWarning: The dtype argument is deprecated and will be removed in late 2024.\n",
      "1564 features of mat are empty, they will be removed.\n",
      "Using resource `mouseconsensus`.\n",
      "100%|█████████████████████████████████████████████████████████████████████████████| 100/100 [00:09<00:00, 10.69it/s]\n",
      "100%|█████████████████████████████████████████████████████████████████████████████| 100/100 [00:21<00:00,  4.73it/s]\n"
     ]
    },
    {
     "name": "stdout",
     "output_type": "stream",
     "text": [
      "Running on mouse NoTx_2_2\n"
     ]
    },
    {
     "name": "stderr",
     "output_type": "stream",
     "text": [
      "Using `.X`!\n",
      "/home/jon/anaconda3/envs/spatial_analysis_env/lib/python3.10/site-packages/anndata/_core/anndata.py:381: FutureWarning: The dtype argument is deprecated and will be removed in late 2024.\n",
      "1420 features of mat are empty, they will be removed.\n",
      "Using resource `mouseconsensus`.\n",
      "100%|█████████████████████████████████████████████████████████████████████████████| 100/100 [00:09<00:00, 10.07it/s]\n",
      "100%|█████████████████████████████████████████████████████████████████████████████| 100/100 [00:25<00:00,  3.92it/s]\n"
     ]
    },
    {
     "name": "stdout",
     "output_type": "stream",
     "text": [
      "Running on mouse CyPSCA_1_2\n"
     ]
    },
    {
     "name": "stderr",
     "output_type": "stream",
     "text": [
      "Using `.X`!\n",
      "/home/jon/anaconda3/envs/spatial_analysis_env/lib/python3.10/site-packages/anndata/_core/anndata.py:381: FutureWarning: The dtype argument is deprecated and will be removed in late 2024.\n",
      "1455 features of mat are empty, they will be removed.\n",
      "Using resource `mouseconsensus`.\n",
      "100%|█████████████████████████████████████████████████████████████████████████████| 100/100 [00:06<00:00, 15.70it/s]\n",
      "100%|█████████████████████████████████████████████████████████████████████████████| 100/100 [00:16<00:00,  6.02it/s]\n"
     ]
    },
    {
     "name": "stdout",
     "output_type": "stream",
     "text": [
      "Running on mouse RTCyT72_2_4\n"
     ]
    },
    {
     "name": "stderr",
     "output_type": "stream",
     "text": [
      "Using `.X`!\n",
      "/home/jon/anaconda3/envs/spatial_analysis_env/lib/python3.10/site-packages/anndata/_core/anndata.py:381: FutureWarning: The dtype argument is deprecated and will be removed in late 2024.\n",
      "1205 features of mat are empty, they will be removed.\n",
      "Using resource `mouseconsensus`.\n",
      "100%|█████████████████████████████████████████████████████████████████████████████| 100/100 [00:05<00:00, 18.66it/s]\n",
      "100%|█████████████████████████████████████████████████████████████████████████████| 100/100 [00:15<00:00,  6.46it/s]\n"
     ]
    },
    {
     "name": "stdout",
     "output_type": "stream",
     "text": [
      "Running on mouse RTCyPSCA_2_4\n"
     ]
    },
    {
     "name": "stderr",
     "output_type": "stream",
     "text": [
      "Using `.X`!\n",
      "/home/jon/anaconda3/envs/spatial_analysis_env/lib/python3.10/site-packages/anndata/_core/anndata.py:381: FutureWarning: The dtype argument is deprecated and will be removed in late 2024.\n",
      "1459 features of mat are empty, they will be removed.\n",
      "Using resource `mouseconsensus`.\n",
      "100%|█████████████████████████████████████████████████████████████████████████████| 100/100 [00:07<00:00, 13.78it/s]\n",
      "100%|█████████████████████████████████████████████████████████████████████████████| 100/100 [00:16<00:00,  5.99it/s]\n"
     ]
    },
    {
     "name": "stdout",
     "output_type": "stream",
     "text": [
      "Running on mouse CyT72_1_4\n"
     ]
    },
    {
     "name": "stderr",
     "output_type": "stream",
     "text": [
      "Using `.X`!\n",
      "/home/jon/anaconda3/envs/spatial_analysis_env/lib/python3.10/site-packages/anndata/_core/anndata.py:381: FutureWarning: The dtype argument is deprecated and will be removed in late 2024.\n",
      "2546 features of mat are empty, they will be removed.\n",
      "Using resource `mouseconsensus`.\n",
      "100%|█████████████████████████████████████████████████████████████████████████████| 100/100 [00:01<00:00, 84.43it/s]\n",
      "100%|█████████████████████████████████████████████████████████████████████████████| 100/100 [00:03<00:00, 32.04it/s]\n"
     ]
    }
   ],
   "source": [
    "all_interactions = []\n",
    "\n",
    "for mouse_name in ST_sample.obs['mouse'].unique():\n",
    "\n",
    "    print(f'Running on mouse {mouse_name}')\n",
    "    \n",
    "    df = pull_interactions(ST_sample, mouse_name, li)\n",
    "\n",
    "    all_interactions.append(df)"
   ]
  },
  {
   "cell_type": "code",
   "execution_count": 47,
   "id": "5dcb1304-98c6-4149-a832-908725af61b8",
   "metadata": {},
   "outputs": [],
   "source": [
    "master_df = pd.concat(all_interactions, ignore_index=True)"
   ]
  },
  {
   "cell_type": "code",
   "execution_count": 50,
   "id": "c0ca9465-85e4-418b-ac4e-38bd17454dba",
   "metadata": {},
   "outputs": [],
   "source": [
    "master_df.to_csv(\"/mnt/c/Users/jonan/Documents/1Work/RoseLab/Spatial/CAR_T/Results/master_df_interactions.csv\", index=False)"
   ]
  },
  {
   "cell_type": "markdown",
   "id": "5e387c3f-d02d-4a3e-b803-b1a9e6cd1811",
   "metadata": {},
   "source": [
    "# Generating df of conditions unique to conditions"
   ]
  },
  {
   "cell_type": "code",
   "execution_count": 52,
   "id": "b093f599-8574-4def-9fd8-20feab123b3a",
   "metadata": {},
   "outputs": [],
   "source": [
    "from collections import defaultdict\n",
    "\n",
    "condition_sets = (\n",
    "    master_df.groupby(\"condition\")[\"interaction\"]\n",
    "    .apply(set)\n",
    "    .to_dict()\n",
    ")\n"
   ]
  },
  {
   "cell_type": "code",
   "execution_count": 53,
   "id": "0ddc4b60-d8cd-43e2-99e2-f758eac57349",
   "metadata": {
    "scrolled": true
   },
   "outputs": [],
   "source": [
    "unique_by_condition = {}\n",
    "\n",
    "for condition, interactions in condition_sets.items():\n",
    "    others = set().union(*[v for k, v in condition_sets.items() if k != condition])\n",
    "    unique_interactions = interactions - others\n",
    "    unique_by_condition[condition] = unique_interactions\n"
   ]
  },
  {
   "cell_type": "code",
   "execution_count": 56,
   "id": "1d901d32-85bc-4b00-a68b-c23ae98e6ed7",
   "metadata": {},
   "outputs": [],
   "source": [
    "unique_rows = []\n",
    "\n",
    "for cond, uniq_set in unique_by_condition.items():\n",
    "    subset = master_df[(master_df['condition'] == cond) & (master_df['interaction'].isin(uniq_set))].copy()\n",
    "    subset['unique_to_condition'] = True\n",
    "    unique_rows.append(subset)\n",
    "\n",
    "unique_df = pd.concat(unique_rows, ignore_index=True)\n"
   ]
  },
  {
   "cell_type": "code",
   "execution_count": 57,
   "id": "836b89a2-a9ec-4881-bde2-73c2e8caa6df",
   "metadata": {},
   "outputs": [],
   "source": [
    "unique_df.to_csv(\"/mnt/c/Users/jonan/Documents/1Work/RoseLab/Spatial/CAR_T/Results/unique_ligand_interactions_by_condition.csv\", index=False)"
   ]
  }
 ],
 "metadata": {
  "kernelspec": {
   "display_name": "Python (Spatial Analysis Env)",
   "language": "python",
   "name": "spatial_analysis_env"
  },
  "language_info": {
   "codemirror_mode": {
    "name": "ipython",
    "version": 3
   },
   "file_extension": ".py",
   "mimetype": "text/x-python",
   "name": "python",
   "nbconvert_exporter": "python",
   "pygments_lexer": "ipython3",
   "version": "3.10.17"
  }
 },
 "nbformat": 4,
 "nbformat_minor": 5
}
