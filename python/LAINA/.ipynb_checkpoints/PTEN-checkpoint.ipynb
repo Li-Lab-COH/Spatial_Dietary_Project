{
 "cells": [
  {
   "cell_type": "code",
   "execution_count": 1,
   "id": "ddfb1e32-a077-4d9c-90a5-060c93f4058d",
   "metadata": {},
   "outputs": [],
   "source": [
    "import sys, os\n",
    "sys.path.append(\"/mnt/c/Users/jonan/Documents/1Work/RoseLab/Spatial/stutils\")\n",
    "# sys.path.append(\"/Users/janzules/Roselab/Spatial\")\n",
    "from stutils.interact_pull import pull_interactions  # Re-import to get the updated definition"
   ]
  },
  {
   "cell_type": "code",
   "execution_count": 2,
   "id": "e58f0358-1cae-47c1-9ad5-e5b05df7aeeb",
   "metadata": {},
   "outputs": [
    {
     "name": "stderr",
     "output_type": "stream",
     "text": [
      "/home/jon/anaconda3/envs/spatial_analysis_env/lib/python3.10/site-packages/dask/dataframe/__init__.py:31: FutureWarning: The legacy Dask DataFrame implementation is deprecated and will be removed in a future version. Set the configuration option `dataframe.query-planning` to `True` or None to enable the new Dask Dataframe implementation and silence this warning.\n",
      "  warnings.warn(\n",
      "/home/jon/anaconda3/envs/spatial_analysis_env/lib/python3.10/site-packages/anndata/utils.py:434: FutureWarning: Importing read_text from `anndata` is deprecated. Import anndata.io.read_text instead.\n",
      "  warnings.warn(msg, FutureWarning)\n",
      "/home/jon/anaconda3/envs/spatial_analysis_env/lib/python3.10/site-packages/tqdm/auto.py:21: TqdmWarning: IProgress not found. Please update jupyter and ipywidgets. See https://ipywidgets.readthedocs.io/en/stable/user_install.html\n"
     ]
    }
   ],
   "source": [
    "import anndata as ad\n",
    "import squidpy as sq\n",
    "# import cellcharter as cc #ML\n",
    "import pandas as pd\n",
    "import scanpy as sc\n",
    "import liana as li\n",
    "import seaborn as sns\n",
    "import matplotlib.pyplot as plt\n",
    "from pathlib import Path\n",
    "import os\n",
    "from pypath import omnipath\n",
    "import decoupler as dc\n",
    "import geopandas as gpd\n"
   ]
  },
  {
   "cell_type": "code",
   "execution_count": 18,
   "id": "0aa01819-f32d-4331-a888-6da87e39672c",
   "metadata": {
    "scrolled": true
   },
   "outputs": [
    {
     "data": {
      "text/plain": [
       "<module 'interact_pull' from '/mnt/c/Users/jonan/Documents/1Work/RoseLab/Spatial/CAR_T/code/Clustering/LAINA/interact_pull.py'>"
      ]
     },
     "execution_count": 18,
     "metadata": {},
     "output_type": "execute_result"
    }
   ],
   "source": [
    "# If I want to reload\n",
    "importlib.reload(interact_pull)"
   ]
  },
  {
   "cell_type": "code",
   "execution_count": 14,
   "id": "296ea36e-43a8-4d85-b6ab-82700f878d02",
   "metadata": {},
   "outputs": [
    {
     "name": "stdout",
     "output_type": "stream",
     "text": [
      "['__builtins__', '__cached__', '__doc__', '__file__', '__loader__', '__name__', '__package__', '__spec__', 'pull_interactions']\n"
     ]
    }
   ],
   "source": [
    "import interact_pull\n",
    "print(dir(interact_pull))\n"
   ]
  },
  {
   "cell_type": "code",
   "execution_count": 4,
   "id": "d5805978-3ee5-42a8-926c-b68514daf13c",
   "metadata": {},
   "outputs": [],
   "source": [
    "base_folder = Path(f\"/mnt/c/Users/jonan/Documents/1Work/RoseLab/Spatial/dietary_droject/\") \n",
    "\n",
    "adata_file = base_folder / \"data\" / \"cell_segmentation\" / \"concatenated\" / \"combined_adata.h5ad\"\n",
    "laina_results_dir = base_folder / \"results\" / \"LIANA\"\n",
    "\n",
    "ST_sample = sc.read_h5ad(adata_file)\n",
    "\n"
   ]
  },
  {
   "cell_type": "code",
   "execution_count": null,
   "id": "44c8f3b6-17cf-4555-8b17-dc79d0d31433",
   "metadata": {},
   "outputs": [],
   "source": []
  },
  {
   "cell_type": "code",
   "execution_count": 19,
   "id": "73eccbcb-9b36-4d1c-b0cb-bac14365d6a2",
   "metadata": {},
   "outputs": [
    {
     "data": {
      "text/plain": [
       "['35_LGIRT',\n",
       " '33_LGIRT',\n",
       " '37_CRRT',\n",
       " '31_RT',\n",
       " '34_LGIRT',\n",
       " '36_CRRT',\n",
       " '38_CRRT',\n",
       " '32_RT']"
      ]
     },
     "execution_count": 19,
     "metadata": {},
     "output_type": "execute_result"
    }
   ],
   "source": [
    "PTEN_list(ST_sample.obs['mouse'].unique())[12:20]"
   ]
  },
  {
   "cell_type": "code",
   "execution_count": null,
   "id": "0839514d-1d07-4b22-8209-50c59228fee5",
   "metadata": {},
   "outputs": [],
   "source": []
  },
  {
   "cell_type": "code",
   "execution_count": 37,
   "id": "0f6a03cd-639b-4d40-a6fc-cd7129303625",
   "metadata": {
    "scrolled": true
   },
   "outputs": [],
   "source": [
    "# pull_interactions(ST_sample, sample, li)"
   ]
  },
  {
   "cell_type": "markdown",
   "id": "ee442c52-70b4-4c7b-9b7c-728aa0ab9acc",
   "metadata": {},
   "source": [
    "# Function"
   ]
  },
  {
   "cell_type": "code",
   "execution_count": 5,
   "id": "7d1a8972-2c1f-440c-9d50-e0d446a609ab",
   "metadata": {},
   "outputs": [
    {
     "name": "stdout",
     "output_type": "stream",
     "text": [
      "Running on mouse 9_KDRT\n"
     ]
    },
    {
     "name": "stderr",
     "output_type": "stream",
     "text": [
      "Using `.X`!\n",
      "/home/jon/anaconda3/envs/spatial_analysis_env/lib/python3.10/site-packages/anndata/_core/anndata.py:381: FutureWarning: The dtype argument is deprecated and will be removed in late 2024.\n",
      "362 features of mat are empty, they will be removed.\n",
      "299 samples of mat are empty, they will be removed.\n",
      "Make sure that normalized counts are passed!\n",
      "Using resource `mouseconsensus`.\n",
      " 28%|█████████████████████▊                                                        | 28/100 [00:01<00:03, 22.43it/s]\n"
     ]
    },
    {
     "ename": "KeyboardInterrupt",
     "evalue": "",
     "output_type": "error",
     "traceback": [
      "\u001b[0;31m---------------------------------------------------------------------------\u001b[0m",
      "\u001b[0;31mKeyboardInterrupt\u001b[0m                         Traceback (most recent call last)",
      "Cell \u001b[0;32mIn[5], line 11\u001b[0m\n\u001b[1;32m      9\u001b[0m \u001b[38;5;28mprint\u001b[39m(\u001b[38;5;124mf\u001b[39m\u001b[38;5;124m\"\u001b[39m\u001b[38;5;124mRunning on mouse \u001b[39m\u001b[38;5;132;01m{\u001b[39;00mmouse_name\u001b[38;5;132;01m}\u001b[39;00m\u001b[38;5;124m\"\u001b[39m)\n\u001b[1;32m     10\u001b[0m \u001b[38;5;28;01mtry\u001b[39;00m:\n\u001b[0;32m---> 11\u001b[0m     df \u001b[38;5;241m=\u001b[39m \u001b[43mpull_interactions\u001b[49m\u001b[43m(\u001b[49m\u001b[43mST_sample\u001b[49m\u001b[43m,\u001b[49m\u001b[43m \u001b[49m\u001b[43mmouse_name\u001b[49m\u001b[43m,\u001b[49m\u001b[43m \u001b[49m\u001b[43mli\u001b[49m\u001b[43m)\u001b[49m\n\u001b[1;32m     12\u001b[0m     all_interactions\u001b[38;5;241m.\u001b[39mappend(df)\n\u001b[1;32m     13\u001b[0m \u001b[38;5;28;01mexcept\u001b[39;00m \u001b[38;5;167;01mException\u001b[39;00m \u001b[38;5;28;01mas\u001b[39;00m e:\n",
      "File \u001b[0;32m/mnt/c/Users/jonan/Documents/1Work/RoseLab/Spatial/stutils/stutils/interact_pull.py:8\u001b[0m, in \u001b[0;36mpull_interactions\u001b[0;34m(ST_sample, sample_name, li)\u001b[0m\n\u001b[1;32m      5\u001b[0m li\u001b[38;5;241m.\u001b[39mut\u001b[38;5;241m.\u001b[39mspatial_neighbors(adata, bandwidth\u001b[38;5;241m=\u001b[39m\u001b[38;5;241m40\u001b[39m, cutoff \u001b[38;5;241m=\u001b[39m \u001b[38;5;241m0.1\u001b[39m, kernel\u001b[38;5;241m=\u001b[39m\u001b[38;5;124m'\u001b[39m\u001b[38;5;124mgaussian\u001b[39m\u001b[38;5;124m'\u001b[39m, set_diag\u001b[38;5;241m=\u001b[39m\u001b[38;5;28;01mTrue\u001b[39;00m)\n\u001b[1;32m      7\u001b[0m \u001b[38;5;66;03m# Identify statistically relevant interactions\u001b[39;00m\n\u001b[0;32m----> 8\u001b[0m lrdata \u001b[38;5;241m=\u001b[39m \u001b[43mli\u001b[49m\u001b[38;5;241;43m.\u001b[39;49m\u001b[43mmt\u001b[49m\u001b[38;5;241;43m.\u001b[39;49m\u001b[43mbivariate\u001b[49m\u001b[43m(\u001b[49m\u001b[43madata\u001b[49m\u001b[43m,\u001b[49m\n\u001b[1;32m      9\u001b[0m \u001b[43m            \u001b[49m\u001b[43mresource_name\u001b[49m\u001b[38;5;241;43m=\u001b[39;49m\u001b[38;5;124;43m'\u001b[39;49m\u001b[38;5;124;43mmouseconsensus\u001b[39;49m\u001b[38;5;124;43m'\u001b[39;49m\u001b[43m,\u001b[49m\n\u001b[1;32m     10\u001b[0m \u001b[43m            \u001b[49m\u001b[43mlocal_name\u001b[49m\u001b[38;5;241;43m=\u001b[39;49m\u001b[38;5;124;43m'\u001b[39;49m\u001b[38;5;124;43mcosine\u001b[39;49m\u001b[38;5;124;43m'\u001b[39;49m\u001b[43m,\u001b[49m\u001b[43m \u001b[49m\u001b[38;5;66;43;03m# Name of the function\u001b[39;49;00m\n\u001b[1;32m     11\u001b[0m \u001b[43m            \u001b[49m\u001b[43mglobal_name\u001b[49m\u001b[38;5;241;43m=\u001b[39;49m\u001b[38;5;124;43m\"\u001b[39;49m\u001b[38;5;124;43mmorans\u001b[39;49m\u001b[38;5;124;43m\"\u001b[39;49m\u001b[43m,\u001b[49m\u001b[43m \u001b[49m\u001b[38;5;66;43;03m# Name global function\u001b[39;49;00m\n\u001b[1;32m     12\u001b[0m \u001b[43m            \u001b[49m\u001b[43mn_perms\u001b[49m\u001b[38;5;241;43m=\u001b[39;49m\u001b[38;5;241;43m100\u001b[39;49m\u001b[43m,\u001b[49m\u001b[43m \u001b[49m\u001b[38;5;66;43;03m# Number of permutations to calculate a p-value\u001b[39;49;00m\n\u001b[1;32m     13\u001b[0m \u001b[43m            \u001b[49m\u001b[43mmask_negatives\u001b[49m\u001b[38;5;241;43m=\u001b[39;49m\u001b[38;5;28;43;01mFalse\u001b[39;49;00m\u001b[43m,\u001b[49m\u001b[43m \u001b[49m\u001b[38;5;66;43;03m# Whether to mask LowLow/NegativeNegative interactions\u001b[39;49;00m\n\u001b[1;32m     14\u001b[0m \u001b[43m            \u001b[49m\u001b[43madd_categories\u001b[49m\u001b[38;5;241;43m=\u001b[39;49m\u001b[38;5;28;43;01mTrue\u001b[39;49;00m\u001b[43m,\u001b[49m\u001b[43m \u001b[49m\u001b[38;5;66;43;03m# Whether to add local categories to the results\u001b[39;49;00m\n\u001b[1;32m     15\u001b[0m \u001b[43m            \u001b[49m\u001b[43mnz_prop\u001b[49m\u001b[38;5;241;43m=\u001b[39;49m\u001b[38;5;241;43m0.05\u001b[39;49m\u001b[43m,\u001b[49m\u001b[43m \u001b[49m\u001b[38;5;66;43;03m# Minimum expr. proportion for ligands/receptors and their subunits\u001b[39;49;00m\n\u001b[1;32m     16\u001b[0m \u001b[43m            \u001b[49m\u001b[43muse_raw\u001b[49m\u001b[38;5;241;43m=\u001b[39;49m\u001b[38;5;28;43;01mFalse\u001b[39;49;00m\u001b[43m,\u001b[49m\n\u001b[1;32m     17\u001b[0m \u001b[43m            \u001b[49m\u001b[43mverbose\u001b[49m\u001b[38;5;241;43m=\u001b[39;49m\u001b[38;5;28;43;01mTrue\u001b[39;49;00m\n\u001b[1;32m     18\u001b[0m \u001b[43m            \u001b[49m\u001b[43m)\u001b[49m\n\u001b[1;32m     20\u001b[0m     \u001b[38;5;66;03m# Add metadata columns\u001b[39;00m\n\u001b[1;32m     21\u001b[0m condition \u001b[38;5;241m=\u001b[39m adata\u001b[38;5;241m.\u001b[39mobs[\u001b[38;5;124m'\u001b[39m\u001b[38;5;124mcondition\u001b[39m\u001b[38;5;124m'\u001b[39m]\u001b[38;5;241m.\u001b[39munique()\n",
      "File \u001b[0;32m~/anaconda3/envs/spatial_analysis_env/lib/python3.10/site-packages/liana/method/sp/_bivariate/_spatial_bivariate.py:186\u001b[0m, in \u001b[0;36mSpatialBivariate.__call__\u001b[0;34m(self, mdata, local_name, global_name, resource_name, resource, interactions, connectivity_key, mask_negatives, add_categories, n_perms, seed, nz_prop, remove_self_interactions, complex_sep, xy_sep, verbose, **kwargs)\u001b[0m\n\u001b[1;32m    184\u001b[0m     \u001b[38;5;28;01mfor\u001b[39;00m gname \u001b[38;5;129;01min\u001b[39;00m global_name:\n\u001b[1;32m    185\u001b[0m         global_fun \u001b[38;5;241m=\u001b[39m GlobalFunction\u001b[38;5;241m.\u001b[39minstances[gname]\n\u001b[0;32m--> 186\u001b[0m         \u001b[43mglobal_fun\u001b[49m\u001b[43m(\u001b[49m\u001b[43mxy_stats\u001b[49m\u001b[43m,\u001b[49m\n\u001b[1;32m    187\u001b[0m \u001b[43m                   \u001b[49m\u001b[43mx_mat\u001b[49m\u001b[38;5;241;43m=\u001b[39;49m\u001b[43mx_mat\u001b[49m\u001b[43m,\u001b[49m\n\u001b[1;32m    188\u001b[0m \u001b[43m                   \u001b[49m\u001b[43my_mat\u001b[49m\u001b[38;5;241;43m=\u001b[39;49m\u001b[43my_mat\u001b[49m\u001b[43m,\u001b[49m\n\u001b[1;32m    189\u001b[0m \u001b[43m                   \u001b[49m\u001b[43mweight\u001b[49m\u001b[38;5;241;43m=\u001b[39;49m\u001b[43mweight\u001b[49m\u001b[43m,\u001b[49m\n\u001b[1;32m    190\u001b[0m \u001b[43m                   \u001b[49m\u001b[43mseed\u001b[49m\u001b[38;5;241;43m=\u001b[39;49m\u001b[43mseed\u001b[49m\u001b[43m,\u001b[49m\n\u001b[1;32m    191\u001b[0m \u001b[43m                   \u001b[49m\u001b[43mn_perms\u001b[49m\u001b[38;5;241;43m=\u001b[39;49m\u001b[43mn_perms\u001b[49m\u001b[43m,\u001b[49m\n\u001b[1;32m    192\u001b[0m \u001b[43m                   \u001b[49m\u001b[43mmask_negatives\u001b[49m\u001b[38;5;241;43m=\u001b[39;49m\u001b[43mmask_negatives\u001b[49m\u001b[43m,\u001b[49m\n\u001b[1;32m    193\u001b[0m \u001b[43m                   \u001b[49m\u001b[43mverbose\u001b[49m\u001b[38;5;241;43m=\u001b[39;49m\u001b[43mverbose\u001b[49m\u001b[43m,\u001b[49m\n\u001b[1;32m    194\u001b[0m \u001b[43m                   \u001b[49m\u001b[43m)\u001b[49m\n\u001b[1;32m    196\u001b[0m \u001b[38;5;28;01mif\u001b[39;00m local_name \u001b[38;5;129;01mis\u001b[39;00m \u001b[38;5;28;01mNone\u001b[39;00m:\n\u001b[1;32m    197\u001b[0m     \u001b[38;5;28;01mreturn\u001b[39;00m xy_stats\n",
      "File \u001b[0;32m~/anaconda3/envs/spatial_analysis_env/lib/python3.10/site-packages/liana/method/sp/_bivariate/_global_functions.py:108\u001b[0m, in \u001b[0;36mGlobalFunction.__call__\u001b[0;34m(self, xy_stats, x_mat, y_mat, weight, seed, n_perms, mask_negatives, verbose)\u001b[0m\n\u001b[1;32m    105\u001b[0m     global_pvals \u001b[38;5;241m=\u001b[39m \u001b[38;5;28;01mNone\u001b[39;00m\n\u001b[1;32m    106\u001b[0m \u001b[38;5;28;01melif\u001b[39;00m n_perms \u001b[38;5;241m>\u001b[39m \u001b[38;5;241m0\u001b[39m:\n\u001b[1;32m    107\u001b[0m     global_pvals \u001b[38;5;241m=\u001b[39m \\\n\u001b[0;32m--> 108\u001b[0m         \u001b[38;5;28;43mself\u001b[39;49m\u001b[38;5;241;43m.\u001b[39;49m\u001b[43m_permutation_pvals\u001b[49m\u001b[43m(\u001b[49m\u001b[43mx_mat\u001b[49m\u001b[38;5;241;43m=\u001b[39;49m\u001b[43mx_mat\u001b[49m\u001b[43m,\u001b[49m\n\u001b[1;32m    109\u001b[0m \u001b[43m                                \u001b[49m\u001b[43my_mat\u001b[49m\u001b[38;5;241;43m=\u001b[39;49m\u001b[43my_mat\u001b[49m\u001b[43m,\u001b[49m\n\u001b[1;32m    110\u001b[0m \u001b[43m                                \u001b[49m\u001b[43mweight\u001b[49m\u001b[38;5;241;43m=\u001b[39;49m\u001b[43mweight\u001b[49m\u001b[43m,\u001b[49m\n\u001b[1;32m    111\u001b[0m \u001b[43m                                \u001b[49m\u001b[43mglobal_stat\u001b[49m\u001b[38;5;241;43m=\u001b[39;49m\u001b[43mglobal_stat\u001b[49m\u001b[43m,\u001b[49m\n\u001b[1;32m    112\u001b[0m \u001b[43m                                \u001b[49m\u001b[43mn_perms\u001b[49m\u001b[38;5;241;43m=\u001b[39;49m\u001b[43mn_perms\u001b[49m\u001b[43m,\u001b[49m\n\u001b[1;32m    113\u001b[0m \u001b[43m                                \u001b[49m\u001b[43mmask_negatives\u001b[49m\u001b[38;5;241;43m=\u001b[39;49m\u001b[43mmask_negatives\u001b[49m\u001b[43m,\u001b[49m\n\u001b[1;32m    114\u001b[0m \u001b[43m                                \u001b[49m\u001b[43mseed\u001b[49m\u001b[38;5;241;43m=\u001b[39;49m\u001b[43mseed\u001b[49m\u001b[43m,\u001b[49m\n\u001b[1;32m    115\u001b[0m \u001b[43m                                \u001b[49m\u001b[43mverbose\u001b[49m\u001b[38;5;241;43m=\u001b[39;49m\u001b[43mverbose\u001b[49m\n\u001b[1;32m    116\u001b[0m \u001b[43m                                \u001b[49m\u001b[43m)\u001b[49m\n\u001b[1;32m    117\u001b[0m \u001b[38;5;28;01melif\u001b[39;00m n_perms\u001b[38;5;241m==\u001b[39m\u001b[38;5;241m0\u001b[39m \u001b[38;5;129;01mand\u001b[39;00m \u001b[38;5;28mself\u001b[39m\u001b[38;5;241m.\u001b[39mname \u001b[38;5;241m==\u001b[39m \u001b[38;5;124m'\u001b[39m\u001b[38;5;124mmorans\u001b[39m\u001b[38;5;124m'\u001b[39m:\n\u001b[1;32m    118\u001b[0m     global_pvals \u001b[38;5;241m=\u001b[39m \\\n\u001b[1;32m    119\u001b[0m         \u001b[38;5;28mself\u001b[39m\u001b[38;5;241m.\u001b[39m_zscore_pvals(weight\u001b[38;5;241m=\u001b[39mweight,\n\u001b[1;32m    120\u001b[0m                            global_stat\u001b[38;5;241m=\u001b[39mglobal_stat,\n\u001b[1;32m    121\u001b[0m                            mask_negatives\u001b[38;5;241m=\u001b[39mmask_negatives\n\u001b[1;32m    122\u001b[0m                            )\n",
      "File \u001b[0;32m~/anaconda3/envs/spatial_analysis_env/lib/python3.10/site-packages/liana/method/sp/_bivariate/_global_functions.py:39\u001b[0m, in \u001b[0;36mGlobalFunction._permutation_pvals\u001b[0;34m(self, x_mat, y_mat, weight, global_stat, n_perms, mask_negatives, seed, verbose)\u001b[0m\n\u001b[1;32m     37\u001b[0m \u001b[38;5;28;01mfor\u001b[39;00m perm \u001b[38;5;129;01min\u001b[39;00m tqdm(\u001b[38;5;28mrange\u001b[39m(n_perms), disable\u001b[38;5;241m=\u001b[39m\u001b[38;5;129;01mnot\u001b[39;00m verbose):\n\u001b[1;32m     38\u001b[0m     _idx \u001b[38;5;241m=\u001b[39m rng\u001b[38;5;241m.\u001b[39mpermutation(idx)\n\u001b[0;32m---> 39\u001b[0m     perm_mat[perm, :] \u001b[38;5;241m=\u001b[39m \u001b[38;5;28;43mself\u001b[39;49m\u001b[38;5;241;43m.\u001b[39;49m\u001b[43mfun\u001b[49m\u001b[43m(\u001b[49m\u001b[43mx_mat\u001b[49m\u001b[38;5;241;43m=\u001b[39;49m\u001b[43mx_mat\u001b[49m\u001b[43m[\u001b[49m\u001b[43m_idx\u001b[49m\u001b[43m,\u001b[49m\u001b[43m \u001b[49m\u001b[43m:\u001b[49m\u001b[43m]\u001b[49m\u001b[43m,\u001b[49m\n\u001b[1;32m     40\u001b[0m \u001b[43m                                 \u001b[49m\u001b[43my_mat\u001b[49m\u001b[38;5;241;43m=\u001b[39;49m\u001b[43my_mat\u001b[49m\u001b[43m[\u001b[49m\u001b[43m_idx\u001b[49m\u001b[43m,\u001b[49m\u001b[43m \u001b[49m\u001b[43m:\u001b[49m\u001b[43m]\u001b[49m\u001b[43m,\u001b[49m\n\u001b[1;32m     41\u001b[0m \u001b[43m                                 \u001b[49m\u001b[43mweight\u001b[49m\u001b[38;5;241;43m=\u001b[39;49m\u001b[43mweight\u001b[49m\u001b[43m)\u001b[49m\n\u001b[1;32m     43\u001b[0m \u001b[38;5;28;01mif\u001b[39;00m mask_negatives:\n\u001b[1;32m     44\u001b[0m     global_pvals \u001b[38;5;241m=\u001b[39m \u001b[38;5;241m1\u001b[39m \u001b[38;5;241m-\u001b[39m (global_stat \u001b[38;5;241m>\u001b[39m perm_mat)\u001b[38;5;241m.\u001b[39msum(axis\u001b[38;5;241m=\u001b[39m\u001b[38;5;241m0\u001b[39m) \u001b[38;5;241m/\u001b[39m n_perms\n",
      "File \u001b[0;32m~/anaconda3/envs/spatial_analysis_env/lib/python3.10/site-packages/liana/method/sp/_bivariate/_global_functions.py:132\u001b[0m, in \u001b[0;36m_global_r\u001b[0;34m(x_mat, y_mat, weight)\u001b[0m\n\u001b[1;32m    131\u001b[0m \u001b[38;5;28;01mdef\u001b[39;00m\u001b[38;5;250m \u001b[39m\u001b[38;5;21m_global_r\u001b[39m(x_mat, y_mat, weight):\n\u001b[0;32m--> 132\u001b[0m     \u001b[38;5;28;01mreturn\u001b[39;00m ((\u001b[43mweight\u001b[49m\u001b[43m \u001b[49m\u001b[38;5;241;43m@\u001b[39;49m\u001b[43m \u001b[49m\u001b[43mx_mat\u001b[49m) \u001b[38;5;241m*\u001b[39m y_mat)\u001b[38;5;241m.\u001b[39msum(axis\u001b[38;5;241m=\u001b[39m\u001b[38;5;241m0\u001b[39m)\n",
      "File \u001b[0;32m~/anaconda3/envs/spatial_analysis_env/lib/python3.10/site-packages/scipy/sparse/_base.py:732\u001b[0m, in \u001b[0;36m_spbase.__matmul__\u001b[0;34m(self, other)\u001b[0m\n\u001b[1;32m    729\u001b[0m \u001b[38;5;28;01mif\u001b[39;00m isscalarlike(other):\n\u001b[1;32m    730\u001b[0m     \u001b[38;5;28;01mraise\u001b[39;00m \u001b[38;5;167;01mValueError\u001b[39;00m(\u001b[38;5;124m\"\u001b[39m\u001b[38;5;124mScalar operands are not allowed, \u001b[39m\u001b[38;5;124m\"\u001b[39m\n\u001b[1;32m    731\u001b[0m                      \u001b[38;5;124m\"\u001b[39m\u001b[38;5;124muse \u001b[39m\u001b[38;5;124m'\u001b[39m\u001b[38;5;124m*\u001b[39m\u001b[38;5;124m'\u001b[39m\u001b[38;5;124m instead\u001b[39m\u001b[38;5;124m\"\u001b[39m)\n\u001b[0;32m--> 732\u001b[0m \u001b[38;5;28;01mreturn\u001b[39;00m \u001b[38;5;28;43mself\u001b[39;49m\u001b[38;5;241;43m.\u001b[39;49m\u001b[43m_matmul_dispatch\u001b[49m\u001b[43m(\u001b[49m\u001b[43mother\u001b[49m\u001b[43m)\u001b[49m\n",
      "File \u001b[0;32m~/anaconda3/envs/spatial_analysis_env/lib/python3.10/site-packages/scipy/sparse/_base.py:624\u001b[0m, in \u001b[0;36m_spbase._matmul_dispatch\u001b[0;34m(self, other)\u001b[0m\n\u001b[1;32m    622\u001b[0m         \u001b[38;5;28;01mreturn\u001b[39;00m result\u001b[38;5;241m.\u001b[39mreshape(M, \u001b[38;5;241m1\u001b[39m)\n\u001b[1;32m    623\u001b[0m     \u001b[38;5;28;01melif\u001b[39;00m other\u001b[38;5;241m.\u001b[39mndim \u001b[38;5;241m==\u001b[39m \u001b[38;5;241m2\u001b[39m \u001b[38;5;129;01mand\u001b[39;00m other\u001b[38;5;241m.\u001b[39mshape[\u001b[38;5;241m0\u001b[39m] \u001b[38;5;241m==\u001b[39m N:\n\u001b[0;32m--> 624\u001b[0m         \u001b[38;5;28;01mreturn\u001b[39;00m \u001b[38;5;28;43mself\u001b[39;49m\u001b[38;5;241;43m.\u001b[39;49m\u001b[43m_matmul_multivector\u001b[49m\u001b[43m(\u001b[49m\u001b[43mother\u001b[49m\u001b[43m)\u001b[49m\n\u001b[1;32m    626\u001b[0m \u001b[38;5;28;01mif\u001b[39;00m isscalarlike(other):\n\u001b[1;32m    627\u001b[0m     \u001b[38;5;66;03m# scalar value\u001b[39;00m\n\u001b[1;32m    628\u001b[0m     \u001b[38;5;28;01mreturn\u001b[39;00m \u001b[38;5;28mself\u001b[39m\u001b[38;5;241m.\u001b[39m_mul_scalar(other)\n",
      "File \u001b[0;32m~/anaconda3/envs/spatial_analysis_env/lib/python3.10/site-packages/scipy/sparse/_compressed.py:539\u001b[0m, in \u001b[0;36m_cs_matrix._matmul_multivector\u001b[0;34m(self, other)\u001b[0m\n\u001b[1;32m    537\u001b[0m \u001b[38;5;66;03m# csr_matvecs or csc_matvecs\u001b[39;00m\n\u001b[1;32m    538\u001b[0m fn \u001b[38;5;241m=\u001b[39m \u001b[38;5;28mgetattr\u001b[39m(_sparsetools, \u001b[38;5;28mself\u001b[39m\u001b[38;5;241m.\u001b[39mformat \u001b[38;5;241m+\u001b[39m \u001b[38;5;124m'\u001b[39m\u001b[38;5;124m_matvecs\u001b[39m\u001b[38;5;124m'\u001b[39m)\n\u001b[0;32m--> 539\u001b[0m \u001b[43mfn\u001b[49m\u001b[43m(\u001b[49m\u001b[43mM\u001b[49m\u001b[43m,\u001b[49m\u001b[43m \u001b[49m\u001b[43mN\u001b[49m\u001b[43m,\u001b[49m\u001b[43m \u001b[49m\u001b[43mn_vecs\u001b[49m\u001b[43m,\u001b[49m\u001b[43m \u001b[49m\u001b[38;5;28;43mself\u001b[39;49m\u001b[38;5;241;43m.\u001b[39;49m\u001b[43mindptr\u001b[49m\u001b[43m,\u001b[49m\u001b[43m \u001b[49m\u001b[38;5;28;43mself\u001b[39;49m\u001b[38;5;241;43m.\u001b[39;49m\u001b[43mindices\u001b[49m\u001b[43m,\u001b[49m\u001b[43m \u001b[49m\u001b[38;5;28;43mself\u001b[39;49m\u001b[38;5;241;43m.\u001b[39;49m\u001b[43mdata\u001b[49m\u001b[43m,\u001b[49m\n\u001b[1;32m    540\u001b[0m \u001b[43m   \u001b[49m\u001b[43mother\u001b[49m\u001b[38;5;241;43m.\u001b[39;49m\u001b[43mravel\u001b[49m\u001b[43m(\u001b[49m\u001b[43m)\u001b[49m\u001b[43m,\u001b[49m\u001b[43m \u001b[49m\u001b[43mresult\u001b[49m\u001b[38;5;241;43m.\u001b[39;49m\u001b[43mravel\u001b[49m\u001b[43m(\u001b[49m\u001b[43m)\u001b[49m\u001b[43m)\u001b[49m\n\u001b[1;32m    542\u001b[0m \u001b[38;5;28;01mif\u001b[39;00m \u001b[38;5;28mself\u001b[39m\u001b[38;5;241m.\u001b[39mndim \u001b[38;5;241m==\u001b[39m \u001b[38;5;241m1\u001b[39m:\n\u001b[1;32m    543\u001b[0m     \u001b[38;5;28;01mreturn\u001b[39;00m result\u001b[38;5;241m.\u001b[39mreshape((n_vecs,))\n",
      "\u001b[0;31mKeyboardInterrupt\u001b[0m: "
     ]
    }
   ],
   "source": [
    "bad_samples = [\"7_CRRT\", \"29_LFRT\"]\n",
    "all_interactions = []\n",
    "\n",
    "for mouse_name in ST_sample.obs['mouse'].unique():\n",
    "    if mouse_name in bad_samples:\n",
    "        print(f\"Skipping bad sample: {mouse_name}\")\n",
    "        continue\n",
    "\n",
    "    print(f\"Running on mouse {mouse_name}\")\n",
    "    try:\n",
    "        df = pull_interactions(ST_sample, mouse_name, li)\n",
    "        all_interactions.append(df)\n",
    "    except Exception as e:\n",
    "        print(f\"Failed on {mouse_name}: {e}\")"
   ]
  },
  {
   "cell_type": "code",
   "execution_count": null,
   "id": "30a15fbb-1f43-4d18-90b8-8b0600e19863",
   "metadata": {},
   "outputs": [],
   "source": []
  },
  {
   "cell_type": "code",
   "execution_count": 35,
   "id": "5dcb1304-98c6-4149-a832-908725af61b8",
   "metadata": {},
   "outputs": [],
   "source": [
    "master_df = pd.concat(all_interactions, ignore_index=True)"
   ]
  },
  {
   "cell_type": "code",
   "execution_count": 36,
   "id": "c0ca9465-85e4-418b-ac4e-38bd17454dba",
   "metadata": {},
   "outputs": [],
   "source": [
    "master_file = laina_results_dir / \"master_df_ligand.csv\"\n",
    "master_df.to_csv(master_file, index=False)"
   ]
  },
  {
   "cell_type": "markdown",
   "id": "5e387c3f-d02d-4a3e-b803-b1a9e6cd1811",
   "metadata": {},
   "source": [
    "# Generating df of conditions unique to conditions"
   ]
  },
  {
   "cell_type": "code",
   "execution_count": 52,
   "id": "b093f599-8574-4def-9fd8-20feab123b3a",
   "metadata": {},
   "outputs": [],
   "source": [
    "from collections import defaultdict\n",
    "\n",
    "condition_sets = (\n",
    "    master_df.groupby(\"condition\")[\"interaction\"]\n",
    "    .apply(set)\n",
    "    .to_dict()\n",
    ")\n"
   ]
  },
  {
   "cell_type": "code",
   "execution_count": 53,
   "id": "0ddc4b60-d8cd-43e2-99e2-f758eac57349",
   "metadata": {
    "scrolled": true
   },
   "outputs": [],
   "source": [
    "unique_by_condition = {}\n",
    "\n",
    "for condition, interactions in condition_sets.items():\n",
    "    others = set().union(*[v for k, v in condition_sets.items() if k != condition])\n",
    "    unique_interactions = interactions - others\n",
    "    unique_by_condition[condition] = unique_interactions\n"
   ]
  },
  {
   "cell_type": "code",
   "execution_count": 56,
   "id": "1d901d32-85bc-4b00-a68b-c23ae98e6ed7",
   "metadata": {},
   "outputs": [],
   "source": [
    "unique_rows = []\n",
    "\n",
    "for cond, uniq_set in unique_by_condition.items():\n",
    "    subset = master_df[(master_df['condition'] == cond) & (master_df['interaction'].isin(uniq_set))].copy()\n",
    "    subset['unique_to_condition'] = True\n",
    "    unique_rows.append(subset)\n",
    "\n",
    "unique_df = pd.concat(unique_rows, ignore_index=True)\n"
   ]
  },
  {
   "cell_type": "code",
   "execution_count": 57,
   "id": "836b89a2-a9ec-4881-bde2-73c2e8caa6df",
   "metadata": {},
   "outputs": [],
   "source": [
    "unique_df.to_csv(\"/mnt/c/Users/jonan/Documents/1Work/RoseLab/Spatial/CAR_T/Results/unique_ligand_interactions_by_condition.csv\", index=False)"
   ]
  }
 ],
 "metadata": {
  "kernelspec": {
   "display_name": "Python (Spatial Analysis Env)",
   "language": "python",
   "name": "spatial_analysis_env"
  },
  "language_info": {
   "codemirror_mode": {
    "name": "ipython",
    "version": 3
   },
   "file_extension": ".py",
   "mimetype": "text/x-python",
   "name": "python",
   "nbconvert_exporter": "python",
   "pygments_lexer": "ipython3",
   "version": "3.10.17"
  }
 },
 "nbformat": 4,
 "nbformat_minor": 5
}
