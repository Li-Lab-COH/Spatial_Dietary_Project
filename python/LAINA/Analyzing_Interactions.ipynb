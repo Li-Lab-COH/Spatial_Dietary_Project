{
 "cells": [
  {
   "cell_type": "code",
   "execution_count": 8,
   "id": "ddfb1e32-a077-4d9c-90a5-060c93f4058d",
   "metadata": {},
   "outputs": [],
   "source": [
    "import sys\n",
    "sys.path.append(\"/mnt/c/Users/jonan/Documents/1Work/RoseLab/Spatial/stutils\")"
   ]
  },
  {
   "cell_type": "code",
   "execution_count": 14,
   "id": "e58f0358-1cae-47c1-9ad5-e5b05df7aeeb",
   "metadata": {},
   "outputs": [],
   "source": [
    "import anndata as ad\n",
    "import squidpy as sq\n",
    "import cellcharter as cc #ML\n",
    "import pandas as pd\n",
    "import scanpy as sc\n",
    "import liana as li\n",
    "import seaborn as sns\n",
    "import matplotlib.pyplot as plt\n",
    "from pathlib import Path\n",
    "import os\n",
    "from pypath import omnipath\n",
    "import decoupler as dc\n",
    "import geopandas as gpd\n"
   ]
  },
  {
   "cell_type": "code",
   "execution_count": 10,
   "id": "c11f95c9-c746-41ca-9a3b-a9c2b2daa318",
   "metadata": {
    "scrolled": true
   },
   "outputs": [],
   "source": [
    "# import interact_pull\n",
    "# import importlib\n",
    "# importlib.reload(interact_pull)\n",
    "from stutils.interact_pull import pull_interactions  # Re-import to get the updated definition\n"
   ]
  },
  {
   "cell_type": "code",
   "execution_count": 18,
   "id": "0aa01819-f32d-4331-a888-6da87e39672c",
   "metadata": {
    "scrolled": true
   },
   "outputs": [
    {
     "data": {
      "text/plain": [
       "<module 'interact_pull' from '/mnt/c/Users/jonan/Documents/1Work/RoseLab/Spatial/CAR_T/code/Clustering/LAINA/interact_pull.py'>"
      ]
     },
     "execution_count": 18,
     "metadata": {},
     "output_type": "execute_result"
    }
   ],
   "source": [
    "# If I want to reload\n",
    "importlib.reload(interact_pull)"
   ]
  },
  {
   "cell_type": "code",
   "execution_count": 14,
   "id": "296ea36e-43a8-4d85-b6ab-82700f878d02",
   "metadata": {},
   "outputs": [
    {
     "name": "stdout",
     "output_type": "stream",
     "text": [
      "['__builtins__', '__cached__', '__doc__', '__file__', '__loader__', '__name__', '__package__', '__spec__', 'pull_interactions']\n"
     ]
    }
   ],
   "source": [
    "import interact_pull\n",
    "print(dir(interact_pull))\n"
   ]
  },
  {
   "cell_type": "code",
   "execution_count": 17,
   "id": "d5805978-3ee5-42a8-926c-b68514daf13c",
   "metadata": {},
   "outputs": [],
   "source": [
    "base_folder = Path(f\"/mnt/c/Users/jonan/Documents/1Work/RoseLab/Spatial/dietary_droject/\")\n",
    "\n",
    "adata_file = base_folder / \"data\" / \"cell_segmentation\" / \"concatenated\" / \"combined_adata.h5ad\"\n",
    "laina_results_dir = base_folder / \"results\" / \"LIANA\"\n",
    "\n",
    "ST_sample = sc.read_h5ad(adata_file)\n",
    "\n"
   ]
  },
  {
   "cell_type": "code",
   "execution_count": 21,
   "id": "73eccbcb-9b36-4d1c-b0cb-bac14365d6a2",
   "metadata": {},
   "outputs": [
    {
     "data": {
      "text/plain": [
       "array([[ 8547.44193129,  4240.78760839],\n",
       "       [ 5022.15044233,  6264.89490285],\n",
       "       [ 2718.82473161,  4211.23226837],\n",
       "       ...,\n",
       "       [ 2612.16208904, 11240.02625996],\n",
       "       [ 4761.60752658,  9648.39330802],\n",
       "       [ 8810.15668401, 10467.00224748]])"
      ]
     },
     "execution_count": 21,
     "metadata": {},
     "output_type": "execute_result"
    }
   ],
   "source": [
    "ST_sample.obsm['spatial']"
   ]
  },
  {
   "cell_type": "code",
   "execution_count": 37,
   "id": "0f6a03cd-639b-4d40-a6fc-cd7129303625",
   "metadata": {
    "scrolled": true
   },
   "outputs": [],
   "source": [
    "# pull_interactions(ST_sample, sample, li)"
   ]
  },
  {
   "cell_type": "markdown",
   "id": "ee442c52-70b4-4c7b-9b7c-728aa0ab9acc",
   "metadata": {},
   "source": [
    "# Function"
   ]
  },
  {
   "cell_type": "code",
   "execution_count": 34,
   "id": "7d1a8972-2c1f-440c-9d50-e0d446a609ab",
   "metadata": {},
   "outputs": [
    {
     "name": "stdout",
     "output_type": "stream",
     "text": [
      "Running on mouse 9_KDRT\n"
     ]
    },
    {
     "name": "stderr",
     "output_type": "stream",
     "text": [
      "Using `.X`!\n",
      "/home/jon/anaconda3/envs/spatial_analysis_env/lib/python3.10/site-packages/anndata/_core/anndata.py:381: FutureWarning: The dtype argument is deprecated and will be removed in late 2024.\n",
      "362 features of mat are empty, they will be removed.\n",
      "299 samples of mat are empty, they will be removed.\n",
      "Make sure that normalized counts are passed!\n",
      "Using resource `mouseconsensus`.\n",
      "100%|█████████████████████████████████████████████████████████████████████████████| 100/100 [00:03<00:00, 26.01it/s]\n",
      "100%|█████████████████████████████████████████████████████████████████████████████| 100/100 [00:10<00:00,  9.45it/s]\n"
     ]
    },
    {
     "name": "stdout",
     "output_type": "stream",
     "text": [
      "Running on mouse 8_CRRT\n"
     ]
    },
    {
     "name": "stderr",
     "output_type": "stream",
     "text": [
      "Using `.X`!\n",
      "/home/jon/anaconda3/envs/spatial_analysis_env/lib/python3.10/site-packages/anndata/_core/anndata.py:381: FutureWarning: The dtype argument is deprecated and will be removed in late 2024.\n",
      "200 features of mat are empty, they will be removed.\n",
      "8 samples of mat are empty, they will be removed.\n",
      "Make sure that normalized counts are passed!\n",
      "Using resource `mouseconsensus`.\n",
      "100%|█████████████████████████████████████████████████████████████████████████████| 100/100 [00:08<00:00, 12.18it/s]\n",
      "100%|█████████████████████████████████████████████████████████████████████████████| 100/100 [00:21<00:00,  4.60it/s]\n"
     ]
    },
    {
     "name": "stdout",
     "output_type": "stream",
     "text": [
      "Running on mouse 28_LFRT\n"
     ]
    },
    {
     "name": "stderr",
     "output_type": "stream",
     "text": [
      "Using `.X`!\n",
      "/home/jon/anaconda3/envs/spatial_analysis_env/lib/python3.10/site-packages/anndata/_core/anndata.py:381: FutureWarning: The dtype argument is deprecated and will be removed in late 2024.\n",
      "424 features of mat are empty, they will be removed.\n",
      "4669 samples of mat are empty, they will be removed.\n",
      "Make sure that normalized counts are passed!\n",
      "Using resource `mouseconsensus`.\n",
      "100%|████████████████████████████████████████████████████████████████████████████| 100/100 [00:00<00:00, 114.84it/s]\n",
      "100%|█████████████████████████████████████████████████████████████████████████████| 100/100 [00:02<00:00, 41.25it/s]\n"
     ]
    },
    {
     "name": "stdout",
     "output_type": "stream",
     "text": [
      "Running on mouse 5_RT\n"
     ]
    },
    {
     "name": "stderr",
     "output_type": "stream",
     "text": [
      "Using `.X`!\n",
      "/home/jon/anaconda3/envs/spatial_analysis_env/lib/python3.10/site-packages/anndata/_core/anndata.py:381: FutureWarning: The dtype argument is deprecated and will be removed in late 2024.\n",
      "225 features of mat are empty, they will be removed.\n",
      "3 samples of mat are empty, they will be removed.\n",
      "Make sure that normalized counts are passed!\n",
      "Using resource `mouseconsensus`.\n",
      "100%|█████████████████████████████████████████████████████████████████████████████| 100/100 [00:04<00:00, 21.89it/s]\n",
      "100%|█████████████████████████████████████████████████████████████████████████████| 100/100 [00:11<00:00,  8.56it/s]\n"
     ]
    },
    {
     "name": "stdout",
     "output_type": "stream",
     "text": [
      "Running on mouse 3_RT\n"
     ]
    },
    {
     "name": "stderr",
     "output_type": "stream",
     "text": [
      "Using `.X`!\n",
      "/home/jon/anaconda3/envs/spatial_analysis_env/lib/python3.10/site-packages/anndata/_core/anndata.py:381: FutureWarning: The dtype argument is deprecated and will be removed in late 2024.\n",
      "456 features of mat are empty, they will be removed.\n",
      "Make sure that normalized counts are passed!\n",
      "Using resource `mouseconsensus`.\n",
      "100%|█████████████████████████████████████████████████████████████████████████████| 100/100 [00:07<00:00, 13.74it/s]\n",
      "100%|█████████████████████████████████████████████████████████████████████████████| 100/100 [00:20<00:00,  4.79it/s]\n"
     ]
    },
    {
     "name": "stdout",
     "output_type": "stream",
     "text": [
      "Running on mouse 2_KDRT\n"
     ]
    },
    {
     "name": "stderr",
     "output_type": "stream",
     "text": [
      "Using `.X`!\n",
      "/home/jon/anaconda3/envs/spatial_analysis_env/lib/python3.10/site-packages/anndata/_core/anndata.py:381: FutureWarning: The dtype argument is deprecated and will be removed in late 2024.\n",
      "402 features of mat are empty, they will be removed.\n",
      "121 samples of mat are empty, they will be removed.\n",
      "Make sure that normalized counts are passed!\n",
      "Using resource `mouseconsensus`.\n",
      "100%|█████████████████████████████████████████████████████████████████████████████| 100/100 [00:02<00:00, 43.02it/s]\n",
      "100%|█████████████████████████████████████████████████████████████████████████████| 100/100 [00:06<00:00, 16.07it/s]\n"
     ]
    },
    {
     "name": "stdout",
     "output_type": "stream",
     "text": [
      "Skipping bad sample: 7_CRRT\n",
      "Running on mouse 27_LFRT\n"
     ]
    },
    {
     "name": "stderr",
     "output_type": "stream",
     "text": [
      "Using `.X`!\n",
      "/home/jon/anaconda3/envs/spatial_analysis_env/lib/python3.10/site-packages/anndata/_core/anndata.py:381: FutureWarning: The dtype argument is deprecated and will be removed in late 2024.\n",
      "1526 features of mat are empty, they will be removed.\n",
      "27 samples of mat are empty, they will be removed.\n",
      "Make sure that normalized counts are passed!\n",
      "Using resource `mouseconsensus`.\n",
      "100%|████████████████████████████████████████████████████████████████████████████| 100/100 [00:00<00:00, 214.48it/s]\n",
      "100%|█████████████████████████████████████████████████████████████████████████████| 100/100 [00:01<00:00, 75.96it/s]\n"
     ]
    },
    {
     "name": "stdout",
     "output_type": "stream",
     "text": [
      "Running on mouse 13_KDRT\n"
     ]
    },
    {
     "name": "stderr",
     "output_type": "stream",
     "text": [
      "Using `.X`!\n",
      "/home/jon/anaconda3/envs/spatial_analysis_env/lib/python3.10/site-packages/anndata/_core/anndata.py:381: FutureWarning: The dtype argument is deprecated and will be removed in late 2024.\n",
      "1078 features of mat are empty, they will be removed.\n",
      "41 samples of mat are empty, they will be removed.\n",
      "Make sure that normalized counts are passed!\n",
      "Using resource `mouseconsensus`.\n",
      "100%|█████████████████████████████████████████████████████████████████████████████| 100/100 [00:03<00:00, 26.56it/s]\n",
      "100%|█████████████████████████████████████████████████████████████████████████████| 100/100 [00:09<00:00, 10.15it/s]\n"
     ]
    },
    {
     "name": "stdout",
     "output_type": "stream",
     "text": [
      "Running on mouse 29_LFRT\n"
     ]
    },
    {
     "name": "stderr",
     "output_type": "stream",
     "text": [
      "Using `.X`!\n",
      "/home/jon/anaconda3/envs/spatial_analysis_env/lib/python3.10/site-packages/anndata/_core/anndata.py:381: FutureWarning: The dtype argument is deprecated and will be removed in late 2024.\n",
      "3248 features of mat are empty, they will be removed.\n",
      "53 samples of mat are empty, they will be removed.\n",
      "Make sure that normalized counts are passed!\n",
      "Using resource `mouseconsensus`.\n"
     ]
    },
    {
     "name": "stdout",
     "output_type": "stream",
     "text": [
      "Failed on 29_LFRT: No features with non-zero proportions\n",
      "Running on mouse 11_RT\n"
     ]
    },
    {
     "name": "stderr",
     "output_type": "stream",
     "text": [
      "Using `.X`!\n",
      "/home/jon/anaconda3/envs/spatial_analysis_env/lib/python3.10/site-packages/anndata/_core/anndata.py:381: FutureWarning: The dtype argument is deprecated and will be removed in late 2024.\n",
      "3095 features of mat are empty, they will be removed.\n",
      "5 samples of mat are empty, they will be removed.\n",
      "Make sure that normalized counts are passed!\n",
      "Using resource `mouseconsensus`.\n",
      "100%|█████████████████████████████████████████████████████████████████████████████| 100/100 [00:01<00:00, 73.86it/s]\n",
      "100%|█████████████████████████████████████████████████████████████████████████████| 100/100 [00:03<00:00, 26.27it/s]\n"
     ]
    },
    {
     "name": "stdout",
     "output_type": "stream",
     "text": [
      "Running on mouse 10_CRRT\n"
     ]
    },
    {
     "name": "stderr",
     "output_type": "stream",
     "text": [
      "Using `.X`!\n",
      "/home/jon/anaconda3/envs/spatial_analysis_env/lib/python3.10/site-packages/anndata/_core/anndata.py:381: FutureWarning: The dtype argument is deprecated and will be removed in late 2024.\n",
      "1372 features of mat are empty, they will be removed.\n",
      "38 samples of mat are empty, they will be removed.\n",
      "Make sure that normalized counts are passed!\n",
      "Using resource `mouseconsensus`.\n",
      "100%|████████████████████████████████████████████████████████████████████████████| 100/100 [00:00<00:00, 190.23it/s]\n",
      "100%|█████████████████████████████████████████████████████████████████████████████| 100/100 [00:01<00:00, 68.04it/s]\n"
     ]
    },
    {
     "name": "stdout",
     "output_type": "stream",
     "text": [
      "Running on mouse 35_LGIRT\n"
     ]
    },
    {
     "name": "stderr",
     "output_type": "stream",
     "text": [
      "Using `.X`!\n",
      "/home/jon/anaconda3/envs/spatial_analysis_env/lib/python3.10/site-packages/anndata/_core/anndata.py:381: FutureWarning: The dtype argument is deprecated and will be removed in late 2024.\n",
      "2004 features of mat are empty, they will be removed.\n",
      "64 samples of mat are empty, they will be removed.\n",
      "Make sure that normalized counts are passed!\n",
      "Using resource `mouseconsensus`.\n",
      "100%|█████████████████████████████████████████████████████████████████████████████| 100/100 [00:05<00:00, 19.70it/s]\n",
      "100%|█████████████████████████████████████████████████████████████████████████████| 100/100 [00:12<00:00,  8.19it/s]\n"
     ]
    },
    {
     "name": "stdout",
     "output_type": "stream",
     "text": [
      "Running on mouse 33_LGIRT\n"
     ]
    },
    {
     "name": "stderr",
     "output_type": "stream",
     "text": [
      "Using `.X`!\n",
      "/home/jon/anaconda3/envs/spatial_analysis_env/lib/python3.10/site-packages/anndata/_core/anndata.py:381: FutureWarning: The dtype argument is deprecated and will be removed in late 2024.\n",
      "3668 features of mat are empty, they will be removed.\n",
      "562 samples of mat are empty, they will be removed.\n",
      "Make sure that normalized counts are passed!\n",
      "Using resource `mouseconsensus`.\n",
      "100%|█████████████████████████████████████████████████████████████████████████████| 100/100 [00:01<00:00, 69.03it/s]\n",
      "100%|█████████████████████████████████████████████████████████████████████████████| 100/100 [00:04<00:00, 24.82it/s]\n"
     ]
    },
    {
     "name": "stdout",
     "output_type": "stream",
     "text": [
      "Running on mouse 37_CRRT\n"
     ]
    },
    {
     "name": "stderr",
     "output_type": "stream",
     "text": [
      "Using `.X`!\n",
      "/home/jon/anaconda3/envs/spatial_analysis_env/lib/python3.10/site-packages/anndata/_core/anndata.py:381: FutureWarning: The dtype argument is deprecated and will be removed in late 2024.\n",
      "2540 features of mat are empty, they will be removed.\n",
      "38 samples of mat are empty, they will be removed.\n",
      "Make sure that normalized counts are passed!\n",
      "Using resource `mouseconsensus`.\n",
      "100%|█████████████████████████████████████████████████████████████████████████████| 100/100 [00:04<00:00, 22.15it/s]\n",
      "100%|█████████████████████████████████████████████████████████████████████████████| 100/100 [00:12<00:00,  8.00it/s]\n"
     ]
    },
    {
     "name": "stdout",
     "output_type": "stream",
     "text": [
      "Running on mouse 31_RT\n"
     ]
    },
    {
     "name": "stderr",
     "output_type": "stream",
     "text": [
      "Using `.X`!\n",
      "/home/jon/anaconda3/envs/spatial_analysis_env/lib/python3.10/site-packages/anndata/_core/anndata.py:381: FutureWarning: The dtype argument is deprecated and will be removed in late 2024.\n",
      "1920 features of mat are empty, they will be removed.\n",
      "Make sure that normalized counts are passed!\n",
      "Using resource `mouseconsensus`.\n",
      "100%|█████████████████████████████████████████████████████████████████████████████| 100/100 [00:11<00:00,  9.08it/s]\n",
      "100%|█████████████████████████████████████████████████████████████████████████████| 100/100 [00:36<00:00,  2.72it/s]\n"
     ]
    },
    {
     "name": "stdout",
     "output_type": "stream",
     "text": [
      "Running on mouse 34_LGIRT\n"
     ]
    },
    {
     "name": "stderr",
     "output_type": "stream",
     "text": [
      "Using `.X`!\n",
      "/home/jon/anaconda3/envs/spatial_analysis_env/lib/python3.10/site-packages/anndata/_core/anndata.py:381: FutureWarning: The dtype argument is deprecated and will be removed in late 2024.\n",
      "2123 features of mat are empty, they will be removed.\n",
      "3 samples of mat are empty, they will be removed.\n",
      "Make sure that normalized counts are passed!\n",
      "Using resource `mouseconsensus`.\n",
      "100%|█████████████████████████████████████████████████████████████████████████████| 100/100 [00:06<00:00, 15.71it/s]\n",
      "100%|█████████████████████████████████████████████████████████████████████████████| 100/100 [00:17<00:00,  5.58it/s]\n"
     ]
    },
    {
     "name": "stdout",
     "output_type": "stream",
     "text": [
      "Running on mouse 36_CRRT\n"
     ]
    },
    {
     "name": "stderr",
     "output_type": "stream",
     "text": [
      "Using `.X`!\n",
      "/home/jon/anaconda3/envs/spatial_analysis_env/lib/python3.10/site-packages/anndata/_core/anndata.py:381: FutureWarning: The dtype argument is deprecated and will be removed in late 2024.\n",
      "2369 features of mat are empty, they will be removed.\n",
      "3 samples of mat are empty, they will be removed.\n",
      "Make sure that normalized counts are passed!\n",
      "Using resource `mouseconsensus`.\n",
      "100%|█████████████████████████████████████████████████████████████████████████████| 100/100 [00:09<00:00, 10.37it/s]\n",
      "100%|█████████████████████████████████████████████████████████████████████████████| 100/100 [00:36<00:00,  2.73it/s]\n"
     ]
    },
    {
     "name": "stdout",
     "output_type": "stream",
     "text": [
      "Running on mouse 38_CRRT\n"
     ]
    },
    {
     "name": "stderr",
     "output_type": "stream",
     "text": [
      "Using `.X`!\n",
      "/home/jon/anaconda3/envs/spatial_analysis_env/lib/python3.10/site-packages/anndata/_core/anndata.py:381: FutureWarning: The dtype argument is deprecated and will be removed in late 2024.\n",
      "2262 features of mat are empty, they will be removed.\n",
      "Make sure that normalized counts are passed!\n",
      "Using resource `mouseconsensus`.\n",
      "100%|█████████████████████████████████████████████████████████████████████████████| 100/100 [00:14<00:00,  7.14it/s]\n",
      "100%|█████████████████████████████████████████████████████████████████████████████| 100/100 [00:45<00:00,  2.18it/s]\n"
     ]
    },
    {
     "name": "stdout",
     "output_type": "stream",
     "text": [
      "Running on mouse 32_RT\n"
     ]
    },
    {
     "name": "stderr",
     "output_type": "stream",
     "text": [
      "Using `.X`!\n",
      "/home/jon/anaconda3/envs/spatial_analysis_env/lib/python3.10/site-packages/anndata/_core/anndata.py:381: FutureWarning: The dtype argument is deprecated and will be removed in late 2024.\n",
      "4097 features of mat are empty, they will be removed.\n",
      "97 samples of mat are empty, they will be removed.\n",
      "Make sure that normalized counts are passed!\n",
      "Using resource `mouseconsensus`.\n",
      "100%|█████████████████████████████████████████████████████████████████████████████| 100/100 [00:01<00:00, 63.49it/s]\n",
      "100%|█████████████████████████████████████████████████████████████████████████████| 100/100 [00:04<00:00, 22.45it/s]\n"
     ]
    }
   ],
   "source": [
    "bad_samples = [\"7_CRRT\", \"29_LFRT\"]\n",
    "all_interactions = []\n",
    "\n",
    "for mouse_name in ST_sample.obs['mouse'].unique():\n",
    "    if mouse_name in bad_samples:\n",
    "        print(f\"Skipping bad sample: {mouse_name}\")\n",
    "        continue\n",
    "\n",
    "    print(f\"Running on mouse {mouse_name}\")\n",
    "    try:\n",
    "        df = pull_interactions(ST_sample, mouse_name, li)\n",
    "        all_interactions.append(df)\n",
    "    except Exception as e:\n",
    "        print(f\"Failed on {mouse_name}: {e}\")"
   ]
  },
  {
   "cell_type": "code",
   "execution_count": 35,
   "id": "5dcb1304-98c6-4149-a832-908725af61b8",
   "metadata": {},
   "outputs": [],
   "source": [
    "master_df = pd.concat(all_interactions, ignore_index=True)"
   ]
  },
  {
   "cell_type": "code",
   "execution_count": 36,
   "id": "c0ca9465-85e4-418b-ac4e-38bd17454dba",
   "metadata": {},
   "outputs": [],
   "source": [
    "master_file = laina_results_dir / \"master_df_ligand.csv\"\n",
    "master_df.to_csv(master_file, index=False)"
   ]
  },
  {
   "cell_type": "markdown",
   "id": "5e387c3f-d02d-4a3e-b803-b1a9e6cd1811",
   "metadata": {},
   "source": [
    "# Generating df of conditions unique to conditions"
   ]
  },
  {
   "cell_type": "code",
   "execution_count": 52,
   "id": "b093f599-8574-4def-9fd8-20feab123b3a",
   "metadata": {},
   "outputs": [],
   "source": [
    "from collections import defaultdict\n",
    "\n",
    "condition_sets = (\n",
    "    master_df.groupby(\"condition\")[\"interaction\"]\n",
    "    .apply(set)\n",
    "    .to_dict()\n",
    ")\n"
   ]
  },
  {
   "cell_type": "code",
   "execution_count": 53,
   "id": "0ddc4b60-d8cd-43e2-99e2-f758eac57349",
   "metadata": {
    "scrolled": true
   },
   "outputs": [],
   "source": [
    "unique_by_condition = {}\n",
    "\n",
    "for condition, interactions in condition_sets.items():\n",
    "    others = set().union(*[v for k, v in condition_sets.items() if k != condition])\n",
    "    unique_interactions = interactions - others\n",
    "    unique_by_condition[condition] = unique_interactions\n"
   ]
  },
  {
   "cell_type": "code",
   "execution_count": 56,
   "id": "1d901d32-85bc-4b00-a68b-c23ae98e6ed7",
   "metadata": {},
   "outputs": [],
   "source": [
    "unique_rows = []\n",
    "\n",
    "for cond, uniq_set in unique_by_condition.items():\n",
    "    subset = master_df[(master_df['condition'] == cond) & (master_df['interaction'].isin(uniq_set))].copy()\n",
    "    subset['unique_to_condition'] = True\n",
    "    unique_rows.append(subset)\n",
    "\n",
    "unique_df = pd.concat(unique_rows, ignore_index=True)\n"
   ]
  },
  {
   "cell_type": "code",
   "execution_count": 57,
   "id": "836b89a2-a9ec-4881-bde2-73c2e8caa6df",
   "metadata": {},
   "outputs": [],
   "source": [
    "unique_df.to_csv(\"/mnt/c/Users/jonan/Documents/1Work/RoseLab/Spatial/CAR_T/Results/unique_ligand_interactions_by_condition.csv\", index=False)"
   ]
  }
 ],
 "metadata": {
  "kernelspec": {
   "display_name": "Python (Spatial Analysis Env)",
   "language": "python",
   "name": "spatial_analysis_env"
  },
  "language_info": {
   "codemirror_mode": {
    "name": "ipython",
    "version": 3
   },
   "file_extension": ".py",
   "mimetype": "text/x-python",
   "name": "python",
   "nbconvert_exporter": "python",
   "pygments_lexer": "ipython3",
   "version": "3.10.17"
  }
 },
 "nbformat": 4,
 "nbformat_minor": 5
}
