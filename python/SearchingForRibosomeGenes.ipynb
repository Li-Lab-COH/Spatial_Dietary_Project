{
 "cells": [
  {
   "cell_type": "code",
   "execution_count": 36,
   "id": "e57c068a-2775-4f5c-804b-7667ce7fd0da",
   "metadata": {},
   "outputs": [],
   "source": [
    "import numpy as np\n",
    "import pandas as pd\n",
    "from scipy.sparse import issparse\n",
    "from pathlib import Path\n",
    "import scanpy as sc\n",
    "import geopandas as gpd"
   ]
  },
  {
   "cell_type": "code",
   "execution_count": 44,
   "id": "13f40f26-5339-4519-8355-6b28af2b513d",
   "metadata": {},
   "outputs": [
    {
     "ename": "ModuleNotFoundError",
     "evalue": "No module named 'mygene'",
     "output_type": "error",
     "traceback": [
      "\u001b[0;31m---------------------------------------------------------------------------\u001b[0m",
      "\u001b[0;31mModuleNotFoundError\u001b[0m                       Traceback (most recent call last)",
      "Cell \u001b[0;32mIn[44], line 1\u001b[0m\n\u001b[0;32m----> 1\u001b[0m \u001b[38;5;28;01mfrom\u001b[39;00m\u001b[38;5;250m \u001b[39m\u001b[38;5;21;01mmygene\u001b[39;00m\u001b[38;5;250m \u001b[39m\u001b[38;5;28;01mimport\u001b[39;00m MyGeneInfo\n",
      "\u001b[0;31mModuleNotFoundError\u001b[0m: No module named 'mygene'"
     ]
    }
   ],
   "source": [
    "from mygene import MyGeneInfo"
   ]
  },
  {
   "cell_type": "code",
   "execution_count": 37,
   "id": "533b0fd8-e32c-457b-9fd8-22583fe765a5",
   "metadata": {},
   "outputs": [],
   "source": [
    "# Define path\n",
    "sample_id = \"F07833\"\n",
    "segmentation_path = Path(\n",
    "    \"/mnt/c/Users/jonan/Documents/1Work/RoseLab/Spatial/\"\n",
    "    \"dietary_droject/data/cell_segmentation/SegmentedData\"\n",
    ")\n",
    "adata_path = segmentation_path / sample_id / f\"{sample_id}_grouped_filtered_adata.h5ad\"\n",
    "\n",
    "# Load AnnData\n",
    "ST_sample = sc.read_h5ad(adata_path)\n",
    "\n",
    "# Load geo data\n",
    "GDF_file = Path(\"/mnt/c/Users/jonan/Documents/1Work/RoseLab/Spatial/dietary_droject/data/cell_segmentation/SegmentedData/F07833/F07833_gdf.gpkg\")\n",
    "geo_file = gpd.read_file(GDF_file)"
   ]
  },
  {
   "cell_type": "code",
   "execution_count": 3,
   "id": "08d3d594-be69-4275-9d7d-d8e74cc6634f",
   "metadata": {},
   "outputs": [
    {
     "ename": "ImportError",
     "evalue": "cannot import name 'cell_cycle' from 'scanpy.datasets' (/home/jon/anaconda3/envs/spatial_analysis/lib/python3.10/site-packages/scanpy/datasets/__init__.py)",
     "output_type": "error",
     "traceback": [
      "\u001b[0;31m---------------------------------------------------------------------------\u001b[0m",
      "\u001b[0;31mImportError\u001b[0m                               Traceback (most recent call last)",
      "Cell \u001b[0;32mIn[3], line 1\u001b[0m\n\u001b[0;32m----> 1\u001b[0m \u001b[38;5;28;01mfrom\u001b[39;00m\u001b[38;5;250m \u001b[39m\u001b[38;5;21;01mscanpy\u001b[39;00m\u001b[38;5;21;01m.\u001b[39;00m\u001b[38;5;21;01mdatasets\u001b[39;00m\u001b[38;5;250m \u001b[39m\u001b[38;5;28;01mimport\u001b[39;00m cell_cycle\n\u001b[1;32m      2\u001b[0m s_genes, g2m_genes \u001b[38;5;241m=\u001b[39m cell_cycle()       \u001b[38;5;66;03m# these are human symbols\u001b[39;00m\n\u001b[1;32m      4\u001b[0m \u001b[38;5;66;03m# Upper‑case to match your AnnData\u001b[39;00m\n",
      "\u001b[0;31mImportError\u001b[0m: cannot import name 'cell_cycle' from 'scanpy.datasets' (/home/jon/anaconda3/envs/spatial_analysis/lib/python3.10/site-packages/scanpy/datasets/__init__.py)"
     ]
    }
   ],
   "source": [
    "from scanpy.datasets import cell_cycle\n",
    "s_genes, g2m_genes = cell_cycle()       # these are human symbols\n",
    "\n",
    "# Upper‑case to match your AnnData\n",
    "var_up = ST_sample.var_names.str.upper()\n",
    "s_mouse   = [g.upper() for g in s_genes   if g.upper()   in var_up]\n",
    "g2m_mouse = [g.upper() for g in g2m_genes if g.upper() in var_up]\n",
    "\n",
    "print(f\"{len(s_mouse)} / {len(s_genes)} S‑genes found in your data\")\n",
    "print(f\"{len(g2m_mouse)} / {len(g2m_genes)} G2/M‑genes found in your data\")\n"
   ]
  },
  {
   "cell_type": "code",
   "execution_count": 4,
   "id": "dcf99acd-e99a-4f4d-8d0d-1234342dd6d5",
   "metadata": {},
   "outputs": [
    {
     "name": "stdout",
     "output_type": "stream",
     "text": [
      "1.11.1\n"
     ]
    }
   ],
   "source": [
    "import scanpy as sc\n",
    "print(sc.__version__)"
   ]
  },
  {
   "cell_type": "code",
   "execution_count": 6,
   "id": "78c43929-9b0d-4803-9a7b-547848dce069",
   "metadata": {},
   "outputs": [
    {
     "data": {
      "text/plain": [
       "<function scanpy.tools._score_genes.score_genes(adata: 'AnnData', gene_list: 'Sequence[str] | pd.Index[str]', *, ctrl_as_ref: 'bool' = True, ctrl_size: 'int' = 50, gene_pool: 'Sequence[str] | pd.Index[str] | None' = None, n_bins: 'int' = 25, score_name: 'str' = 'score', random_state: '_LegacyRandom' = 0, copy: 'bool' = False, use_raw: 'bool | None' = None, layer: 'str | None' = None) -> 'AnnData | None'>"
      ]
     },
     "execution_count": 6,
     "metadata": {},
     "output_type": "execute_result"
    }
   ],
   "source": [
    "sc.tl.score_genes"
   ]
  },
  {
   "cell_type": "code",
   "execution_count": 13,
   "id": "7dd45822-5ad5-4203-84ce-355d239405a0",
   "metadata": {},
   "outputs": [],
   "source": [
    "# ribo_genes = ST_sample.var_names.str.startswith(('RPS','RPL'))\n",
    "ribo_genes = ST_sample.var_names.str.upper().str.startswith(('RPS','RPL'))\n",
    "# ST_sample.var['ribo'] = ribo_genes\n",
    "\n",
    "\n",
    "# sc.pp.calculate_qc_metrics(\n",
    "#     ST_sample,\n",
    "#     qc_vars=['ribo'],\n",
    "#     inplace=True\n",
    "# )"
   ]
  },
  {
   "cell_type": "code",
   "execution_count": 17,
   "id": "0bdc132d-5de9-436b-a5a4-41838f6895e2",
   "metadata": {},
   "outputs": [
    {
     "data": {
      "text/plain": [
       "Index(['Xkr4', 'Rp1', 'Sox17', 'Lypla1', 'Tcea1', 'Rgs20', 'Atp6v1h', 'Oprk1',\n",
       "       'Npbwr1', 'Rb1cc1',\n",
       "       ...\n",
       "       'mt-Atp8', 'mt-Atp6', 'mt-Co3', 'mt-Nd3', 'mt-Nd4l', 'mt-Nd4', 'mt-Nd5',\n",
       "       'mt-Nd6', 'mt-Cytb', 'Vamp7'],\n",
       "      dtype='object', length=19059)"
      ]
     },
     "execution_count": 17,
     "metadata": {},
     "output_type": "execute_result"
    }
   ],
   "source": [
    "ST_sample.var_names"
   ]
  },
  {
   "cell_type": "code",
   "execution_count": 26,
   "id": "813b4d7d-0137-40e6-948a-c2278e553767",
   "metadata": {},
   "outputs": [
    {
     "data": {
      "text/plain": [
       "np.int64(0)"
      ]
     },
     "execution_count": 26,
     "metadata": {},
     "output_type": "execute_result"
    }
   ],
   "source": [
    "sum(ribo_genes)"
   ]
  },
  {
   "cell_type": "code",
   "execution_count": 8,
   "id": "564b8625-4bd2-44e0-af5b-af800dccffd9",
   "metadata": {},
   "outputs": [
    {
     "data": {
      "text/plain": [
       "count     19059\n",
       "unique        1\n",
       "top       False\n",
       "freq      19059\n",
       "Name: ribo, dtype: object"
      ]
     },
     "execution_count": 8,
     "metadata": {},
     "output_type": "execute_result"
    }
   ],
   "source": [
    "ST_sample.var['ribo'].describe()"
   ]
  },
  {
   "cell_type": "code",
   "execution_count": 35,
   "id": "8a214e74-0f94-4041-b165-9711b9ed8fa5",
   "metadata": {},
   "outputs": [
    {
     "data": {
      "text/plain": [
       "Index(['XKR4', 'RP1', 'SOX17', 'LYPLA1', 'TCEA1', 'RGS20', 'ATP6V1H', 'OPRK1',\n",
       "       'NPBWR1', 'RB1CC1',\n",
       "       ...\n",
       "       'MT-ATP8', 'MT-ATP6', 'MT-CO3', 'MT-ND3', 'MT-ND4L', 'MT-ND4', 'MT-ND5',\n",
       "       'MT-ND6', 'MT-CYTB', 'VAMP7'],\n",
       "      dtype='object', length=19059)"
      ]
     },
     "execution_count": 35,
     "metadata": {},
     "output_type": "execute_result"
    }
   ],
   "source": [
    "var_up"
   ]
  },
  {
   "cell_type": "code",
   "execution_count": 40,
   "id": "8218f6f4-e972-48c3-bf82-82459b77b695",
   "metadata": {},
   "outputs": [
    {
     "data": {
      "text/plain": [
       "(187600, 19059)"
      ]
     },
     "execution_count": 40,
     "metadata": {},
     "output_type": "execute_result"
    }
   ],
   "source": [
    "ST_sample.shape"
   ]
  },
  {
   "cell_type": "code",
   "execution_count": 39,
   "id": "b3feafe1-7c0c-4111-b993-d31f4881ebdd",
   "metadata": {},
   "outputs": [
    {
     "name": "stdout",
     "output_type": "stream",
     "text": [
      "Index(['Rp1', 'Rpe', 'Rpp38', 'Rprm', 'Rpusd2', 'Rpap1', 'Rpn2', 'Rprd1b',\n",
      "       'Rptn', 'Rprd2', 'Rpf1', 'Rpe65', 'Rpp25l', 'Rpa2', 'Rpap2', 'Rph3a',\n",
      "       'Rpa3', 'Rpia', 'Rpn1', 'Rpusd3', 'Rpgrip1l', 'Rp9', 'Rpusd4', 'Rpp25',\n",
      "       'Rpf2', 'Rpain', 'Rpa1', 'Rph3al', 'Rprml', 'Rptor', 'Rpp40', 'Rpp14',\n",
      "       'Rp1l1', 'Rpap3', 'Rpusd1', 'Rpp21', 'Rprd1a', 'Rpp30', 'Rpgr', 'Rp2'],\n",
      "      dtype='object')\n"
     ]
    }
   ],
   "source": [
    "# Case-normalize and match\n",
    "var_up = ST_sample.var_names.str.upper()\n",
    "ribo_genes = var_up.str.startswith(('RP'))\n",
    "\n",
    "# Pull the matched gene names (original case)\n",
    "matched_genes = ST_sample.var_names[ribo_genes]\n",
    "print(matched_genes)"
   ]
  },
  {
   "cell_type": "code",
   "execution_count": 38,
   "id": "0f645dc3-18bd-4df6-bf66-f7877e3bb2e8",
   "metadata": {},
   "outputs": [
    {
     "name": "stdout",
     "output_type": "stream",
     "text": [
      "0 ribosomal genes flagged\n"
     ]
    }
   ],
   "source": [
    "var_up = ST_sample.var_names.str.upper()\n",
    "ribo_genes = var_up.str.startswith(('RPS','RPL'))\n",
    "print(f\"{ribo_genes.sum()} ribosomal genes flagged\")\n",
    "# ST_sample.var['ribo'] = ribo_genes"
   ]
  },
  {
   "cell_type": "code",
   "execution_count": 31,
   "id": "fad0e654-4913-4167-b0e2-c4be46374e2b",
   "metadata": {},
   "outputs": [
    {
     "data": {
      "text/plain": [
       "array([False,  True, False, ..., False, False, False], shape=(19059,))"
      ]
     },
     "execution_count": 31,
     "metadata": {},
     "output_type": "execute_result"
    }
   ],
   "source": [
    "ribo_genes"
   ]
  },
  {
   "cell_type": "code",
   "execution_count": 19,
   "id": "c03075fe-f6bd-4ac7-8660-5b560b509ca9",
   "metadata": {},
   "outputs": [
    {
     "data": {
      "text/plain": [
       "array([False, False, False, ..., False, False, False], shape=(19059,))"
      ]
     },
     "execution_count": 19,
     "metadata": {},
     "output_type": "execute_result"
    }
   ],
   "source": [
    "ribo_genes"
   ]
  },
  {
   "cell_type": "code",
   "execution_count": 27,
   "id": "64ff8965-e548-40a8-9214-491a501b7d01",
   "metadata": {},
   "outputs": [
    {
     "data": {
      "text/plain": [
       "Index(['XKR4', 'RP1', 'SOX17', 'LYPLA1', 'TCEA1', 'RGS20', 'ATP6V1H', 'OPRK1',\n",
       "       'NPBWR1', 'RB1CC1',\n",
       "       ...\n",
       "       'MT-ATP8', 'MT-ATP6', 'MT-CO3', 'MT-ND3', 'MT-ND4L', 'MT-ND4', 'MT-ND5',\n",
       "       'MT-ND6', 'MT-CYTB', 'VAMP7'],\n",
       "      dtype='object', length=19059)"
      ]
     },
     "execution_count": 27,
     "metadata": {},
     "output_type": "execute_result"
    }
   ],
   "source": [
    "var_up"
   ]
  },
  {
   "cell_type": "code",
   "execution_count": 41,
   "id": "11d2e014-29ad-4205-96f9-1e0e808dfb18",
   "metadata": {},
   "outputs": [
    {
     "data": {
      "text/plain": [
       "[]"
      ]
     },
     "execution_count": 41,
     "metadata": {},
     "output_type": "execute_result"
    }
   ],
   "source": [
    "[r for r in ['Rpl13a', 'Rps3', 'Rplp1', 'Rps6'] if r in ST_sample.var_names]\n"
   ]
  },
  {
   "cell_type": "code",
   "execution_count": 42,
   "id": "70d0c880-38fb-4a51-8736-5194de5adc09",
   "metadata": {},
   "outputs": [
    {
     "data": {
      "text/plain": [
       "False"
      ]
     },
     "execution_count": 42,
     "metadata": {},
     "output_type": "execute_result"
    }
   ],
   "source": [
    "any(ST_sample.var_names.str.upper().str.startswith('RPL'))"
   ]
  },
  {
   "cell_type": "code",
   "execution_count": 43,
   "id": "64fee32b-2e1f-4fe0-b286-caba86e8e7af",
   "metadata": {},
   "outputs": [
    {
     "data": {
      "text/plain": [
       "False"
      ]
     },
     "execution_count": 43,
     "metadata": {},
     "output_type": "execute_result"
    }
   ],
   "source": [
    "any(ST_sample.var_names.str.upper().str.startswith('RPS'))"
   ]
  }
 ],
 "metadata": {
  "kernelspec": {
   "display_name": "Python (spatial_analysis)",
   "language": "python",
   "name": "spatial_analysis"
  },
  "language_info": {
   "codemirror_mode": {
    "name": "ipython",
    "version": 3
   },
   "file_extension": ".py",
   "mimetype": "text/x-python",
   "name": "python",
   "nbconvert_exporter": "python",
   "pygments_lexer": "ipython3",
   "version": "3.10.17"
  }
 },
 "nbformat": 4,
 "nbformat_minor": 5
}
