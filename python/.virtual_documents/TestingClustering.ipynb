import numpy as np
import pandas as pd
from scipy.sparse import issparse
from pathlib import Path
import scanpy as sc
# import rpy2.robjects as ro
# from rpy2.robjects import pandas2ri
# pandas2ri.activate()
# ro.r('.libPaths("/home/jon/anaconda3/envs/spatial_analysis/lib/R/library")')
# ro.r("library(scran)")


# Define path
sample_id = "F07833"
segmentation_path = Path(
    "/mnt/c/Users/jonan/Documents/1Work/RoseLab/Spatial/"
    "dietary_droject/data/cell_segmentation/SegmentedData"
)
adata_path = segmentation_path / sample_id / f"{sample_id}_grouped_filtered_adata.h5ad"

# Load AnnData
ST_sample = sc.read_h5ad(adata_path)


# Identify mitochondrial genes (prefix 'MT-' for human)
ST_sample.var['mito'] = ST_sample.var_names.str.startswith('mt-')

#  Run QC metrics
sc.pp.calculate_qc_metrics(
    ST_sample, 
    qc_vars=['mito'], 
    inplace=True, 
    log1p=False
)

# sns.jointplot(
#     data=ST_sample.obs,
#     x="log1p_total_counts",
#     y="log1p_n_genes_by_counts",
#     kind="hex",
# )
# Sum the counts of mitochondrial genes for each cell
# ST_sample.obs['mito_counts'] = ST_sample[:, mito_genes].X.sum(axis=1).A1  # .A1 to flatten sparse matrix
# ST_sample.obs['total_counts'] = ST_sample.X.sum(axis=1).A1
# ST_sample.obs['percent_mito'] = 100 * ST_sample.obs['mito_counts'] / ST_sample.obs['total_counts']


import seaborn as sns
import matplotlib.pyplot as plt

sns.histplot(ST_sample.obs['total_counts'], bins=100)
plt.axvline(30, color='red', linestyle='--', label='min_counts=30')
plt.xlabel('Total UMI counts per cell')
plt.ylabel('Number of cells')
plt.legend()
plt.title('UMI count distribution before filtering')
plt.show()


import seaborn as sns
import matplotlib.pyplot as plt

sns.histplot(ST_sample.obs['total_counts'], bins=100)
plt.axvline(30, color='red', linestyle='--', label='min_counts=30')
plt.xlabel('Total UMI counts per cell')
plt.ylabel('Number of cells')
plt.legend()
plt.title('UMI count distribution before filtering')
plt.show()


sc.pl.scatter(ST_sample, x='total_counts', y='percent_mito')


sc.pp.filter_cells(ST_sample, min_counts=30)
sc.pp.filter_genes(ST_sample, min_cells=3)
ST_sample = ST_sample[
    (ST_sample.obs['total_counts'] >= 50) &
    (ST_sample.obs['pct_counts_mito'] <= 15)
].copy()


sc.pp.normalize_total(ST_sample, target_sum=1e4)
sc.pp.log1p(ST_sample)
sc.pp.highly_variable_genes(ST_sample, n_top_genes=2000, subset=True)

 # Regress out total_counts (and mt%) **per gene**
sc.pp.regress_out(
    ST_sample,
    keys=['total_counts', 'pct_counts_mito']  # choose one or more covariates
)

 # Scale so each gene has unit variance
sc.pp.scale(ST_sample, max_value=10)


sc.tl.pca(ST_sample, n_comps=30)
sc.pp.neighbors(ST_sample, n_neighbors=15, n_pcs=30)
sc.tl.leiden(ST_sample, resolution=0.5)
sc.tl.umap(ST_sample)
sc.pl.umap(ST_sample, color='leiden')









