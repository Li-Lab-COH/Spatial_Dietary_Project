import numpy as np
import pandas as pd
from scipy.sparse import issparse
from pathlib import Path
import scanpy as sc
import geopandas as gpd
from sklearn_ann.kneighbors.annoy import AnnoyTransformer
import matplotlib.pyplot as plt





# Define path
sample_id = "F07833"
segmentation_path = Path(
    "/mnt/c/Users/jonan/Documents/1Work/RoseLab/Spatial/"
    "dietary_droject/data/cell_segmentation/SegmentedData"
)
adata_path = segmentation_path / sample_id / f"{sample_id}_grouped_filtered_adata.h5ad"

# Load AnnData
ST_sample = sc.read_h5ad(adata_path)

# Load geo data
GDF_file = Path("/mnt/c/Users/jonan/Documents/1Work/RoseLab/Spatial/dietary_droject/data/cell_segmentation/SegmentedData/F07833/F07833_gdf.gpkg")
geo_file = gpd.read_file(GDF_file)


# Loading coordinates and samples
coords_file_dir = Path("/mnt/c/Users/jonan/Documents/1Work/RoseLab/Spatial/dietary_droject/code/addresses/sample_coords.csv")


# Identify mitochondrial genes (prefix 'MT-' for human)
ST_sample.var['mito'] = ST_sample.var_names.str.startswith('mt-')

#  Run QC metrics
sc.pp.calculate_qc_metrics(
    ST_sample, 
    qc_vars=['mito'], 
    inplace=True, 
    log1p=False
)



sc.pp.filter_cells(ST_sample, min_counts=30)
sc.pp.filter_genes(ST_sample, min_cells=1)
ST_sample = ST_sample[
    (ST_sample.obs['total_counts'] >= 50) &
    (ST_sample.obs['pct_counts_mito'] <= 15)
].copy()


sc.pp.normalize_total(ST_sample, target_sum=1e4)
sc.pp.log1p(ST_sample)
sc.pp.highly_variable_genes(ST_sample, n_top_genes=2000, subset=True)


import pandas as pd
import numpy as np
from pathlib import Path
from scipy import sparse

# 1) Expanded marker sets (mirroring your R lists)
marker_sets = {
    "nk_cell":                 ["Gzmb", "Ifng", "Prf1", "Ncr1", "Itga2"],
    "t_cell":                  ["Cd3e", "Cd4", "Cd8a", "Foxp3", "Tbx21", "Gzmk", "Il2ra", "Gzmb", "Prf1"],
    "tcr":                     ["Trac", "Trbc1", "Trbc2", "Trdc"],
    "b_cell":                  ["Cd19", "Cd79a", "Ms4a1", "Ighm", "Pax5", "Cd22"],
    "macrophage":              ["Adgre1", "Cd68", "Itgam", "Mrc1", "Tnf", "Il1b", "Csf1r"],
    "dendritic":               ["Itgax", "H2-Ab1", "Cd74", "Xcr1", "Cd86", "Batf3"],
    "mdsc":                    ["Ly6g", "Arg1", "Nos2", "S100a8", "S100a9"],
    "regulatory_t_cell":       ["Foxp3", "Il2ra", "Ctla4", "Tigit", "Ikzf2"],
    "exhausted_t_cell":        ["Pdcd1", "Ctla4", "Lag3", "Havcr2", "Tox"],
    "tam_anti_tumor":          ["Nos2", "Cd86", "Il12b"],
    "tam_pro_tumorigenic":     ["Mrc1", "Arg1"],
    "n1_neutrophil":           ["Cxcr3", "Il12b", "Nos2", "Tnf", "Il1b", "Ccl3", "Ccl4", "Ccl5", "Mpo"],
    "n2_neutrophil":           ["S100a8", "S100a9", "Arg1", "Tgfb1", "Vegfa"],
    "mast_cell":               ["Kit", "Fcer1a", "Mcpt1", "Cpa3"],
    "fibroblast_associated":   ["Fap", "Pdgfrb", "Col1a1", "Acta2"],
}

# 2) Flatten into one list
all_genes = [g for genes in marker_sets.values() for g in genes]

# 3) Count expressing cells
rows = []
for gene in all_genes:
    if gene in ST_sample.var_names:
        vec = ST_sample[:, gene].X
        if sparse.issparse(vec):
            vec = vec.toarray().flatten()
        else:
            vec = np.asarray(vec).flatten()
        count = int((vec > 0).sum())
    else:
        count = 0
    rows.append({"gene": gene, "n_cells_expressing": count})

# 4) Build DataFrame
df = pd.DataFrame(rows)

# 5) Save
outdir = Path(
    "/mnt/c/Users/jonan/Documents/1Work/RoseLab/Spatial/"
    "dietary_droject/data/cell_segmentation/SegmentedData/F07833/figures/LineageMarkers"
)
outdir.mkdir(parents=True, exist_ok=True)
df.to_csv(outdir / "marker_expression_counts.csv", index=False)

# 6) Display
print(df)



df


# Load your mouse S/G2M lists from JSON

outdir = "/mnt/c/Users/jonan/Documents/1Work/RoseLab/Spatial/dietary_droject/data/cell_typing_reference_from_pc/Gene_lists"
with open(f"{outdir}/cc_mouse_cycle_genes.json") as jf:
    cc = json.load(jf)
s_genes_mouse  = cc["s_genes"]
g2m_genes_mouse = cc["g2m_genes"]

# Scoring for S and g2m phases

sc.tl.score_genes_cell_cycle(
    ST_sample,
    s_genes   = s_genes_mouse,
    g2m_genes = g2m_genes_mouse,
    use_raw   = False   # if you have raw counts stored, you can set True
)



# Intersect
valid_genes = np.intersect1d(cc["s_genes"], ST_sample.var_names)
missing_genes = list(set(cc["s_genes"]) - set(valid_genes))

print(" Used genes:")
print(valid_genes)

print("\n Missing genes:")
print(missing_genes)



# Intersect
valid_genes = np.intersect1d(cc["g2m_genes"], ST_sample.var_names)
missing_genes = list(set(cc["g2m_genes"]) - set(valid_genes))

print(" Used genes:")
print(valid_genes)

print("\n Missing genes:")
print(missing_genes)






sc.pl.violin(ST_sample, ['S_score','G2M_score'], groupby='phase', jitter=0.4)
# sc.pl.umap(ST_sample, color='phase')


sc.pl.violin(ST_sample, ['S_score','G2M_score'], groupby='phase', jitter=0.4, size=0)


 # Regress out total_counts (and mt%) **per gene**
# sc.pp.regress_out(
#     ST_sample,
#     keys=['total_counts', 'pct_counts_mito']  # choose one or more covariates
# )

sc.pp.regress_out(
    ST_sample,
    keys=['total_counts', 'pct_counts_mito', 'S_score', 'G2M_score']
)


 # Scale so each gene has unit variance
sc.pp.scale(ST_sample, max_value=10)

sc.tl.pca(ST_sample, n_comps=15)
# sc.pp.neighbors(ST_sample, n_neighbors=15, n_pcs=15)

sc.pp.neighbors(
    ST_sample,
    n_neighbors=15,        # Lower = more asymmetry
    method='umap',         # Default graph construction method
    knn=True               # Ensures k-nearest neighbor graph (as opposed to full distance matrix)
)


sc.tl.leiden(
    ST_sample,
    resolution=0.6,
    flavor="leidenalg",
    directed=False,    # Undirected - forces a two way link
    n_iterations=2,
    random_state=1337
)


sc.settings.figdir = "/mnt/c/Users/jonan/Documents/1Work/RoseLab/Spatial/dietary_droject/data/cell_segmentation/SegmentedData/F07833/figures"
sc.tl.umap(ST_sample)
sc.pl.umap(ST_sample, color='leiden', save="_cell_cycle.png")






import scanpy as sc
import matplotlib.pyplot as plt
from pathlib import Path

# 1) Your detected genes (deduped)
genes = ["Col1a1", "Cd74", "Mrc1", "Acta2", "Pdgfrb", 
         "Gzmb", "Itgax", "Gzmk", "Mpo", "Mcpt1"]
genes = list(dict.fromkeys(genes))  # preserves order, drops duplicates

# 2) Filter present vs missing
present = [g for g in genes if g in ST_sample.var_names]
missing = set(genes) - set(present)
if missing:
    print(f"⚠️ Skipping missing genes: {sorted(missing)}")
if not present:
    raise ValueError("None of your detected genes are in var_names!")

# 3) Create output dir
outdir = Path(
    "/mnt/c/Users/jonan/Documents/1Work/RoseLab/Spatial/"
    "dietary_droject/data/cell_segmentation/SegmentedData/F07833/figures/"
) / "LineageMarkers" / "detected"
outdir.mkdir(parents=True, exist_ok=True)

# 4a) UMAP panel
sc.pl.umap(
    ST_sample,
    color=present,
    ncols=2,      # two columns; adjust as you like
    size=50,
    show=False
)
plt.tight_layout()
plt.savefig(outdir / "detected_genes_UMAP.png", dpi=300)
plt.close()

# 4b) Violin panel
sc.pl.violin(
    ST_sample,
    keys=present,
    groupby='leiden',
    jitter=0.4,
    multi_panel=True,  # one subplot per gene
    show=False
)
plt.tight_layout()
plt.savefig(outdir / "detected_genes_Violin.png", dpi=300)
plt.close()

print(f"✅ Plots saved in {outdir}")




marker_sets = {
    "t_cell":        ["Cd3e", "Cd4", "Cd8a", "Foxp3"],
    "tcr":           ["Trac", "Trbc1", "Trbc2", "Trdc"],
    "macrophage":    ["Adgre1", "Cd68", "Itgam", "Mrc1"],
    "dendritic":     ["Itgax", "H2-Ab1", "Cd74", "Xcr1", "Cd86"],
    "nk_cell":       ["Gzmb", "Ifng", "Prf1", "Ncr1", "Itga2"],
}

base_out = Path(
    "/mnt/c/Users/jonan/Documents/1Work/RoseLab/Spatial/"
    "dietary_droject/data/cell_segmentation/SegmentedData"
) / "F07833" / "figures" / "LineageMarkers"
base_out.mkdir(parents=True, exist_ok=True)

# 3) Loop and plot
for name, genes in marker_sets.items():
    outdir = base_out / name
    outdir.mkdir(exist_ok=True)

    # filter out genes not in var_names
    present = [g for g in genes if g in ST_sample.var_names]
    missing = set(genes) - set(present)
    if missing:
        print(f"Skipping {len(missing)} missing {name} markers: {sorted(missing)}")
    if not present:
        print(f"No valid {name} markers found in var_names — skipping.")
        continue

    
    # 3a) UMAP panel
    sc.pl.umap(
        ST_sample,
        color=genes,
        ncols=2,          # adjust to taste: number of columns in the grid
        size=50,
        show=False
    )
    plt.tight_layout()
    plt.savefig(outdir / f"{name}_UMAP_markers.png", dpi=300)
    plt.close()

    # 3b) Violin panel
    sc.pl.violin(
        ST_sample,
        keys=genes,
        groupby='leiden',
        jitter=0.4,
        multi_panel=True,  # one subplot per gene
        show=False
    )
    plt.tight_layout()
    plt.savefig(outdir / f"{name}_Violin_markers.png", dpi=300)
    plt.close()

















sc.tl.rank_genes_groups(
    ST_sample,
    groupby='leiden',       
    method='wilcoxon',      
    pts=True,                
    key_added='rank_genes'   
)

# Extract the top N genes for a specific cluster (e.g. cluster '2')
cluster = '12'
top_n = 40

# helper to get a DataFrame
deg_df = sc.get.rank_genes_groups_df(
    ST_sample,
    group=cluster,
    key='rank_genes'   # matches key_added above
)
top_deg = deg_df.head(top_n)
print(top_deg)

print(top_deg_manual)



import scanpy as sc
import pandas as pd

# 1) Make sure you’ve clustered and have a 'leiden' (or other) column in adata.obs
#    e.g. adata.obs['leiden'] contains cluster assignments.

# 2) Run differential expression for all clusters at once
sc.tl.rank_genes_groups(
    ST_sample,
    groupby='leiden',        # column in adata.obs to test
    method='wilcoxon',       # or 't-test', 'logreg'
    pts=True,                # compute fraction of cells expressing the gene
    key_added='rank_genes'   # name for the result in adata.uns
)

# 3) Extract the top N genes for a specific cluster (e.g. cluster '2')
cluster = '8'
top_n = 20

# Option A: use the helper to get a DataFrame
deg_df = sc.get.rank_genes_groups_df(
    ST_sample,
    group=cluster,
    key='rank_genes'   # matches key_added above
)
top_deg = deg_df.head(top_n)
print(top_deg)

# Option B: manually pull from adata.uns
uns = ST_sample.uns['rank_genes']
genes = uns['names'][cluster][:top_n]
logfc = uns['logfoldchanges'][cluster][:top_n]
pvals = uns['pvals_adj'][cluster][:top_n]
pct1  = uns['pts'][cluster][:top_n]       # pct expressing in cluster
pct2  = uns['pts_rest'][cluster][:top_n]  # pct in other cells

top_deg_manual = pd.DataFrame({
    'gene': genes,
    'log2FC': logfc,
    'pval_adj': pvals,
    'pct_cluster': pct1,
    'pct_rest': pct2
})
print(top_deg_manual)






# Make figures of umi side by side in umap


sc.settings.figdir = "/mnt/c/Users/jonan/Documents/1Work/RoseLab/Spatial/dietary_droject/data/cell_segmentation/SegmentedData/F07833/figures"

# Run Leiden clustering and UMAP
sc.tl.leiden(ST_sample, resolution=0.6)
sc.tl.umap(ST_sample)

# Save the UMAP plot
sc.pl.umap(ST_sample, color='leiden', save="_leiden_umap.png")


list(range(5, 31, 5))


for pcs in list(range(5, 31, 5)):
    sc.tl.pca(ST_sample, n_comps=pcs)
    sc.pp.neighbors(ST_sample, n_neighbors=15, n_pcs=pcs)
    sc.tl.leiden(ST_sample, resolution=0.5, key_added=f'leiden_pcs{pcs}')

sc.pl.umap(ST_sample, color=['leiden_pcs5', 'leiden_pcs20'])














import seaborn as sns
import matplotlib.pyplot as plt

sns.histplot(ST_sample.obs['total_counts'], bins=100)
plt.axvline(30, color='red', linestyle='--', label='min_counts=30')
plt.xlabel('Total UMI counts per cell')
plt.ylabel('Number of cells')
plt.legend()
plt.title('UMI count distribution before filtering')
plt.show()


import seaborn as sns
import matplotlib.pyplot as plt

sns.histplot(ST_sample.obs['total_counts'], bins=100)
plt.axvline(30, color='red', linestyle='--', label='min_counts=30')
plt.xlabel('Total UMI counts per cell')
plt.ylabel('Number of cells')
plt.legend()
plt.title('UMI count distribution before filtering')
plt.show()


sc.pl.scatter(ST_sample, x='total_counts', y='percent_mito')


sc.pl.scatter(ST_sample, x='total_counts', y='percent_mito')
