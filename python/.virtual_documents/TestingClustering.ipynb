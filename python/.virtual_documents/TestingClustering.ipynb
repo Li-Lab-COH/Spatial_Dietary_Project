import numpy as np
import pandas as pd
from scipy.sparse import issparse
from pathlib import Path
import scanpy as sc
import geopandas as gpd
from sklearn_ann.kneighbors.annoy import AnnoyTransformer






# Define path
sample_id = "F07833"
segmentation_path = Path(
    "/mnt/c/Users/jonan/Documents/1Work/RoseLab/Spatial/"
    "dietary_droject/data/cell_segmentation/SegmentedData"
)
adata_path = segmentation_path / sample_id / f"{sample_id}_grouped_filtered_adata.h5ad"

# Load AnnData
ST_sample = sc.read_h5ad(adata_path)

# Load geo data
GDF_file = Path("/mnt/c/Users/jonan/Documents/1Work/RoseLab/Spatial/dietary_droject/data/cell_segmentation/SegmentedData/F07833/F07833_gdf.gpkg")
geo_file = gpd.read_file(GDF_file)


# Identify mitochondrial genes (prefix 'MT-' for human)
ST_sample.var['mito'] = ST_sample.var_names.str.startswith('mt-')

#  Run QC metrics
sc.pp.calculate_qc_metrics(
    ST_sample, 
    qc_vars=['mito'], 
    inplace=True, 
    log1p=False
)



sc.pp.filter_cells(ST_sample, min_counts=30)
sc.pp.filter_genes(ST_sample, min_cells=3)
ST_sample = ST_sample[
    (ST_sample.obs['total_counts'] >= 50) &
    (ST_sample.obs['pct_counts_mito'] <= 15)
].copy()


sc.pp.normalize_total(ST_sample, target_sum=1e4)
sc.pp.log1p(ST_sample)
sc.pp.highly_variable_genes(ST_sample, n_top_genes=2000, subset=True)


# Load your mouse S/G2M lists from JSON

outdir = "/mnt/c/Users/jonan/Documents/1Work/RoseLab/Spatial/dietary_droject/data/cell_typing_reference_from_pc/Gene_lists"
with open(f"{outdir}/cc_mouse_cycle_genes.json") as jf:
    cc = json.load(jf)
s_genes_mouse  = cc["s_genes"]
g2m_genes_mouse = cc["g2m_genes"]

# Scoring for S and g2m phases

sc.tl.score_genes_cell_cycle(
    ST_sample,
    s_genes   = s_genes_mouse,
    g2m_genes = g2m_genes_mouse,
    use_raw   = False   # if you have raw counts stored, you can set True
)



sc.pl.violin(ST_sample, ['S_score','G2M_score'], groupby='phase', jitter=0.4)
# sc.pl.umap(ST_sample, color='phase')


sc.pl.violin(ST_sample, ['S_score','G2M_score'], groupby='phase', jitter=0.4, size=0)


 # Regress out total_counts (and mt%) **per gene**
# sc.pp.regress_out(
#     ST_sample,
#     keys=['total_counts', 'pct_counts_mito']  # choose one or more covariates
# )

sc.pp.regress_out(
    ST_sample,
    keys=['total_counts', 'pct_counts_mito', 'S_score', 'G2M_score']
)


 # Scale so each gene has unit variance
sc.pp.scale(ST_sample, max_value=10)

sc.tl.pca(ST_sample, n_comps=15)
# sc.pp.neighbors(ST_sample, n_neighbors=15, n_pcs=15)

sc.pp.neighbors(
    ST_sample,
    n_neighbors=15,        # Lower = more asymmetry
    method='umap',         # Default graph construction method
    knn=True               # Ensures k-nearest neighbor graph (as opposed to full distance matrix)
)


sc.tl.leiden(
    ST_sample,
    resolution=0.6,
    flavor="leidenalg",
    directed=False,    # Undirected - forces a two way link
    n_iterations=2,
    random_state=1337
)


sc.settings.figdir = "/mnt/c/Users/jonan/Documents/1Work/RoseLab/Spatial/dietary_droject/data/cell_segmentation/SegmentedData/F07833/figures"
sc.tl.umap(ST_sample)
sc.pl.umap(ST_sample, color='leiden', save="_cell_cycle.png")



import scanpy as sc
import pandas as pd

# 1) Make sure you’ve clustered and have a 'leiden' (or other) column in adata.obs
#    e.g. adata.obs['leiden'] contains cluster assignments.

# 2) Run differential expression for all clusters at once
sc.tl.rank_genes_groups(
    ST_sample,
    groupby='leiden',        # column in adata.obs to test
    method='wilcoxon',       # or 't-test', 'logreg'
    pts=True,                # compute fraction of cells expressing the gene
    key_added='rank_genes'   # name for the result in adata.uns
)

# 3) Extract the top N genes for a specific cluster (e.g. cluster '2')
cluster = '11'
top_n = 40

# Option A: use the helper to get a DataFrame
deg_df = sc.get.rank_genes_groups_df(
    ST_sample,
    group=cluster,
    key='rank_genes'   # matches key_added above
)
top_deg = deg_df.head(top_n)
print(top_deg)

# Option B: manually pull from adata.uns
uns = ST_sample.uns['rank_genes']
genes = uns['names'][cluster][:top_n]
logfc = uns['logfoldchanges'][cluster][:top_n]
pvals = uns['pvals_adj'][cluster][:top_n]
pct1  = uns['pts'][cluster][:top_n]       # pct expressing in cluster
pct2  = uns['pts_rest'][cluster][:top_n]  # pct in other cells

top_deg_manual = pd.DataFrame({
    'gene': genes,
    'log2FC': logfc,
    'pval_adj': pvals,
    'pct_cluster': pct1,
    'pct_rest': pct2
})
print(top_deg_manual)



import scanpy as sc
import pandas as pd

# 1) Make sure you’ve clustered and have a 'leiden' (or other) column in adata.obs
#    e.g. adata.obs['leiden'] contains cluster assignments.

# 2) Run differential expression for all clusters at once
sc.tl.rank_genes_groups(
    ST_sample,
    groupby='leiden',        # column in adata.obs to test
    method='wilcoxon',       # or 't-test', 'logreg'
    pts=True,                # compute fraction of cells expressing the gene
    key_added='rank_genes'   # name for the result in adata.uns
)

# 3) Extract the top N genes for a specific cluster (e.g. cluster '2')
cluster = '8'
top_n = 20

# Option A: use the helper to get a DataFrame
deg_df = sc.get.rank_genes_groups_df(
    ST_sample,
    group=cluster,
    key='rank_genes'   # matches key_added above
)
top_deg = deg_df.head(top_n)
print(top_deg)

# Option B: manually pull from adata.uns
uns = ST_sample.uns['rank_genes']
genes = uns['names'][cluster][:top_n]
logfc = uns['logfoldchanges'][cluster][:top_n]
pvals = uns['pvals_adj'][cluster][:top_n]
pct1  = uns['pts'][cluster][:top_n]       # pct expressing in cluster
pct2  = uns['pts_rest'][cluster][:top_n]  # pct in other cells

top_deg_manual = pd.DataFrame({
    'gene': genes,
    'log2FC': logfc,
    'pval_adj': pvals,
    'pct_cluster': pct1,
    'pct_rest': pct2
})
print(top_deg_manual)






# Make figures of umi side by side in umap


sc.settings.figdir = "/mnt/c/Users/jonan/Documents/1Work/RoseLab/Spatial/dietary_droject/data/cell_segmentation/SegmentedData/F07833/figures"

# Run Leiden clustering and UMAP
sc.tl.leiden(ST_sample, resolution=0.6)
sc.tl.umap(ST_sample)

# Save the UMAP plot
sc.pl.umap(ST_sample, color='leiden', save="_leiden_umap.png")


list(range(5, 31, 5))


for pcs in list(range(5, 31, 5)):
    sc.tl.pca(ST_sample, n_comps=pcs)
    sc.pp.neighbors(ST_sample, n_neighbors=15, n_pcs=pcs)
    sc.tl.leiden(ST_sample, resolution=0.5, key_added=f'leiden_pcs{pcs}')

sc.pl.umap(ST_sample, color=['leiden_pcs5', 'leiden_pcs20'])














import seaborn as sns
import matplotlib.pyplot as plt

sns.histplot(ST_sample.obs['total_counts'], bins=100)
plt.axvline(30, color='red', linestyle='--', label='min_counts=30')
plt.xlabel('Total UMI counts per cell')
plt.ylabel('Number of cells')
plt.legend()
plt.title('UMI count distribution before filtering')
plt.show()


import seaborn as sns
import matplotlib.pyplot as plt

sns.histplot(ST_sample.obs['total_counts'], bins=100)
plt.axvline(30, color='red', linestyle='--', label='min_counts=30')
plt.xlabel('Total UMI counts per cell')
plt.ylabel('Number of cells')
plt.legend()
plt.title('UMI count distribution before filtering')
plt.show()


sc.pl.scatter(ST_sample, x='total_counts', y='percent_mito')


sc.pl.scatter(ST_sample, x='total_counts', y='percent_mito')
