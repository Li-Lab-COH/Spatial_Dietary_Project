import scanpy as sc
from pathlib import Path
import geopandas as gpd
import matplotlib.pyplot as plt


import importlib
import visualization_helper
importlib.reload(visualization_helper)



segmentation_path = Path(
    "/mnt/c/Users/jonan/Documents/1Work/"
    "RoseLab/Spatial/dietary_droject/"
    "data/cell_segmentation/SegmentedData"
)

sample_name = "F07833"

output_root = segmentation_path / sample_name
mdl_output = output_root / "model_output"
fig_output = output_root / "figures"



import matplotlib.pyplot as plt

# Define output path
area_fig_path = fig_output / "F07833_nuclei_area_distribution.png"

# Plotting function for nuclei area distribution and save it
def plot_nuclei_area(gdf, area_cut_off, save_path=None):
    fig, axs = plt.subplots(1, 2, figsize=(15, 4))

    # Plot full area distribution
    axs[0].hist(gdf['area'], bins=50, edgecolor='black')
    axs[0].set_title('Nuclei Area')

    # Plot filtered area distribution
    axs[1].hist(gdf[gdf['area'] < area_cut_off]['area'], bins=50, edgecolor='black')
    axs[1].set_title(f'Nuclei Area Filtered: < {area_cut_off}')

    plt.tight_layout()
    
    # Save or show
    if save_path:
        plt.savefig(save_path, dpi=300, bbox_inches='tight')
        plt.close()
        print(f"Nuclei area distribution figure saved at:\n{save_path}")
    else:
        plt.show()

# Run it
sc.pp.calculate_qc_metrics(adata, inplace=True)
plot_nuclei_area(gdf=geo_file, area_cut_off=40, save_path=area_fig_path)






# Load the saved AnnData file
file_path = Path("/mnt/c/Users/jonan/Documents/1Work/RoseLab/Spatial/dietary_droject/data/cell_segmentation/SegmentedData/F07833/F07833_grouped_filtered_adata.h5ad")
GDF_file = Path("/mnt/c/Users/jonan/Documents/1Work/RoseLab/Spatial/dietary_droject/data/cell_segmentation/SegmentedData/F07833/F07833_gdf.gpkg")
adata = sc.read_h5ad(file_path)
geo_file = gpd.read_file(GDF_file)





sc.pp.calculate_qc_metrics(adata, inplace=True)
plot_nuclei_area(gdf = geo_file, area_cut_off=40)


import matplotlib.pyplot as plt

# 1. Compute total UMI counts per nucleus from the AnnData object
total_umis = adata.X.sum(axis=1).A1  # flatten sparse matrix
adata.obs['total_umis'] = total_umis

# 2. Merge with geometry data from GeoPackage
gdf_umi = geo_file.merge(adata.obs[['total_umis']], left_on='id', right_index=True)

# 3. Plot polygons colored by total UMI count
fig, ax = plt.subplots(figsize=(10, 10))
gdf_umi.plot(column='total_umis',
             cmap='inferno',
             legend=True,
             linewidth=0.1,
             edgecolor='black',
             ax=ax)

ax.set_title("UMI Counts per Nucleus (F07833)", fontsize=14)
ax.axis('off')
plt.tight_layout()
plt.show()



import matplotlib.pyplot as plt
import os

# Define output path
output_dir = Path("/mnt/c/Users/jonan/Documents/1Work/RoseLab/Spatial/dietary_droject/data/cell_segmentation/SegmentedData/F07833/figures")
output_file = output_dir / "F07833_umi_per_nucleus.png"

# Ensure directory exists
output_dir.mkdir(parents=True, exist_ok=True)

# Plot and save
fig, ax = plt.subplots(figsize=(10, 10))
gdf_umi.plot(column='total_umis',
             cmap='inferno',
             legend=True,
             linewidth=0.1,
             edgecolor='black',
             ax=ax)

ax.set_title("UMI Counts per Nucleus (F07833)", fontsize=14)
ax.axis('off')
plt.tight_layout()

# Save high-resolution image
plt.savefig(output_file, dpi=600, bbox_inches='tight')
plt.close()

print(f"UMI heatmap saved to:\n{output_file}")



# Filter GeoDataFrame for nuclei with 100 or more UMIs
gdf_umi_filtered = gdf_umi[gdf_umi['total_umis'] >= 50]

# Define output path
filtered_output_file = output_dir / "F07833_umi_per_nucleus_filtered_50.png"

# Plot and save
fig, ax = plt.subplots(figsize=(10, 10))
gdf_umi_filtered.plot(column='total_umis',
                      cmap='inferno',
                      legend=True,
                      linewidth=0.1,
                      edgecolor='black',
                      ax=ax)

ax.set_title("Nuclei with ≥70 UMIs (F07833)", fontsize=14)
ax.axis('off')
plt.tight_layout()

# Save high-resolution image
plt.savefig(filtered_output_file, dpi=600, bbox_inches='tight')
plt.close()

print(f"Filtered UMI heatmap saved to:\n{filtered_output_file}")



# Adjust the prefix as needed depending on your organism (MT- for human, mt- for mouse)
mito_genes = adata.var_names.str.startswith('MT-')
# Sum the counts of mitochondrial genes for each cell
adata.obs['mito_counts'] = adata[:, mito_genes].X.sum(axis=1).A1  # .A1 to flatten sparse matrix
adata.obs['total_counts'] = adata.X.sum(axis=1).A1
adata.obs['percent_mito'] = 100 * adata.obs['mito_counts'] / adata.obs['total_counts']

adata_filtered = adata[
    (adata.obs['total_counts'] >= 70) &
    (adata.obs['percent_mito'] <= 15)
].copy()



import scanpy as sc

# Start with a copy to preserve your original data
adata_qc = adata_filtered.copy()

# Step 1: Just log-transform raw counts (NO normalize_total)
sc.pp.log1p(adata_qc)

# Step 2: Identify highly variable genes
sc.pp.highly_variable_genes(adata_qc, n_top_genes=2000, subset=True)

# Step 3: Scale (optional but useful for PCA-based neighborhood graph)
sc.pp.scale(adata_qc, max_value=10)

# Step 4: PCA
sc.tl.pca(adata_qc, svd_solver='arpack')

# Step 5: Neighbors and embedding
sc.pp.neighbors(adata_qc, n_neighbors=8, n_pcs=30)  # Or 10, 20
sc.tl.umap(adata_qc)

# Step 6: UMAP visualization
sc.pl.umap(adata_qc, color=['total_counts', 'percent_mito'], size=40)



import matplotlib.pyplot as plt
from pathlib import Path

# Define the path to save the figure
fig_output = Path("/mnt/c/Users/jonan/Documents/1Work/RoseLab/Spatial/dietary_droject/data/cell_segmentation/SegmentedData/F07833/figures/")
fig_output.mkdir(parents=True, exist_ok=True)  # Ensure directory exists

# Plot and save the UMAP
sc.pl.umap(
    adata_qc,
    color=['total_counts', 'percent_mito'],
    size=40,
    show=False  # Prevent display in Jupyter if running there
)

# Save the figure
umap_path = fig_output / "F07833_umap_total_counts_percent_mito.png"
plt.savefig(umap_path, dpi=300, bbox_inches='tight')
plt.close()

print(f"UMAP figure saved at:\n{umap_path}")


# Step 1: Run Leiden clustering (you can adjust resolution)
sc.tl.leiden(adata_qc, resolution=0.6)  # Try 0.3–1.0 depending on how fine-grained you want

# Step 2: Plot UMAP with clusters
sc.pl.umap(
    adata_qc,
    color='leiden',
    size=40,
    legend_loc='on data',
    show=False  # To save instead of display
)

# Step 3: Save the figure
cluster_umap_path = fig_output / "F07833_umap_leiden_clusters.png"
plt.savefig(cluster_umap_path, dpi=300, bbox_inches='tight')
plt.close()

print(f"Clustered UMAP figure saved at:\n{cluster_umap_path}")






# Total Count Normalization + Log1p
adata_norm1 = adata_filtered.copy()

sc.pp.normalize_total(adata_norm1, target_sum=1e6, exclude_highly_expressed=True)
sc.pp.log1p(adata_norm1)
# keep genes expressed in ≥3 cells
sc.pp.filter_genes(adata_norm1, min_cells=3)
sc.pp.highly_variable_genes(adata_norm1, n_top_genes=2000, subset=True)
sc.pp.scale(adata_norm1, max_value=10)
sc.tl.pca(adata_norm1)
sc.pp.neighbors(adata_norm1,
               n_neighbors= 7,
               n_pcs = 15)
sc.tl.umap(adata_norm1)
sc.tl.leiden(adata_norm1, resolution=0.6)

sc.pl.umap(adata_norm1, color=['leiden'], title='Total Count + Log1p Normalization', size=40)



sc.tl.rank_genes_groups(adata_norm1, groupby='leiden', method='wilcoxon')



marker_df = sc.get.rank_genes_groups_df(adata_norm1, group=None, log2fc_min=0.25, pval_cutoff=0.05)
top20_df = marker_df.groupby('group').head(20)

top20_df.head()


output_path = "/mnt/c/Users/jonan/Documents/1Work/RoseLab/Spatial/dietary_droject/data/cell_segmentation/top20_marker_genes.csv"
top20_df.to_csv(output_path, index=False)
print(f"Saved marker genes to: {output_path}")











# Log1p Only (Your Current Method)
adata_norm2 = adata_filtered.copy()

sc.pp.log1p(adata_norm2)
sc.pp.highly_variable_genes(adata_norm2, n_top_genes=2000, subset=True)
sc.pp.scale(adata_norm2, max_value=10)
sc.tl.pca(adata_norm2)
sc.pp.neighbors(adata_norm2)
sc.tl.umap(adata_norm2)
sc.tl.leiden(adata_norm2, resolution=0.5)

sc.pl.umap(adata_norm2, color=['leiden'], title='Log1p Only', size=40)












# CPM Normalization + Log1p
adata_norm3 = adata_filtered.copy()

adata_norm3.X = adata_norm3.X / adata_norm3.X.sum(axis=1, keepdims=True) * 1e6
sc.pp.log1p(adata_norm3)
sc.pp.highly_variable_genes(adata_norm3, n_top_genes=2000, subset=True)
sc.pp.scale(adata_norm3, max_value=10)
sc.tl.pca(adata_norm3)
sc.pp.neighbors(adata_norm3)
sc.tl.umap(adata_norm3)
sc.tl.leiden(adata_norm3, resolution=0.5)

sc.pl.umap(adata_norm3, color=['leiden'], title='CPM + Log1p', size=40)

