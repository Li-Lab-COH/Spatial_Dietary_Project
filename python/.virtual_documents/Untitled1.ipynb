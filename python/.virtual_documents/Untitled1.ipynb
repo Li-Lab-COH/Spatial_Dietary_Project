%pip install pybiomart


# 1) Your human cell-cycle lists, as Python lists: - This was obtained from R:
# s.human   <- cc.genes.updated.2019$s.genes
# g2m.human <- cc.genes.updated.2019$g2m.genes
s_genes_human = [
    "MCM5","PCNA","TYMS","FEN1","MCM7","MCM4","RRM1","UNG",
    "GINS2","MCM6","CDCA7","DTL","PRIM1","UHRF1","CENPU","HELLS",
    "RFC2","POLR1B","NASP","RAD51AP1","GMNN","WDR76","SLBP","CCNE2",
    "UBR7","POLD3","MSH2","ATAD2","RAD51","RRM2","CDC45","CDC6",
    "EXO1","TIPIN","DSCC1","BLM","CASP8AP2","USP1","CLSPN","POLA1",
    "CHAF1B","MRPL36","E2F8"
]

g2m_genes_human = [
    "HMGB2","CDK1","NUSAP1","UBE2C","BIRC5","TPX2","TOP2A","NDC80",
    "CKS2","NUF2","CKS1B","MKI67","TMPO","CENPF","TACC3","PIMREG",
    "SMC4","CCNB2","CKAP2L","CKAP2","AURKB","BUB1","KIF11","ANP32E",
    "TUBB4B","GTSE1","KIF20B","HJURP","CDCA3","JPT1","CDC20","TTK",
    "CDC25C","KIF2C","RANGAP1","NCAPD2","DLGAP5","CDCA2","CDCA8",
    "ECT2","KIF23","HMMR","AURKA","PSRC1","ANLN","LBR","CKAP5",
    "CENPE","CTCF","NEK2","G2E3","GAS2L3","CBX5","CENPA"
]

# 2) Map to mouse using mygene.info’s Homologene service
from mygene import MyGeneInfo
mg = MyGeneInfo()


from pybiomart import Dataset

# Load human dataset from Ensembl
human = Dataset(name='hsapiens_gene_ensembl', host='http://www.ensembl.org')

# Query for mouse orthologs
results = human.query(
    attributes=[
        'external_gene_name',
        'mmusculus_homolog_associated_gene_name'
    ]
)

# Drop missing
results = results.dropna()
results.columns = ['human_gene', 'mouse_gene']

# Create mapping dict
human_to_mouse = dict(zip(results['human_gene'], results['mouse_gene']))

# Filter your gene lists
s_genes_mouse = sorted({human_to_mouse[gene] for gene in s_genes_human if gene in human_to_mouse})
g2m_genes_mouse = sorted({human_to_mouse[gene] for gene in g2m_genes_human if gene in human_to_mouse})

print(f"Mapped {len(s_genes_mouse)} S-phase genes, {len(g2m_genes_mouse)} G2M-phase genes to mouse.")



s_genes_human


s_genes_mouse


g2m_genes_human


g2m_genes_mouse


import json
import os

# Define output directory
outdir = "/mnt/c/Users/jonan/Documents/1Work/RoseLab/Spatial/dietary_droject/data/cell_typing_reference_from_pc/Gene_lists"

# Ensure the directory exists
os.makedirs(outdir, exist_ok=True)

# Write JSON dict
with open(os.path.join(outdir, "cc_mouse_cycle_genes.json"), "w") as jf:
    json.dump({
        "s_genes": s_genes_mouse,
        "g2m_genes": g2m_genes_mouse
    }, jf, indent=2)

# Write plain text files
with open(os.path.join(outdir, "s_genes_mouse.txt"), "w") as f:
    f.write("\n".join(s_genes_mouse))

with open(os.path.join(outdir, "g2m_genes_mouse.txt"), "w") as f:
    f.write("\n".join(g2m_genes_mouse))

print("Files written to:", outdir)

