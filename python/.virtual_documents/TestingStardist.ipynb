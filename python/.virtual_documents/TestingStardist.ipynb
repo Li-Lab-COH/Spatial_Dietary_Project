from stardist.models import StarDist2D

# prints a list of available models
StarDist2D.from_pretrained()

# creates a pretrained model
model = StarDist2D.from_pretrained('2D_versatile_fluo')


from stardist.data import test_image_nuclei_2d
from stardist.plot import render_label
from csbdeep.utils import normalize
import matplotlib.pyplot as plt

img = test_image_nuclei_2d()

labels, _ = model.predict_instances(normalize(img))

plt.subplot(1,2,1)
plt.imshow(img, cmap="gray")
plt.axis("off")
plt.title("input image")

plt.subplot(1,2,2)
plt.imshow(render_label(labels, img=img))
plt.axis("off")
plt.title("prediction + input overlay")


from stardist.data import test_image_nuclei_2d

img = test_image_nuclei_2d()
print("Image shape (NumPy):", img.shape)


from PIL import Image
img_pil = Image.fromarray(img)  # convert NumPy array to PIL image if necessary
print("Image size (PIL):", img_pil.size)  # returns (width, height)















from stardist.models import StarDist2D
from stardist.data import test_image_nuclei_2d
from stardist.plot import render_label
from csbdeep.utils import normalize
import matplotlib.pyplot as plt
import numpy as np

# Load and normalize test image
img = normalize(test_image_nuclei_2d())

# Ensure it's a proper contiguous float32 numpy array
img = np.ascontiguousarray(img, dtype=np.float32)

# Load pretrained model
model = StarDist2D.from_pretrained('2D_versatile_fluo')

# Predict
labels, _ = model.predict_instances(img)

# Display
plt.subplot(1, 2, 1)
plt.imshow(img, cmap="gray")
plt.axis("off")
plt.title("Input Image")

plt.subplot(1, 2, 2)
plt.imshow(render_label(labels, img=img))
plt.axis("off")
plt.title("Prediction + Overlay")
plt.show()



import pandas as pd
import numpy as np
import matplotlib.pyplot as plt
import anndata
import geopandas as gpd
import scanpy as sc


from tifffile import imread, imwrite
from csbdeep.utils import normalize
from stardist.models import StarDist2D
from shapely.geometry import Polygon, Point
from scipy import sparse
from matplotlib.colors import ListedColormap

%matplotlib inline
%config InlineBackend.figure_format = 'retina'


import visualization_helper



