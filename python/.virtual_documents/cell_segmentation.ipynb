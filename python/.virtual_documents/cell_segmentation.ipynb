import pandas as pd
import numpy as np
import matplotlib.pyplot as plt
import anndata
import geopandas as gpd
import scanpy as sc
import visualization_helper # Custom helper functions 
from PIL import Image # Converting image

from tifffile import imread, imwrite
from csbdeep.utils import normalize
from stardist.models import StarDist2D
from shapely.geometry import Polygon, Point
from scipy import sparse
from matplotlib.colors import ListedColormap

%matplotlib inline
%config InlineBackend.figure_format = 'retina'




import tensorflow as tf

gpus = tf.config.list_physical_devices('GPU')
for gpu in gpus:
    details = tf.config.experimental.get_device_details(gpu)
    print(f"GPU: {gpu.name}")
    print(details)



import subprocess

def print_gpu_memory():
    output = subprocess.check_output(['nvidia-smi']).decode('utf-8')
    print(output)

print_gpu_memory()


def stardist_2D_versatile_he(img, nms_thresh=None, prob_thresh=None):
    # axis_norm = (0,1)   # normalize channels independently
    axis_norm = (0, 1, 2)  # normalize channels jointly
    # Make sure to normalize the input image beforehand or supply a normalizer to the prediction function.
    # this is the default normalizer noted in StarDist examples.
    img = normalize(img, 1, 99.8, axis=axis_norm)
    model = StarDist2D.from_pretrained("2D_versatile_he")
    labels, _ = model.predict_instances(
        img, nms_thresh=nms_thresh, prob_thresh=prob_thresh
    )
    return labels


dir_base = (
    '/mnt/c/Users/jonan/Documents/1Work/RoseLab/Spatial/'
    'dietary_droject/data/Rose_Li_VisiumHD/'
    'BANOSSM_SSM0015_1_PR_Whole_C1_VISHD_F07833_22WJCYLT3/outs/spatial/'
)


filename = 'tissue_hires_image.png'

img_pil = Image.open(dir_base + filename).convert("RGB")
img_np = np.array(img_pil)

# Normalize across all channels
img_norm = normalize(img_np, 1, 99.8, axis=(0, 1, 2))
print(img_np.shape)



from stardist.models import StarDist2D

model = StarDist2D.from_pretrained("2D_versatile_he")
help(model.predict_instances)


# Run StarDist segmentation
model = StarDist2D.from_pretrained("2D_versatile_he")
model_scale = 7
labels, _ = model.predict_instances(img_norm,               # Default values
                                    scale= model_scale,     # 1
                                    n_tiles = (20, 20, 1),  # 
                                    prob_thresh
                                    show_tile_progress=True)


import matplotlib.pyplot as plt
import os

# Output directory
img_dir = (
    '/mnt/c/Users/jonan/Documents/1Work/RoseLab/'
    'Spatial/dietary_droject/figures/cell_segmentation/'
)
os.makedirs(img_dir, exist_ok=True)
filename = 'stardist_overlay_scale_' + str(model_scale) + '.png'
output_path = os.path.join(img_dir, filename)

# output_path = os.path.join(img_dir, 'stardist_overlay_scale_', model_scale, '.png')

# === Parameters to TUNE ===
segmentation_alpha = 0.4  # transparency of segmentation (0 = fully transparent, 1 = fully opaque)
cmap_segmentation = 'cividis'  # you can change this if you prefer other color schemes

# === Plot H&E background and segmentation overlay ===
plt.figure(figsize=(15, 15))
plt.imshow(img_np)  # show H&E image
plt.imshow(labels, cmap=cmap_segmentation, alpha=segmentation_alpha)  # overlay with alpha
plt.axis('off')
plt.title("StarDist Segmentation Over H&E")

# Save high-resolution overlay image
plt.savefig(output_path, dpi=300, bbox_inches='tight', pad_inches=0)
plt.close()

print(f"Overlay saved at:\n{output_path}")






print(img_pil.size)  # returns (width, height)
print(img_np.shape) 


dir_base + filename






