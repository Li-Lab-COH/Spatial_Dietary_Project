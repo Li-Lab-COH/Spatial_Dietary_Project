import scanpy as sc
from pathlib import Path
import geopandas as gpd
import matplotlib.pyplot as plt


Path(
    "/mnt/c/Users/jonan/Documents/1Work/"
    "RoseLab/Spatial/dietary_droject/"
    "data/Rose_Li_VisiumHD/"
    "BANOSSM_SSM0015_1_PR_Whole_C1_VISHD_F07833_22WJCYLT3"
)






