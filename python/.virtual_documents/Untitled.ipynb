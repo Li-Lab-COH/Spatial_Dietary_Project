import numpy as np
import pandas as pd
from scipy.sparse import issparse
from pathlib import Path
import scanpy as sc
import geopandas as gpd


from mygene import MyGeneInfo


# Define path
sample_id = "F07833"
segmentation_path = Path(
    "/mnt/c/Users/jonan/Documents/1Work/RoseLab/Spatial/"
    "dietary_droject/data/cell_segmentation/SegmentedData"
)
adata_path = segmentation_path / sample_id / f"{sample_id}_grouped_filtered_adata.h5ad"

# Load AnnData
ST_sample = sc.read_h5ad(adata_path)

# Load geo data
GDF_file = Path("/mnt/c/Users/jonan/Documents/1Work/RoseLab/Spatial/dietary_droject/data/cell_segmentation/SegmentedData/F07833/F07833_gdf.gpkg")
geo_file = gpd.read_file(GDF_file)


from scanpy.datasets import cell_cycle
s_genes, g2m_genes = cell_cycle()       # these are human symbols

# Upper‑case to match your AnnData
var_up = ST_sample.var_names.str.upper()
s_mouse   = [g.upper() for g in s_genes   if g.upper()   in var_up]
g2m_mouse = [g.upper() for g in g2m_genes if g.upper() in var_up]

print(f"{len(s_mouse)} / {len(s_genes)} S‑genes found in your data")
print(f"{len(g2m_mouse)} / {len(g2m_genes)} G2/M‑genes found in your data")



import scanpy as sc
print(sc.__version__)


sc.tl.score_genes


# ribo_genes = ST_sample.var_names.str.startswith(('RPS','RPL'))
ribo_genes = ST_sample.var_names.str.upper().str.startswith(('RPS','RPL'))
# ST_sample.var['ribo'] = ribo_genes


# sc.pp.calculate_qc_metrics(
#     ST_sample,
#     qc_vars=['ribo'],
#     inplace=True
# )


ST_sample.var_names


sum(ribo_genes)


ST_sample.var['ribo'].describe()


var_up


ST_sample.shape


# Case-normalize and match
var_up = ST_sample.var_names.str.upper()
ribo_genes = var_up.str.startswith(('RP'))

# Pull the matched gene names (original case)
matched_genes = ST_sample.var_names[ribo_genes]
print(matched_genes)


var_up = ST_sample.var_names.str.upper()
ribo_genes = var_up.str.startswith(('RPS','RPL'))
print(f"{ribo_genes.sum()} ribosomal genes flagged")
# ST_sample.var['ribo'] = ribo_genes


ribo_genes


ribo_genes


var_up


[r for r in ['Rpl13a', 'Rps3', 'Rplp1', 'Rps6'] if r in ST_sample.var_names]



any(ST_sample.var_names.str.upper().str.startswith('RPL'))


any(ST_sample.var_names.str.upper().str.startswith('RPS'))
