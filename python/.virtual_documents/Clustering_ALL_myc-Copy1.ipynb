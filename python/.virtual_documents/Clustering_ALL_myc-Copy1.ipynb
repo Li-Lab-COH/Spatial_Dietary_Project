import numpy as np
import pandas as pd
from scipy.sparse import issparse
from pathlib import Path
import scanpy as sc
import geopandas as gpd
from sklearn_ann.kneighbors.annoy import AnnoyTransformer
# to install %pip install -q "scanpy" "sklearn-ann[annoy]"
import matplotlib.pyplot as plt



segmentation_path = Path(
    "/mnt/c/Users/jonan/Documents/1Work/RoseLab/Spatial/"
    "dietary_droject/data/cell_segmentation"
)
full_data_path = segmentation_path / "concatenated"
adata_file     = full_data_path / "combined_adata.h5ad"

# where to dump CSVs of top markers
hvg_dir = full_data_path / "analysis" / "HVG"
hvg_dir.mkdir(parents=True, exist_ok=True)

# path to your cell-cycle gene lists
geneList = (
    "/mnt/c/Users/jonan/Documents/1Work/RoseLab/Spatial/"
    "dietary_droject/data/cell_typing_reference_from_pc/Gene_lists"
)

# Load data
ST_sample = sc.read_h5ad(adata_file)


# 1. Print number of cells BEFORE subsetting
print(f"Before subsetting: {ST_sample.n_obs} cells")

# 2. Define the samples you want to keep
samples_to_keep = ['F07837', 'F07838']

# 3. Perform subsetting
ST_sample = ST_sample[ST_sample.obs['sample_id'].isin(samples_to_keep)].copy()

# 4. Print number of cells AFTER subsetting
print(f"After subsetting: {ST_sample.n_obs} cells")

# 5. Quick sanity check: Which sample_ids are present now?
print("Remaining sample_ids:", ST_sample.obs['sample_id'].unique())


# Cleaning
# Identify mitochondrial genes (prefix 'MT-' for human)
ST_sample.var['mito'] = ST_sample.var_names.str.startswith('mt-')

#  Run QC metrics
sc.pp.calculate_qc_metrics(
    ST_sample, 
    qc_vars=['mito'], 
    inplace=True, 
    log1p=False
)

sc.pp.filter_cells(ST_sample, min_counts=30)
sc.pp.filter_genes(ST_sample, min_cells=5)
ST_sample = ST_sample[
    (ST_sample.obs['total_counts'] >= 50) &
    (ST_sample.obs['pct_counts_mito'] <= 15)
].copy()


# normalize + log1p
sc.pp.normalize_total(ST_sample, target_sum=1e4)
sc.pp.log1p(ST_sample)


#Cell-cycle scoring
with open(f"{geneList}/cc_mouse_cycle_genes.json") as jf:
    cc = json.load(jf)
s_genes_mouse   = cc["s_genes"]
g2m_genes_mouse = cc["g2m_genes"]


sc.tl.score_genes_cell_cycle(
    ST_sample,
    s_genes   = s_genes_mouse,
    g2m_genes = g2m_genes_mouse,
    use_raw   = False
)


# HVG selection
sc.pp.highly_variable_genes(
    ST_sample,
    n_top_genes=2000,
    flavor="seurat_v3",
    batch_key="TMA"
)
ST_sample = ST_sample[:, ST_sample.var['highly_variable']].copy()


sc.pp.regress_out(
    ST_sample,
    keys=['total_counts', 'pct_counts_mito', 'S_score', 'G2M_score']
)


 # Scale so each gene has unit variance
sc.pp.scale(ST_sample, max_value=10)


# PCA with randomized SVD
n_pcs = 80
sc.tl.pca(ST_sample, n_comps=n_pcs, svd_solver="randomized")


sc.pl.pca_variance_ratio(ST_sample, n_pcs=n_pcs, log=True)


# sc.pp.neighbors(
#     ST_sample,
#     n_neighbors=15,        # Lower = more asymmetry
#     method='umap',         # Default graph construction method
#     knn=True               # Ensures k-nearest neighbor graph (as opposed to full distance matrix)
# )
# Memory efficient
sc.pp.neighbors(
    ST_sample,
    n_neighbors=20,
    n_pcs=20,  
    transformer=AnnoyTransformer(n_trees=100),
    method="umap",
    knn=True
)








sc.tl.leiden(
    ST_sample,
    resolution=0.6,
    flavor="igraph",
    directed=False,    # Undirected - forces a two way link
    n_iterations=2,
    random_state=1337
)


sc.tl.umap(
    ST_sample,
    init_pos='random',  # instead of 'spectral'
    maxiter=200
)


ST_sample.obs.columns





sc.pl.umap(
    ST_sample,
    color='leiden',    # color by your leiden clusters
    palette='tab20',   # nice large color palette
    size=5,            # small dots for large datasets (~1M cells)
    frameon=False,
    title='Leiden Clustering (Resolution 0.6)'
)


# rsc.tl.umap(
#     ST_sample,
#     min_dist=0.5,
#     spread=1.0,
#     n_components=2,
#     maxiter=250,     # default 500
#     init_pos='random', # or 'spectral'
#     random_state=1337
#     # key_added="X_umap_gpu" # If I want to differentiate between embeddings
# )


# Saving UMAP results

# ST_sample.obsm['X_umap_leiden_res0_6'] = ST_sample.obsm['X_umap'].copy()

# # optionally delete the original if you want:
# del ST_sample.obsm['X_umap']

# ST_sample.write(full_data_path / "analysis" / "combined_processed_with_umap.h5ad")





sc.tl.rank_genes_groups(
    ST_sample,
    groupby='leiden',         # your clustering
    method='wilcoxon',        # robust non-parametric test
    pts=True,                 # calculate % of cells expressing
    key_added='rank_genes'    # store under a custom key
)



# Define output directory
marker_out_dir = full_data_path / "analysis" / "HVG"
marker_out_dir.mkdir(parents=True, exist_ok=True)

# Get all Leiden cluster labels
clusters = ST_sample.obs['leiden'].unique().tolist()

# For each cluster
for cluster in clusters:
    # Extract marker genes for that cluster
    deg_df = sc.get.rank_genes_groups_df(
        ST_sample,
        group=cluster,
        key='rank_genes'
    )
    
    # Pick top 50 genes (you can change this)
    top_deg = deg_df.head(50)

    # Save to CSV
    out_path = marker_out_dir / f"cluster_{cluster}_top50_markers.csv"
    top_deg.to_csv(out_path, index=False)
    
    print(f"Saved markers for cluster {cluster} → {out_path}")
