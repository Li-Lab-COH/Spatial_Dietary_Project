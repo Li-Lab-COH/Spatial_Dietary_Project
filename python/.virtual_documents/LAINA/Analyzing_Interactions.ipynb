import sys
sys.path.append("/mnt/c/Users/jonan/Documents/1Work/RoseLab/Spatial/stutils")


import anndata as ad
import squidpy as sq
import cellcharter as cc #ML
import pandas as pd
import scanpy as sc
import liana as li
import seaborn as sns
import matplotlib.pyplot as plt
from pathlib import Path
import os
from pypath import omnipath
import decoupler as dc
import geopandas as gpd



# import interact_pull
# import importlib
# importlib.reload(interact_pull)
from stutils.interact_pull import pull_interactions  # Re-import to get the updated definition



# If I want to reload
importlib.reload(interact_pull)


import interact_pull
print(dir(interact_pull))



base_folder = Path(f"/mnt/c/Users/jonan/Documents/1Work/RoseLab/Spatial/dietary_droject/")

adata_file = base_folder / "data" / "cell_segmentation" / "concatenated" / "combined_adata.h5ad"
laina_results_dir = base_folder / "results" / "LIANA"

ST_sample = sc.read_h5ad(adata_file)




ST_sample.obsm['spatial']


# pull_interactions(ST_sample, sample, li)





bad_samples = ["7_CRRT", "29_LFRT"]
all_interactions = []

for mouse_name in ST_sample.obs['mouse'].unique():
    if mouse_name in bad_samples:
        print(f"Skipping bad sample: {mouse_name}")
        continue

    print(f"Running on mouse {mouse_name}")
    try:
        df = pull_interactions(ST_sample, mouse_name, li)
        all_interactions.append(df)
    except Exception as e:
        print(f"Failed on {mouse_name}: {e}")


master_df = pd.concat(all_interactions, ignore_index=True)


master_file = laina_results_dir / "master_df_ligand.csv"
master_df.to_csv(master_file, index=False)





from collections import defaultdict

condition_sets = (
    master_df.groupby("condition")["interaction"]
    .apply(set)
    .to_dict()
)



unique_by_condition = {}

for condition, interactions in condition_sets.items():
    others = set().union(*[v for k, v in condition_sets.items() if k != condition])
    unique_interactions = interactions - others
    unique_by_condition[condition] = unique_interactions



unique_rows = []

for cond, uniq_set in unique_by_condition.items():
    subset = master_df[(master_df['condition'] == cond) & (master_df['interaction'].isin(uniq_set))].copy()
    subset['unique_to_condition'] = True
    unique_rows.append(subset)

unique_df = pd.concat(unique_rows, ignore_index=True)



unique_df.to_csv("/mnt/c/Users/jonan/Documents/1Work/RoseLab/Spatial/CAR_T/Results/unique_ligand_interactions_by_condition.csv", index=False)
