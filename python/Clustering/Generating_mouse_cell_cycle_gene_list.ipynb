{
 "cells": [
  {
   "cell_type": "code",
   "execution_count": 12,
   "id": "e47ebee1-630f-4dcb-9dc7-d81105b7158e",
   "metadata": {},
   "outputs": [
    {
     "name": "stdout",
     "output_type": "stream",
     "text": [
      "/bin/bash: /home/jon/anaconda3/lib/libtinfo.so.6: no version information available (required by /bin/bash)\n",
      "Collecting pybiomart\n",
      "  Downloading pybiomart-0.2.0-py3-none-any.whl.metadata (1.1 kB)\n",
      "Collecting future (from pybiomart)\n",
      "  Downloading future-1.0.0-py3-none-any.whl.metadata (4.0 kB)\n",
      "Requirement already satisfied: pandas in /home/jon/anaconda3/envs/spatial_analysis/lib/python3.10/site-packages (from pybiomart) (2.2.3)\n",
      "Collecting requests (from pybiomart)\n",
      "  Using cached requests-2.32.3-py3-none-any.whl.metadata (4.6 kB)\n",
      "Collecting requests-cache (from pybiomart)\n",
      "  Downloading requests_cache-1.2.1-py3-none-any.whl.metadata (9.9 kB)\n",
      "Requirement already satisfied: numpy>=1.22.4 in /home/jon/anaconda3/envs/spatial_analysis/lib/python3.10/site-packages (from pandas->pybiomart) (2.2.5)\n",
      "Requirement already satisfied: python-dateutil>=2.8.2 in /home/jon/anaconda3/envs/spatial_analysis/lib/python3.10/site-packages (from pandas->pybiomart) (2.9.0.post0)\n",
      "Requirement already satisfied: pytz>=2020.1 in /home/jon/anaconda3/envs/spatial_analysis/lib/python3.10/site-packages (from pandas->pybiomart) (2025.2)\n",
      "Requirement already satisfied: tzdata>=2022.7 in /home/jon/anaconda3/envs/spatial_analysis/lib/python3.10/site-packages (from pandas->pybiomart) (2025.2)\n",
      "Collecting charset-normalizer<4,>=2 (from requests->pybiomart)\n",
      "  Using cached charset_normalizer-3.4.1-cp310-cp310-manylinux_2_17_x86_64.manylinux2014_x86_64.whl.metadata (35 kB)\n",
      "Requirement already satisfied: idna<4,>=2.5 in /home/jon/anaconda3/envs/spatial_analysis/lib/python3.10/site-packages (from requests->pybiomart) (3.10)\n",
      "Collecting urllib3<3,>=1.21.1 (from requests->pybiomart)\n",
      "  Using cached urllib3-2.4.0-py3-none-any.whl.metadata (6.5 kB)\n",
      "Requirement already satisfied: certifi>=2017.4.17 in /home/jon/anaconda3/envs/spatial_analysis/lib/python3.10/site-packages (from requests->pybiomart) (2025.1.31)\n",
      "Collecting attrs>=21.2 (from requests-cache->pybiomart)\n",
      "  Using cached attrs-25.3.0-py3-none-any.whl.metadata (10 kB)\n",
      "Collecting cattrs>=22.2 (from requests-cache->pybiomart)\n",
      "  Downloading cattrs-24.1.3-py3-none-any.whl.metadata (8.4 kB)\n",
      "Requirement already satisfied: platformdirs>=2.5 in /home/jon/anaconda3/envs/spatial_analysis/lib/python3.10/site-packages (from requests-cache->pybiomart) (4.3.7)\n",
      "Collecting url-normalize>=1.4 (from requests-cache->pybiomart)\n",
      "  Downloading url_normalize-2.2.0-py3-none-any.whl.metadata (4.9 kB)\n",
      "Requirement already satisfied: exceptiongroup>=1.1.1 in /home/jon/anaconda3/envs/spatial_analysis/lib/python3.10/site-packages (from cattrs>=22.2->requests-cache->pybiomart) (1.2.2)\n",
      "Requirement already satisfied: typing-extensions!=4.6.3,>=4.1.0 in /home/jon/anaconda3/envs/spatial_analysis/lib/python3.10/site-packages (from cattrs>=22.2->requests-cache->pybiomart) (4.13.2)\n",
      "Requirement already satisfied: six>=1.5 in /home/jon/anaconda3/envs/spatial_analysis/lib/python3.10/site-packages (from python-dateutil>=2.8.2->pandas->pybiomart) (1.17.0)\n",
      "Downloading pybiomart-0.2.0-py3-none-any.whl (10 kB)\n",
      "Downloading future-1.0.0-py3-none-any.whl (491 kB)\n",
      "Using cached requests-2.32.3-py3-none-any.whl (64 kB)\n",
      "Downloading requests_cache-1.2.1-py3-none-any.whl (61 kB)\n",
      "Using cached attrs-25.3.0-py3-none-any.whl (63 kB)\n",
      "Downloading cattrs-24.1.3-py3-none-any.whl (66 kB)\n",
      "Using cached charset_normalizer-3.4.1-cp310-cp310-manylinux_2_17_x86_64.manylinux2014_x86_64.whl (146 kB)\n",
      "Downloading url_normalize-2.2.0-py3-none-any.whl (14 kB)\n",
      "Using cached urllib3-2.4.0-py3-none-any.whl (128 kB)\n",
      "Installing collected packages: urllib3, url-normalize, future, charset-normalizer, attrs, requests, cattrs, requests-cache, pybiomart\n",
      "Successfully installed attrs-25.3.0 cattrs-24.1.3 charset-normalizer-3.4.1 future-1.0.0 pybiomart-0.2.0 requests-2.32.3 requests-cache-1.2.1 url-normalize-2.2.0 urllib3-2.4.0\n",
      "Note: you may need to restart the kernel to use updated packages.\n"
     ]
    }
   ],
   "source": [
    "%pip install pybiomart"
   ]
  },
  {
   "cell_type": "code",
   "execution_count": 3,
   "id": "b93a6f08-d472-4893-ab73-ac604f323986",
   "metadata": {},
   "outputs": [],
   "source": [
    "# 1) Your human cell-cycle lists, as Python lists: - This was obtained from R:\n",
    "# s.human   <- cc.genes.updated.2019$s.genes\n",
    "# g2m.human <- cc.genes.updated.2019$g2m.genes\n",
    "s_genes_human = [\n",
    "    \"MCM5\",\"PCNA\",\"TYMS\",\"FEN1\",\"MCM7\",\"MCM4\",\"RRM1\",\"UNG\",\n",
    "    \"GINS2\",\"MCM6\",\"CDCA7\",\"DTL\",\"PRIM1\",\"UHRF1\",\"CENPU\",\"HELLS\",\n",
    "    \"RFC2\",\"POLR1B\",\"NASP\",\"RAD51AP1\",\"GMNN\",\"WDR76\",\"SLBP\",\"CCNE2\",\n",
    "    \"UBR7\",\"POLD3\",\"MSH2\",\"ATAD2\",\"RAD51\",\"RRM2\",\"CDC45\",\"CDC6\",\n",
    "    \"EXO1\",\"TIPIN\",\"DSCC1\",\"BLM\",\"CASP8AP2\",\"USP1\",\"CLSPN\",\"POLA1\",\n",
    "    \"CHAF1B\",\"MRPL36\",\"E2F8\"\n",
    "]\n",
    "\n",
    "g2m_genes_human = [\n",
    "    \"HMGB2\",\"CDK1\",\"NUSAP1\",\"UBE2C\",\"BIRC5\",\"TPX2\",\"TOP2A\",\"NDC80\",\n",
    "    \"CKS2\",\"NUF2\",\"CKS1B\",\"MKI67\",\"TMPO\",\"CENPF\",\"TACC3\",\"PIMREG\",\n",
    "    \"SMC4\",\"CCNB2\",\"CKAP2L\",\"CKAP2\",\"AURKB\",\"BUB1\",\"KIF11\",\"ANP32E\",\n",
    "    \"TUBB4B\",\"GTSE1\",\"KIF20B\",\"HJURP\",\"CDCA3\",\"JPT1\",\"CDC20\",\"TTK\",\n",
    "    \"CDC25C\",\"KIF2C\",\"RANGAP1\",\"NCAPD2\",\"DLGAP5\",\"CDCA2\",\"CDCA8\",\n",
    "    \"ECT2\",\"KIF23\",\"HMMR\",\"AURKA\",\"PSRC1\",\"ANLN\",\"LBR\",\"CKAP5\",\n",
    "    \"CENPE\",\"CTCF\",\"NEK2\",\"G2E3\",\"GAS2L3\",\"CBX5\",\"CENPA\"\n",
    "]\n",
    "\n",
    "# 2) Map to mouse using mygene.info’s Homologene service\n",
    "from mygene import MyGeneInfo\n",
    "mg = MyGeneInfo()"
   ]
  },
  {
   "cell_type": "code",
   "execution_count": 13,
   "id": "46df9dfd-94dd-4f8c-9199-d0f38fb1146f",
   "metadata": {},
   "outputs": [
    {
     "name": "stdout",
     "output_type": "stream",
     "text": [
      "Mapped 41 S-phase genes, 54 G2M-phase genes to mouse.\n"
     ]
    }
   ],
   "source": [
    "from pybiomart import Dataset\n",
    "\n",
    "# Load human dataset from Ensembl\n",
    "human = Dataset(name='hsapiens_gene_ensembl', host='http://www.ensembl.org')\n",
    "\n",
    "# Query for mouse orthologs\n",
    "results = human.query(\n",
    "    attributes=[\n",
    "        'external_gene_name',\n",
    "        'mmusculus_homolog_associated_gene_name'\n",
    "    ]\n",
    ")\n",
    "\n",
    "# Drop missing\n",
    "results = results.dropna()\n",
    "results.columns = ['human_gene', 'mouse_gene']\n",
    "\n",
    "# Create mapping dict\n",
    "human_to_mouse = dict(zip(results['human_gene'], results['mouse_gene']))\n",
    "\n",
    "# Filter your gene lists\n",
    "s_genes_mouse = sorted({human_to_mouse[gene] for gene in s_genes_human if gene in human_to_mouse})\n",
    "g2m_genes_mouse = sorted({human_to_mouse[gene] for gene in g2m_genes_human if gene in human_to_mouse})\n",
    "\n",
    "print(f\"Mapped {len(s_genes_mouse)} S-phase genes, {len(g2m_genes_mouse)} G2M-phase genes to mouse.\")\n"
   ]
  },
  {
   "cell_type": "code",
   "execution_count": 15,
   "id": "e7415b6d-417d-4eb4-af0a-8e19fcfc2400",
   "metadata": {},
   "outputs": [
    {
     "data": {
      "text/plain": [
       "['MCM5',\n",
       " 'PCNA',\n",
       " 'TYMS',\n",
       " 'FEN1',\n",
       " 'MCM7',\n",
       " 'MCM4',\n",
       " 'RRM1',\n",
       " 'UNG',\n",
       " 'GINS2',\n",
       " 'MCM6',\n",
       " 'CDCA7',\n",
       " 'DTL',\n",
       " 'PRIM1',\n",
       " 'UHRF1',\n",
       " 'CENPU',\n",
       " 'HELLS',\n",
       " 'RFC2',\n",
       " 'POLR1B',\n",
       " 'NASP',\n",
       " 'RAD51AP1',\n",
       " 'GMNN',\n",
       " 'WDR76',\n",
       " 'SLBP',\n",
       " 'CCNE2',\n",
       " 'UBR7',\n",
       " 'POLD3',\n",
       " 'MSH2',\n",
       " 'ATAD2',\n",
       " 'RAD51',\n",
       " 'RRM2',\n",
       " 'CDC45',\n",
       " 'CDC6',\n",
       " 'EXO1',\n",
       " 'TIPIN',\n",
       " 'DSCC1',\n",
       " 'BLM',\n",
       " 'CASP8AP2',\n",
       " 'USP1',\n",
       " 'CLSPN',\n",
       " 'POLA1',\n",
       " 'CHAF1B',\n",
       " 'MRPL36',\n",
       " 'E2F8']"
      ]
     },
     "execution_count": 15,
     "metadata": {},
     "output_type": "execute_result"
    }
   ],
   "source": [
    "s_genes_human"
   ]
  },
  {
   "cell_type": "code",
   "execution_count": 14,
   "id": "8c87d4dc-d96f-4e52-9cef-f6cf4333bac8",
   "metadata": {},
   "outputs": [
    {
     "data": {
      "text/plain": [
       "['Blm',\n",
       " 'Casp8ap2',\n",
       " 'Ccne2',\n",
       " 'Cdc45',\n",
       " 'Cdc6',\n",
       " 'Cdca7',\n",
       " 'Cenpu',\n",
       " 'Chaf1b',\n",
       " 'Clspn',\n",
       " 'Dscc1',\n",
       " 'Dtl',\n",
       " 'E2f8',\n",
       " 'Exo1',\n",
       " 'Fen1',\n",
       " 'Gins2',\n",
       " 'Gmnn',\n",
       " 'Hells',\n",
       " 'Mcm4',\n",
       " 'Mcm5',\n",
       " 'Mcm6',\n",
       " 'Mcm7',\n",
       " 'Mrpl36',\n",
       " 'Msh2',\n",
       " 'Nasp',\n",
       " 'Pcna',\n",
       " 'Pola1',\n",
       " 'Polr1b',\n",
       " 'Prim1',\n",
       " 'Rad51',\n",
       " 'Rad51ap1',\n",
       " 'Rfc2',\n",
       " 'Rrm1',\n",
       " 'Rrm2',\n",
       " 'Slbp',\n",
       " 'Tipin',\n",
       " 'Tyms',\n",
       " 'Ubr7',\n",
       " 'Uhrf1',\n",
       " 'Ung',\n",
       " 'Usp1',\n",
       " 'Wdr76']"
      ]
     },
     "execution_count": 14,
     "metadata": {},
     "output_type": "execute_result"
    }
   ],
   "source": [
    "s_genes_mouse"
   ]
  },
  {
   "cell_type": "code",
   "execution_count": 18,
   "id": "7d5e56a3-3b07-4c21-a7a6-25aac402adab",
   "metadata": {},
   "outputs": [
    {
     "data": {
      "text/plain": [
       "['HMGB2',\n",
       " 'CDK1',\n",
       " 'NUSAP1',\n",
       " 'UBE2C',\n",
       " 'BIRC5',\n",
       " 'TPX2',\n",
       " 'TOP2A',\n",
       " 'NDC80',\n",
       " 'CKS2',\n",
       " 'NUF2',\n",
       " 'CKS1B',\n",
       " 'MKI67',\n",
       " 'TMPO',\n",
       " 'CENPF',\n",
       " 'TACC3',\n",
       " 'PIMREG',\n",
       " 'SMC4',\n",
       " 'CCNB2',\n",
       " 'CKAP2L',\n",
       " 'CKAP2',\n",
       " 'AURKB',\n",
       " 'BUB1',\n",
       " 'KIF11',\n",
       " 'ANP32E',\n",
       " 'TUBB4B',\n",
       " 'GTSE1',\n",
       " 'KIF20B',\n",
       " 'HJURP',\n",
       " 'CDCA3',\n",
       " 'JPT1',\n",
       " 'CDC20',\n",
       " 'TTK',\n",
       " 'CDC25C',\n",
       " 'KIF2C',\n",
       " 'RANGAP1',\n",
       " 'NCAPD2',\n",
       " 'DLGAP5',\n",
       " 'CDCA2',\n",
       " 'CDCA8',\n",
       " 'ECT2',\n",
       " 'KIF23',\n",
       " 'HMMR',\n",
       " 'AURKA',\n",
       " 'PSRC1',\n",
       " 'ANLN',\n",
       " 'LBR',\n",
       " 'CKAP5',\n",
       " 'CENPE',\n",
       " 'CTCF',\n",
       " 'NEK2',\n",
       " 'G2E3',\n",
       " 'GAS2L3',\n",
       " 'CBX5',\n",
       " 'CENPA']"
      ]
     },
     "execution_count": 18,
     "metadata": {},
     "output_type": "execute_result"
    }
   ],
   "source": [
    "g2m_genes_human"
   ]
  },
  {
   "cell_type": "code",
   "execution_count": 19,
   "id": "1735344c-9209-4b57-8f4f-0c2ac961670d",
   "metadata": {},
   "outputs": [
    {
     "data": {
      "text/plain": [
       "['Anln',\n",
       " 'Anp32e',\n",
       " 'Aurka',\n",
       " 'Aurkb',\n",
       " 'Birc5',\n",
       " 'Bub1',\n",
       " 'Cbx5',\n",
       " 'Ccnb2',\n",
       " 'Cdc20',\n",
       " 'Cdc25c',\n",
       " 'Cdca2',\n",
       " 'Cdca3',\n",
       " 'Cdca8',\n",
       " 'Cdk1',\n",
       " 'Cenpa',\n",
       " 'Cenpe',\n",
       " 'Cenpf',\n",
       " 'Ckap2',\n",
       " 'Ckap2l',\n",
       " 'Ckap5',\n",
       " 'Cks1b',\n",
       " 'Cks2',\n",
       " 'Ctcf',\n",
       " 'Dlgap5',\n",
       " 'Ect2',\n",
       " 'G2e3',\n",
       " 'Gas2l3',\n",
       " 'Gtse1',\n",
       " 'Hjurp',\n",
       " 'Hmgb2',\n",
       " 'Hmmr',\n",
       " 'Jpt1',\n",
       " 'Kif11',\n",
       " 'Kif20b',\n",
       " 'Kif23',\n",
       " 'Kif2c',\n",
       " 'Lbr',\n",
       " 'Mki67',\n",
       " 'Ncapd2',\n",
       " 'Ndc80',\n",
       " 'Nek2',\n",
       " 'Nuf2',\n",
       " 'Nusap1',\n",
       " 'Pimreg',\n",
       " 'Psrc1',\n",
       " 'Rangap1',\n",
       " 'Smc4',\n",
       " 'Tacc3',\n",
       " 'Tmpo',\n",
       " 'Top2a',\n",
       " 'Tpx2',\n",
       " 'Ttk',\n",
       " 'Tubb4b',\n",
       " 'Ube2c']"
      ]
     },
     "execution_count": 19,
     "metadata": {},
     "output_type": "execute_result"
    }
   ],
   "source": [
    "g2m_genes_mouse"
   ]
  },
  {
   "cell_type": "code",
   "execution_count": 20,
   "id": "a463f9f3-853d-45fc-b367-bb5509cd900b",
   "metadata": {},
   "outputs": [
    {
     "name": "stdout",
     "output_type": "stream",
     "text": [
      "Files written to: /mnt/c/Users/jonan/Documents/1Work/RoseLab/Spatial/dietary_droject/data/cell_typing_reference_from_pc/Gene_lists\n"
     ]
    }
   ],
   "source": [
    "import json\n",
    "import os\n",
    "\n",
    "# Define output directory\n",
    "outdir = \"/mnt/c/Users/jonan/Documents/1Work/RoseLab/Spatial/dietary_droject/data/cell_typing_reference_from_pc/Gene_lists\"\n",
    "\n",
    "# Ensure the directory exists\n",
    "os.makedirs(outdir, exist_ok=True)\n",
    "\n",
    "# Write JSON dict\n",
    "with open(os.path.join(outdir, \"cc_mouse_cycle_genes.json\"), \"w\") as jf:\n",
    "    json.dump({\n",
    "        \"s_genes\": s_genes_mouse,\n",
    "        \"g2m_genes\": g2m_genes_mouse\n",
    "    }, jf, indent=2)\n",
    "\n",
    "# Write plain text files\n",
    "with open(os.path.join(outdir, \"s_genes_mouse.txt\"), \"w\") as f:\n",
    "    f.write(\"\\n\".join(s_genes_mouse))\n",
    "\n",
    "with open(os.path.join(outdir, \"g2m_genes_mouse.txt\"), \"w\") as f:\n",
    "    f.write(\"\\n\".join(g2m_genes_mouse))\n",
    "\n",
    "print(\"Files written to:\", outdir)\n"
   ]
  }
 ],
 "metadata": {
  "kernelspec": {
   "display_name": "Python (spatial_analysis)",
   "language": "python",
   "name": "spatial_analysis"
  },
  "language_info": {
   "codemirror_mode": {
    "name": "ipython",
    "version": 3
   },
   "file_extension": ".py",
   "mimetype": "text/x-python",
   "name": "python",
   "nbconvert_exporter": "python",
   "pygments_lexer": "ipython3",
   "version": "3.10.17"
  }
 },
 "nbformat": 4,
 "nbformat_minor": 5
}
